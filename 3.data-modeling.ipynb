{
 "cells": [
  {
   "cell_type": "markdown",
   "id": "9cbf0920-2918-4cdc-8cc4-8900623b0e0c",
   "metadata": {},
   "source": [
    "# Modelagem dos dados"
   ]
  },
  {
   "cell_type": "markdown",
   "id": "fc927be8-1c96-4dba-9737-286b5fc93b37",
   "metadata": {},
   "source": [
    "Neste notebook, foram realizadas as seguintes etapas:\n",
    "* Feature selection\n",
    "* Modelagem dos dados\n",
    "* Fine tuning\n",
    "* Avaliação do modelo"
   ]
  },
  {
   "cell_type": "markdown",
   "id": "28054ba5-267c-4595-bfb6-d66ee5f2148f",
   "metadata": {},
   "source": [
    "# 1. Bibliotecas"
   ]
  },
  {
   "cell_type": "code",
   "execution_count": 48,
   "id": "3819ee68-ab7f-4dc5-aace-056d515a0d17",
   "metadata": {},
   "outputs": [],
   "source": [
    "# Manipulação de dados\n",
    "import pandas as pd\n",
    "import numpy as np\n",
    "\n",
    "# Visualização de Dados\n",
    "import matplotlib.pyplot as plt\n",
    "import seaborn as sns\n",
    "\n",
    "# Seleção de Features\n",
    "from sklearn.feature_selection import SelectKBest, f_classif, chi2\n",
    "\n",
    "# Modelos de Machine Learning\n",
    "from sklearn.linear_model import LogisticRegression\n",
    "from sklearn.ensemble import RandomForestClassifier\n",
    "from sklearn.svm import SVC, LinearSVC\n",
    "from sklearn.tree import DecisionTreeClassifier\n",
    "from xgboost import XGBClassifier\n",
    "from sklearn.dummy import DummyClassifier\n",
    "\n",
    "# Hiperparâmetros\n",
    "from sklearn.model_selection import RandomizedSearchCV\n",
    "\n",
    "# Avaliação de Modelos\n",
    "from sklearn.metrics import classification_report, roc_auc_score, roc_curve, precision_recall_curve\n",
    "from sklearn.metrics import confusion_matrix, ConfusionMatrixDisplay\n",
    "from scipy.stats import ks_2samp # KS2\n",
    "from sklearn.model_selection import cross_val_score\n",
    "#import scikitplot as skplt\n",
    "#from scikitplot.metrics import plot_roc"
   ]
  },
  {
   "cell_type": "code",
   "execution_count": 2,
   "id": "1a6a1d10-5ce7-447b-afb4-a4befd1b1d98",
   "metadata": {},
   "outputs": [],
   "source": [
    "import warnings\n",
    "warnings.filterwarnings(\"ignore\")"
   ]
  },
  {
   "cell_type": "markdown",
   "id": "3c696737-0b4b-4f41-b829-60c43f925fb7",
   "metadata": {},
   "source": [
    "# 2. Importação dos dados"
   ]
  },
  {
   "cell_type": "code",
   "execution_count": 3,
   "id": "e8751fb9-5643-499f-87a6-a66b1136134d",
   "metadata": {},
   "outputs": [],
   "source": [
    "X_train_transformed = pd.read_csv('outputs/X_train_transformed.csv')\n",
    "y_train = pd.read_csv('outputs/y_train.csv')\n",
    "X_test_transformed = pd.read_csv('outputs/X_test_transformed.csv')\n",
    "y_test = pd.read_csv('outputs/y_test.csv')"
   ]
  },
  {
   "cell_type": "code",
   "execution_count": 4,
   "id": "bee0f5c3-7783-4645-8446-3ab18799340f",
   "metadata": {},
   "outputs": [
    {
     "data": {
      "text/html": [
       "<div>\n",
       "<style scoped>\n",
       "    .dataframe tbody tr th:only-of-type {\n",
       "        vertical-align: middle;\n",
       "    }\n",
       "\n",
       "    .dataframe tbody tr th {\n",
       "        vertical-align: top;\n",
       "    }\n",
       "\n",
       "    .dataframe thead th {\n",
       "        text-align: right;\n",
       "    }\n",
       "</style>\n",
       "<table border=\"1\" class=\"dataframe\">\n",
       "  <thead>\n",
       "    <tr style=\"text-align: right;\">\n",
       "      <th></th>\n",
       "      <th>num__Age</th>\n",
       "      <th>num__Annual_Income</th>\n",
       "      <th>num__Monthly_Inhand_Salary</th>\n",
       "      <th>num__Num_Bank_Accounts</th>\n",
       "      <th>num__Num_Credit_Card</th>\n",
       "      <th>num__Interest_Rate</th>\n",
       "      <th>num__Num_of_Loan</th>\n",
       "      <th>num__Changed_Credit_Limit</th>\n",
       "      <th>num__Num_Credit_Inquiries</th>\n",
       "      <th>num__Outstanding_Debt</th>\n",
       "      <th>...</th>\n",
       "      <th>num__Credit_History_Age</th>\n",
       "      <th>num__Total_EMI_per_month</th>\n",
       "      <th>num__Amount_invested_monthly</th>\n",
       "      <th>num__Monthly_Balance</th>\n",
       "      <th>cat__Month</th>\n",
       "      <th>cat__Occupation</th>\n",
       "      <th>cat__Type_of_Loan</th>\n",
       "      <th>cat__Credit_Mix</th>\n",
       "      <th>cat__Payment_of_Min_Amount</th>\n",
       "      <th>cat__Payment_Behaviour</th>\n",
       "    </tr>\n",
       "  </thead>\n",
       "  <tbody>\n",
       "    <tr>\n",
       "      <th>0</th>\n",
       "      <td>0.141176</td>\n",
       "      <td>0.246939</td>\n",
       "      <td>0.240899</td>\n",
       "      <td>0.015837</td>\n",
       "      <td>0.005910</td>\n",
       "      <td>0.006613</td>\n",
       "      <td>0.917431</td>\n",
       "      <td>0.336171</td>\n",
       "      <td>0.003470</td>\n",
       "      <td>0.104952</td>\n",
       "      <td>...</td>\n",
       "      <td>0.531017</td>\n",
       "      <td>0.000000</td>\n",
       "      <td>0.047113</td>\n",
       "      <td>1.0</td>\n",
       "      <td>0.897317</td>\n",
       "      <td>0.818440</td>\n",
       "      <td>0.149342</td>\n",
       "      <td>0.123962</td>\n",
       "      <td>0.610979</td>\n",
       "      <td>1.000000</td>\n",
       "    </tr>\n",
       "    <tr>\n",
       "      <th>1</th>\n",
       "      <td>0.482353</td>\n",
       "      <td>0.041447</td>\n",
       "      <td>0.081010</td>\n",
       "      <td>0.002262</td>\n",
       "      <td>0.004728</td>\n",
       "      <td>0.002436</td>\n",
       "      <td>0.917431</td>\n",
       "      <td>0.388032</td>\n",
       "      <td>0.001542</td>\n",
       "      <td>0.110783</td>\n",
       "      <td>...</td>\n",
       "      <td>0.910670</td>\n",
       "      <td>0.000000</td>\n",
       "      <td>0.010716</td>\n",
       "      <td>1.0</td>\n",
       "      <td>0.169958</td>\n",
       "      <td>0.580526</td>\n",
       "      <td>0.149342</td>\n",
       "      <td>0.000000</td>\n",
       "      <td>0.000000</td>\n",
       "      <td>1.000000</td>\n",
       "    </tr>\n",
       "    <tr>\n",
       "      <th>2</th>\n",
       "      <td>0.129412</td>\n",
       "      <td>0.066472</td>\n",
       "      <td>0.093704</td>\n",
       "      <td>0.018100</td>\n",
       "      <td>0.003546</td>\n",
       "      <td>0.006613</td>\n",
       "      <td>0.944954</td>\n",
       "      <td>0.275656</td>\n",
       "      <td>0.005012</td>\n",
       "      <td>0.402238</td>\n",
       "      <td>...</td>\n",
       "      <td>0.166253</td>\n",
       "      <td>0.000795</td>\n",
       "      <td>0.004060</td>\n",
       "      <td>1.0</td>\n",
       "      <td>1.000000</td>\n",
       "      <td>0.580526</td>\n",
       "      <td>0.489989</td>\n",
       "      <td>0.289470</td>\n",
       "      <td>0.610979</td>\n",
       "      <td>0.365552</td>\n",
       "    </tr>\n",
       "    <tr>\n",
       "      <th>3</th>\n",
       "      <td>0.305882</td>\n",
       "      <td>0.327573</td>\n",
       "      <td>0.319259</td>\n",
       "      <td>0.013575</td>\n",
       "      <td>0.005910</td>\n",
       "      <td>0.002436</td>\n",
       "      <td>0.935780</td>\n",
       "      <td>0.533364</td>\n",
       "      <td>0.001928</td>\n",
       "      <td>0.296368</td>\n",
       "      <td>...</td>\n",
       "      <td>0.915633</td>\n",
       "      <td>0.001405</td>\n",
       "      <td>0.030220</td>\n",
       "      <td>1.0</td>\n",
       "      <td>0.291172</td>\n",
       "      <td>0.575904</td>\n",
       "      <td>0.322103</td>\n",
       "      <td>0.289470</td>\n",
       "      <td>1.000000</td>\n",
       "      <td>0.444570</td>\n",
       "    </tr>\n",
       "    <tr>\n",
       "      <th>4</th>\n",
       "      <td>0.011765</td>\n",
       "      <td>0.074274</td>\n",
       "      <td>0.093475</td>\n",
       "      <td>0.009050</td>\n",
       "      <td>0.005910</td>\n",
       "      <td>0.005569</td>\n",
       "      <td>0.963303</td>\n",
       "      <td>0.497009</td>\n",
       "      <td>0.001542</td>\n",
       "      <td>0.102885</td>\n",
       "      <td>...</td>\n",
       "      <td>0.287841</td>\n",
       "      <td>0.001382</td>\n",
       "      <td>0.010276</td>\n",
       "      <td>1.0</td>\n",
       "      <td>0.897317</td>\n",
       "      <td>0.580526</td>\n",
       "      <td>0.520808</td>\n",
       "      <td>0.123962</td>\n",
       "      <td>1.000000</td>\n",
       "      <td>0.444570</td>\n",
       "    </tr>\n",
       "  </tbody>\n",
       "</table>\n",
       "<p>5 rows × 21 columns</p>\n",
       "</div>"
      ],
      "text/plain": [
       "   num__Age  num__Annual_Income  num__Monthly_Inhand_Salary  \\\n",
       "0  0.141176            0.246939                    0.240899   \n",
       "1  0.482353            0.041447                    0.081010   \n",
       "2  0.129412            0.066472                    0.093704   \n",
       "3  0.305882            0.327573                    0.319259   \n",
       "4  0.011765            0.074274                    0.093475   \n",
       "\n",
       "   num__Num_Bank_Accounts  num__Num_Credit_Card  num__Interest_Rate  \\\n",
       "0                0.015837              0.005910            0.006613   \n",
       "1                0.002262              0.004728            0.002436   \n",
       "2                0.018100              0.003546            0.006613   \n",
       "3                0.013575              0.005910            0.002436   \n",
       "4                0.009050              0.005910            0.005569   \n",
       "\n",
       "   num__Num_of_Loan  num__Changed_Credit_Limit  num__Num_Credit_Inquiries  \\\n",
       "0          0.917431                   0.336171                   0.003470   \n",
       "1          0.917431                   0.388032                   0.001542   \n",
       "2          0.944954                   0.275656                   0.005012   \n",
       "3          0.935780                   0.533364                   0.001928   \n",
       "4          0.963303                   0.497009                   0.001542   \n",
       "\n",
       "   num__Outstanding_Debt  ...  num__Credit_History_Age  \\\n",
       "0               0.104952  ...                 0.531017   \n",
       "1               0.110783  ...                 0.910670   \n",
       "2               0.402238  ...                 0.166253   \n",
       "3               0.296368  ...                 0.915633   \n",
       "4               0.102885  ...                 0.287841   \n",
       "\n",
       "   num__Total_EMI_per_month  num__Amount_invested_monthly  \\\n",
       "0                  0.000000                      0.047113   \n",
       "1                  0.000000                      0.010716   \n",
       "2                  0.000795                      0.004060   \n",
       "3                  0.001405                      0.030220   \n",
       "4                  0.001382                      0.010276   \n",
       "\n",
       "   num__Monthly_Balance  cat__Month  cat__Occupation  cat__Type_of_Loan  \\\n",
       "0                   1.0    0.897317         0.818440           0.149342   \n",
       "1                   1.0    0.169958         0.580526           0.149342   \n",
       "2                   1.0    1.000000         0.580526           0.489989   \n",
       "3                   1.0    0.291172         0.575904           0.322103   \n",
       "4                   1.0    0.897317         0.580526           0.520808   \n",
       "\n",
       "   cat__Credit_Mix  cat__Payment_of_Min_Amount  cat__Payment_Behaviour  \n",
       "0         0.123962                    0.610979                1.000000  \n",
       "1         0.000000                    0.000000                1.000000  \n",
       "2         0.289470                    0.610979                0.365552  \n",
       "3         0.289470                    1.000000                0.444570  \n",
       "4         0.123962                    1.000000                0.444570  \n",
       "\n",
       "[5 rows x 21 columns]"
      ]
     },
     "execution_count": 4,
     "metadata": {},
     "output_type": "execute_result"
    }
   ],
   "source": [
    "# Verificando dados de treino\n",
    "\n",
    "X_train_transformed.head()"
   ]
  },
  {
   "cell_type": "markdown",
   "id": "46918b4c-8c69-4826-8e40-df5f3acdedeb",
   "metadata": {},
   "source": [
    "# 3. Feature Selection"
   ]
  },
  {
   "cell_type": "markdown",
   "id": "0c385723-0fd7-4120-8b8f-64558c48207d",
   "metadata": {},
   "source": [
    "Etapas:\n",
    "\n",
    "##### 3.1 Select K Best\n",
    "\n",
    "* Testando o AUC com diferentes conjuntos e número de features\n",
    "* 💡 Método que avalia individualmente cada feature em relação ao target, atribuindo uma pontuação e, em seguida, selecionando as k features com melhor pontuação\n",
    "* O AUC foi a métrica utilizada no Select K Best, por ser uma métrica que independe do threshold para avaliar os dados\n",
    "\n",
    "##### 3.2 KS2\n",
    "\n",
    "* Verificando o KS2 por variável\n",
    "* 💡 O KS2 mede a distância entre as distribuições de probabilidade acumulada (bons e maus pagadores)\n",
    "* Quanto maior, melhor (variação de 0 a 100)"
   ]
  },
  {
   "cell_type": "markdown",
   "id": "af0c71c3-c27a-4a4c-b4a7-27818ce5b815",
   "metadata": {},
   "source": [
    "### 3.1 Select K Best"
   ]
  },
  {
   "cell_type": "code",
   "execution_count": 5,
   "id": "1ba4b621-7405-4feb-9440-55d8a9f62fb9",
   "metadata": {},
   "outputs": [],
   "source": [
    "# Lista para armazenar os resultados do AUC\n",
    "\n",
    "auc_array = []\n",
    "k_array = list(range(1, 22))"
   ]
  },
  {
   "cell_type": "code",
   "execution_count": 6,
   "id": "7b780b78-4f56-473b-be6c-f7315ba06d6f",
   "metadata": {},
   "outputs": [
    {
     "name": "stdout",
     "output_type": "stream",
     "text": [
      "[1, 2, 3, 4, 5, 6, 7, 8, 9, 10, 11, 12, 13, 14, 15, 16, 17, 18, 19, 20, 21]\n"
     ]
    }
   ],
   "source": [
    " # Intervalo para k variando de 1 a 21\n",
    "\n",
    "print(k_array)"
   ]
  },
  {
   "cell_type": "code",
   "execution_count": 7,
   "id": "1dcd46c8-eb5a-4468-aee9-03a408735b0d",
   "metadata": {},
   "outputs": [
    {
     "name": "stdout",
     "output_type": "stream",
     "text": [
      "1 0.6859435891209325\n",
      "2 0.8621029018941234\n",
      "3 0.8795272826614862\n",
      "4 0.8819375182127246\n",
      "5 0.8797645883924236\n",
      "6 0.8788267787761048\n",
      "7 0.8700463938805245\n",
      "8 0.8674791585721224\n",
      "9 0.872712238950947\n",
      "10 0.8731525922778047\n",
      "11 0.8698866197183097\n",
      "12 0.8677764995143273\n",
      "13 0.8668179273919377\n",
      "14 0.8741035757649345\n",
      "15 0.8757793285575521\n",
      "16 0.8799606969402622\n",
      "17 0.882885514813016\n",
      "18 0.8823289035939776\n",
      "19 0.8792560830500245\n",
      "20 0.8824286789703739\n",
      "21 0.8776563683827101\n"
     ]
    }
   ],
   "source": [
    "# Loop para verificar o número ideal de k features\n",
    "for k in k_array:\n",
    "    # Criar o seletor com as k características desejadas\n",
    "    selector = SelectKBest(score_func=chi2, k=k)\n",
    "    X_train_selected = selector.fit_transform(X_train_transformed, y_train)\n",
    "    X_test_selected = selector.transform(X_test_transformed)\n",
    "    \n",
    "    # Treinando o modelo\n",
    "    clf = RandomForestClassifier(class_weight='balanced',max_depth=4, n_estimators=150, random_state=42)\n",
    "    clf.fit(X_train_selected, y_train)\n",
    "    \n",
    "     # Avaliando o modelo\n",
    "    y_score = clf.predict_proba(X_test_selected)[:,1]\n",
    "    auc = roc_auc_score(y_test, y_score)\n",
    "    auc_array.append(auc)\n",
    "    print(k, auc)"
   ]
  },
  {
   "cell_type": "code",
   "execution_count": 8,
   "id": "7463cdb5-a0e1-4d2a-bffc-8c3309e2299a",
   "metadata": {},
   "outputs": [
    {
     "data": {
      "image/png": "[encoded data removed]",
      "text/plain": [
       "<Figure size 800x600 with 1 Axes>"
      ]
     },
     "metadata": {},
     "output_type": "display_data"
    }
   ],
   "source": [
    "# Encontrando o número ideal de características\n",
    "auc_max = auc_array[np.argmax(auc_array)]\n",
    "k_max = k_array[np.argmax(auc_array)]\n",
    "\n",
    "# Plotando o gráfico de AUC vs. k features\n",
    "plt.figure(figsize=(8, 6))\n",
    "plt.plot(k_array, auc_array, c='b')\n",
    "plt.xlabel('k features')\n",
    "plt.ylabel('AUC')\n",
    "plt.title('AUC vs. Nº de features')\n",
    "plt.grid()\n",
    "plt.show()"
   ]
  },
  {
   "cell_type": "markdown",
   "id": "3a37ec12-abfb-4693-a77b-b0c191aab830",
   "metadata": {},
   "source": [
    "Foi percebido que o AUC obteve variações, e que seu maior valor está associado ao total de features presentes. Por esse motivo, por essa análise parece razoável manter a quantidade total de features, sem exclusões ou novas seleções."
   ]
  },
  {
   "cell_type": "markdown",
   "id": "8d1d9ce2-afb8-429f-b841-c59ff3b0fcaa",
   "metadata": {},
   "source": [
    "### 3.2 KS2"
   ]
  },
  {
   "cell_type": "code",
   "execution_count": 9,
   "id": "6bb9adf9-d1ef-4c17-a63d-a324d3eb5d37",
   "metadata": {},
   "outputs": [],
   "source": [
    "def ks_test(df, col, target):\n",
    "    group_0 = df.loc[df[target] == 0, col].dropna()\n",
    "    group_1 = df.loc[df[target] == 1, col].dropna()\n",
    "    ks_stat, _ = ks_2samp(group_0, group_1)\n",
    "    return ks_stat"
   ]
  },
  {
   "cell_type": "code",
   "execution_count": 10,
   "id": "af4b4d0f-7cce-4dd3-a43d-454334e9bf18",
   "metadata": {},
   "outputs": [],
   "source": [
    "df_train_transformed = pd.concat([X_train_transformed,y_train], axis=1)"
   ]
  },
  {
   "cell_type": "code",
   "execution_count": 11,
   "id": "cffb9ef0-6ae5-4e30-bffd-ea7e6930cf0f",
   "metadata": {},
   "outputs": [],
   "source": [
    "cols = X_train_transformed.columns"
   ]
  },
  {
   "cell_type": "code",
   "execution_count": 12,
   "id": "c79d5e0d-de61-4b4a-a13f-171a491fcad0",
   "metadata": {},
   "outputs": [],
   "source": [
    "ks_dic = {}\n",
    "\n",
    "for col in cols:\n",
    "    ks = ks_test(df_train_transformed, col, 'target')\n",
    "    ks_dic[col] = ks"
   ]
  },
  {
   "cell_type": "code",
   "execution_count": 13,
   "id": "a0fd901d-49d7-4f29-a1a6-ef3cfc9884bb",
   "metadata": {},
   "outputs": [],
   "source": [
    "# Definindo o KS das variáveis\n",
    "\n",
    "df_ks = pd.DataFrame([ks_dic]).T\n",
    "df_ks_final = df_ks.sort_values(by=0, ascending=False).reset_index()\n",
    "df_ks_final.columns = ['Variable', 'KS_Value']\n",
    "df_ks_final = df_ks_final.set_index('Variable')"
   ]
  },
  {
   "cell_type": "code",
   "execution_count": 14,
   "id": "98ba9ea7-3146-44c3-9d48-763bcb12b197",
   "metadata": {},
   "outputs": [
    {
     "data": {
      "image/png": "[encoded data removed]",
      "text/plain": [
       "<Figure size 1000x600 with 1 Axes>"
      ]
     },
     "metadata": {},
     "output_type": "display_data"
    }
   ],
   "source": [
    "# Gráfico\n",
    "\n",
    "plt.figure(figsize=(10, 6))\n",
    "plt.bar(df_ks_final.index, df_ks_final['KS_Value'])\n",
    "plt.xticks(rotation=90)\n",
    "plt.xlabel(\"Variáveis\")\n",
    "plt.ylabel(\"Valores de KS\")\n",
    "plt.title(\"Distribuição das Variáveis por KS2\")\n",
    "plt.tight_layout()\n",
    "plt.show()"
   ]
  },
  {
   "cell_type": "code",
   "execution_count": 15,
   "id": "4bcb9ed1-3864-45ed-9a4b-0943fac08fe9",
   "metadata": {},
   "outputs": [
    {
     "data": {
      "text/html": [
       "<div>\n",
       "<style scoped>\n",
       "    .dataframe tbody tr th:only-of-type {\n",
       "        vertical-align: middle;\n",
       "    }\n",
       "\n",
       "    .dataframe tbody tr th {\n",
       "        vertical-align: top;\n",
       "    }\n",
       "\n",
       "    .dataframe thead th {\n",
       "        text-align: right;\n",
       "    }\n",
       "</style>\n",
       "<table border=\"1\" class=\"dataframe\">\n",
       "  <thead>\n",
       "    <tr style=\"text-align: right;\">\n",
       "      <th></th>\n",
       "      <th>KS_Value</th>\n",
       "    </tr>\n",
       "    <tr>\n",
       "      <th>Variable</th>\n",
       "      <th></th>\n",
       "    </tr>\n",
       "  </thead>\n",
       "  <tbody>\n",
       "    <tr>\n",
       "      <th>cat__Type_of_Loan</th>\n",
       "      <td>0.617409</td>\n",
       "    </tr>\n",
       "    <tr>\n",
       "      <th>num__Outstanding_Debt</th>\n",
       "      <td>0.496133</td>\n",
       "    </tr>\n",
       "    <tr>\n",
       "      <th>num__Interest_Rate</th>\n",
       "      <td>0.419518</td>\n",
       "    </tr>\n",
       "    <tr>\n",
       "      <th>num__Num_Credit_Inquiries</th>\n",
       "      <td>0.395031</td>\n",
       "    </tr>\n",
       "    <tr>\n",
       "      <th>num__Num_of_Loan</th>\n",
       "      <td>0.328698</td>\n",
       "    </tr>\n",
       "    <tr>\n",
       "      <th>num__Credit_History_Age</th>\n",
       "      <td>0.318098</td>\n",
       "    </tr>\n",
       "    <tr>\n",
       "      <th>num__Num_Bank_Accounts</th>\n",
       "      <td>0.314150</td>\n",
       "    </tr>\n",
       "    <tr>\n",
       "      <th>cat__Credit_Mix</th>\n",
       "      <td>0.288460</td>\n",
       "    </tr>\n",
       "    <tr>\n",
       "      <th>cat__Payment_of_Min_Amount</th>\n",
       "      <td>0.270392</td>\n",
       "    </tr>\n",
       "    <tr>\n",
       "      <th>num__Num_Credit_Card</th>\n",
       "      <td>0.265854</td>\n",
       "    </tr>\n",
       "    <tr>\n",
       "      <th>num__Annual_Income</th>\n",
       "      <td>0.178371</td>\n",
       "    </tr>\n",
       "    <tr>\n",
       "      <th>num__Monthly_Inhand_Salary</th>\n",
       "      <td>0.137419</td>\n",
       "    </tr>\n",
       "    <tr>\n",
       "      <th>num__Age</th>\n",
       "      <td>0.111845</td>\n",
       "    </tr>\n",
       "    <tr>\n",
       "      <th>num__Total_EMI_per_month</th>\n",
       "      <td>0.103698</td>\n",
       "    </tr>\n",
       "    <tr>\n",
       "      <th>cat__Payment_Behaviour</th>\n",
       "      <td>0.097054</td>\n",
       "    </tr>\n",
       "    <tr>\n",
       "      <th>num__Amount_invested_monthly</th>\n",
       "      <td>0.087479</td>\n",
       "    </tr>\n",
       "    <tr>\n",
       "      <th>num__Changed_Credit_Limit</th>\n",
       "      <td>0.068665</td>\n",
       "    </tr>\n",
       "    <tr>\n",
       "      <th>num__Credit_Utilization_Ratio</th>\n",
       "      <td>0.028397</td>\n",
       "    </tr>\n",
       "    <tr>\n",
       "      <th>cat__Occupation</th>\n",
       "      <td>0.024242</td>\n",
       "    </tr>\n",
       "    <tr>\n",
       "      <th>cat__Month</th>\n",
       "      <td>0.010062</td>\n",
       "    </tr>\n",
       "    <tr>\n",
       "      <th>num__Monthly_Balance</th>\n",
       "      <td>0.000106</td>\n",
       "    </tr>\n",
       "  </tbody>\n",
       "</table>\n",
       "</div>"
      ],
      "text/plain": [
       "                               KS_Value\n",
       "Variable                               \n",
       "cat__Type_of_Loan              0.617409\n",
       "num__Outstanding_Debt          0.496133\n",
       "num__Interest_Rate             0.419518\n",
       "num__Num_Credit_Inquiries      0.395031\n",
       "num__Num_of_Loan               0.328698\n",
       "num__Credit_History_Age        0.318098\n",
       "num__Num_Bank_Accounts         0.314150\n",
       "cat__Credit_Mix                0.288460\n",
       "cat__Payment_of_Min_Amount     0.270392\n",
       "num__Num_Credit_Card           0.265854\n",
       "num__Annual_Income             0.178371\n",
       "num__Monthly_Inhand_Salary     0.137419\n",
       "num__Age                       0.111845\n",
       "num__Total_EMI_per_month       0.103698\n",
       "cat__Payment_Behaviour         0.097054\n",
       "num__Amount_invested_monthly   0.087479\n",
       "num__Changed_Credit_Limit      0.068665\n",
       "num__Credit_Utilization_Ratio  0.028397\n",
       "cat__Occupation                0.024242\n",
       "cat__Month                     0.010062\n",
       "num__Monthly_Balance           0.000106"
      ]
     },
     "execution_count": 15,
     "metadata": {},
     "output_type": "execute_result"
    }
   ],
   "source": [
    "df_ks_final"
   ]
  },
  {
   "cell_type": "markdown",
   "id": "03ea6445-278b-47ab-a1a0-185cb3d00b54",
   "metadata": {},
   "source": [
    "⚠️ A variável `cat__Type_of_Loan` apresentou um valor de KS2 elevado, indicando que pode ser relevante para distinguir bons e maus pagadores. No entanto, é importante monitorá-la com atenção, pois a especificidade de suas combinações de tipos de empréstimos pode tornar o modelo excessivamente ajustado aos dados de treino, aumentando o risco de overfitting."
   ]
  },
  {
   "cell_type": "markdown",
   "id": "5c9bfe17-f087-4442-827b-c282950b4005",
   "metadata": {},
   "source": [
    "Após a avaliação acima, percebeu-se que o KS2 foi maior em variáveis que apresentaram uma maior diferença de taxa de maus entre o maior e menor grupo analisado na EDA. Ex: `Outstanding_Debt`, `Interest_Rate` e `Num_Credit_Inquiries`. As variáveis `cat__Month` e `num__Monthly_Balance` apresentaram um KS2 muito baixo, favorecendo suas exclusões do modelo."
   ]
  },
  {
   "cell_type": "code",
   "execution_count": 16,
   "id": "2d4bf6c2-d625-4362-8149-7a2d66082b15",
   "metadata": {},
   "outputs": [],
   "source": [
    "# Drop das variáveis com menor KS2\n",
    "drop_cols = ['cat__Month','num__Monthly_Balance']\n",
    "X_train_transformed = X_train_transformed.drop(drop_cols,axis=1)\n",
    "X_test_transformed = X_test_transformed.drop(drop_cols,axis=1)"
   ]
  },
  {
   "cell_type": "markdown",
   "id": "2cd8d14c-aa30-47cf-babc-d897ef92f4be",
   "metadata": {
    "jp-MarkdownHeadingCollapsed": true
   },
   "source": [
    "# 4. Modelagem"
   ]
  },
  {
   "cell_type": "markdown",
   "id": "302bbc3a-d879-491c-9f3b-8161d52551ff",
   "metadata": {},
   "source": [
    "* Dummy Classifier (para comparativos)\n",
    "* Logistic Regression\n",
    "* Random Forest Classifier\n",
    "* Decision Tree Classifier\n",
    "* XGB Classifier\n",
    "  \n",
    "Para uma avaliação mais robusta e melhor chance de generalização, foi utilizada a validação cruzada para treinar os dados de treino, pois fornece uma visão mais robusta e menos dependente da divisão específica dos dados. No entanto, o modelo foi avaliado com o conjunto de teste para a obtenção do KS2."
   ]
  },
  {
   "cell_type": "markdown",
   "id": "a78e6bc9-7792-4be1-95ab-5751b5f1707e",
   "metadata": {},
   "source": [
    "### 4.1 Dummy Classifier"
   ]
  },
  {
   "cell_type": "markdown",
   "id": "33123b48-61c4-4a39-9144-d0ec99b6381a",
   "metadata": {},
   "source": [
    "Modelagem + cross validation (AUC)\n"
   ]
  },
  {
   "cell_type": "code",
   "execution_count": 17,
   "id": "1b0321c9-e10d-4a85-a4e8-38ac584c1bb0",
   "metadata": {},
   "outputs": [
    {
     "name": "stdout",
     "output_type": "stream",
     "text": [
      "ROC-AUC: 0.50\n"
     ]
    }
   ],
   "source": [
    "clf = DummyClassifier(strategy='most_frequent', random_state=42)\n",
    "cvs = cross_val_score(estimator=clf, X=X_train_transformed, y=y_train, scoring='roc_auc', cv=3, verbose=1)\n",
    "print(f\"ROC-AUC: {cvs.mean():.2f}\")"
   ]
  },
  {
   "cell_type": "code",
   "execution_count": 20,
   "id": "e17c267a-c1c7-4c9b-be52-2980040eca94",
   "metadata": {},
   "outputs": [
    {
     "name": "stdout",
     "output_type": "stream",
     "text": [
      "<class 'pandas.core.frame.DataFrame'>\n",
      "RangeIndex: 20000 entries, 0 to 19999\n",
      "Data columns (total 1 columns):\n",
      " #   Column  Non-Null Count  Dtype\n",
      "---  ------  --------------  -----\n",
      " 0   target  20000 non-null  int64\n",
      "dtypes: int64(1)\n",
      "memory usage: 156.4 KB\n"
     ]
    }
   ],
   "source": [
    "y_test.info()"
   ]
  },
  {
   "cell_type": "markdown",
   "id": "90739b68-d801-48fb-8b7a-04faa1d8c7a7",
   "metadata": {},
   "source": [
    "Modelagem + avaliação no teste (KS2)"
   ]
  },
  {
   "cell_type": "code",
   "execution_count": 35,
   "id": "6be52b2c-05fd-45a0-af01-0f3c98640284",
   "metadata": {},
   "outputs": [
    {
     "name": "stdout",
     "output_type": "stream",
     "text": [
      "KS2 (DummyClassifier): 0.000\n"
     ]
    }
   ],
   "source": [
    "# Ajustando o modelo DummyClassifier com todo o conjunto de treino\n",
    "clf.fit(X_train_transformed, y_train)\n",
    "\n",
    "# Calculando as probabilidades preditas\n",
    "dummy_y_pred_probs = clf.predict_proba(X_test_transformed)[:, 1]\n",
    "\n",
    "# Calculando o KS2\n",
    "ks_stat_dummy, _ = ks_2samp(dummy_y_pred_probs[(y_test == 1).to_numpy().ravel()], \n",
    "                            dummy_y_pred_probs[(y_test == 0).to_numpy().ravel()])\n",
    "print(f\"KS2 (DummyClassifier): {ks_stat_dummy:.3f}\")"
   ]
  },
  {
   "cell_type": "markdown",
   "id": "88e4fd90-9c1b-427c-aa86-30669f0a6669",
   "metadata": {},
   "source": [
    "### 4.2 Logistic Regression"
   ]
  },
  {
   "cell_type": "markdown",
   "id": "1892439f-2ba9-408b-833c-c5a9f17a944c",
   "metadata": {},
   "source": [
    "Modelagem + cross validation (AUC)"
   ]
  },
  {
   "cell_type": "code",
   "execution_count": 36,
   "id": "314625b2-f94c-4990-bf07-1385b861babe",
   "metadata": {},
   "outputs": [
    {
     "name": "stdout",
     "output_type": "stream",
     "text": [
      "ROC-AUC: 0.854\n"
     ]
    }
   ],
   "source": [
    "clf = LogisticRegression(class_weight='balanced', max_iter=2000,random_state=42)\n",
    "cvs = cross_val_score(estimator=clf, X=X_train_transformed, y=y_train, scoring='roc_auc', cv=3, verbose=1)\n",
    "print(f\"ROC-AUC: {cvs.mean():.3f}\")"
   ]
  },
  {
   "cell_type": "markdown",
   "id": "d4f9dbe5-5a75-4c8c-a5d1-4a27e7293c2e",
   "metadata": {},
   "source": [
    "Modelagem + avaliação no teste (KS2)"
   ]
  },
  {
   "cell_type": "code",
   "execution_count": 38,
   "id": "2e42baf2-d003-4797-a054-ef65569e529a",
   "metadata": {},
   "outputs": [
    {
     "name": "stdout",
     "output_type": "stream",
     "text": [
      "KS2 (Logistic Regression): 0.592\n"
     ]
    }
   ],
   "source": [
    "# Ajustando o modelo com todo o conjunto de treino\n",
    "clf.fit(X_train_transformed, y_train)\n",
    "\n",
    "# Calculando as probabilidades preditas\n",
    "logreg_y_pred_probs = clf.predict_proba(X_test_transformed)[:, 1]\n",
    "\n",
    "# Calculando o KS2\n",
    "ks_stat_logreg, _ = ks_2samp(logreg_y_pred_probs[(y_test == 1).to_numpy().ravel()],\n",
    "                             logreg_y_pred_probs[(y_test == 0).to_numpy().ravel()])\n",
    "print(f\"KS2 (Logistic Regression): {ks_stat_logreg:.3f}\")"
   ]
  },
  {
   "cell_type": "markdown",
   "id": "fff0178c-cc3a-4762-bcb7-238a83f6c6d9",
   "metadata": {},
   "source": [
    "### 4.3 Random Forest Classifier"
   ]
  },
  {
   "cell_type": "markdown",
   "id": "65305f3c-1256-43af-b259-3ec1db040983",
   "metadata": {},
   "source": [
    "Modelagem + cross validation (AUC)"
   ]
  },
  {
   "cell_type": "code",
   "execution_count": 39,
   "id": "1ad17a1d-7784-464b-83af-c41d9bbec29e",
   "metadata": {},
   "outputs": [
    {
     "name": "stdout",
     "output_type": "stream",
     "text": [
      "ROC-AUC: 0.895\n"
     ]
    }
   ],
   "source": [
    "clf = RandomForestClassifier(class_weight='balanced',max_depth=4, n_estimators=150, random_state=42)\n",
    "cvs = cross_val_score(estimator=clf, X=X_train_transformed, y=y_train, scoring='roc_auc', cv=3, verbose=1)\n",
    "print(f\"ROC-AUC: {cvs.mean():.3f}\")"
   ]
  },
  {
   "cell_type": "markdown",
   "id": "00e3e6b1-5e18-42f6-b57e-23de81b04318",
   "metadata": {},
   "source": [
    "Modelagem + avaliação no teste (KS2)"
   ]
  },
  {
   "cell_type": "code",
   "execution_count": 40,
   "id": "0ad79120-67d4-4963-b2a7-f53fe8bc755b",
   "metadata": {},
   "outputs": [
    {
     "name": "stdout",
     "output_type": "stream",
     "text": [
      "KS2 (Random Forest Classifier): 0.674\n"
     ]
    }
   ],
   "source": [
    "# Ajustando o modelo com todo o conjunto de treino\n",
    "clf.fit(X_train_transformed, y_train)\n",
    "\n",
    "# Calculando as probabilidades preditas\n",
    "rfc_y_pred_probs = clf.predict_proba(X_test_transformed)[:, 1]\n",
    "\n",
    "# Calculando o KS2\n",
    "ks_stat_rfc, _ = ks_2samp(rfc_y_pred_probs[(y_test == 1).to_numpy().ravel()],\n",
    "                          rfc_y_pred_probs[(y_test == 0).to_numpy().ravel()])\n",
    "print(f\"KS2 (Random Forest Classifier): {ks_stat_rfc:.3f}\")"
   ]
  },
  {
   "cell_type": "markdown",
   "id": "f48fb870-4c44-4d4a-b40c-fe304453ea29",
   "metadata": {},
   "source": [
    "### 4.4 Decision Tree Classifier"
   ]
  },
  {
   "cell_type": "markdown",
   "id": "67fc8e8b-a979-4fe6-b252-2310a9ee0dc6",
   "metadata": {},
   "source": [
    "Modelagem + cross validation (AUC)"
   ]
  },
  {
   "cell_type": "code",
   "execution_count": 41,
   "id": "ff3bb59c-e30c-4349-853a-1a4ac20f7ada",
   "metadata": {},
   "outputs": [
    {
     "name": "stdout",
     "output_type": "stream",
     "text": [
      "ROC-AUC: 0.901\n"
     ]
    }
   ],
   "source": [
    "clf = DecisionTreeClassifier(max_depth=4)\n",
    "cvs = cross_val_score(estimator=clf, X=X_train_transformed, y=y_train, scoring='roc_auc', cv=3, verbose=1)\n",
    "print(f\"ROC-AUC: {cvs.mean():.3f}\")"
   ]
  },
  {
   "cell_type": "markdown",
   "id": "570461a6-58a4-45ec-b7a3-fd99c760e025",
   "metadata": {},
   "source": [
    "Modelagem + avaliação no teste (KS2)"
   ]
  },
  {
   "cell_type": "code",
   "execution_count": 43,
   "id": "2d891b09-8e33-4baa-85a6-e1c217693c3a",
   "metadata": {},
   "outputs": [
    {
     "name": "stdout",
     "output_type": "stream",
     "text": [
      "KS2 (Decision Tree Classifier): 0.648\n"
     ]
    }
   ],
   "source": [
    "# Ajustando o modelo com todo o conjunto de treino\n",
    "clf.fit(X_train_transformed, y_train)\n",
    "\n",
    "# Calculando as probabilidades preditas\n",
    "dtc_y_pred_probs = clf.predict_proba(X_test_transformed)[:, 1]\n",
    "\n",
    "# Calculando o KS2\n",
    "ks_stat_dtc, _ = ks_2samp(dtc_y_pred_probs[(y_test == 1).to_numpy().ravel()],\n",
    "                          dtc_y_pred_probs[(y_test == 0).to_numpy().ravel()])\n",
    "print(f\"KS2 (Decision Tree Classifier): {ks_stat_dtc:.3f}\")"
   ]
  },
  {
   "cell_type": "markdown",
   "id": "38fb25a0-fb70-4bd5-a03a-986116d0fc32",
   "metadata": {},
   "source": [
    "### 4.5 XGBClassifier"
   ]
  },
  {
   "cell_type": "markdown",
   "id": "8b7141f6-31d5-4394-9f56-02e03247c003",
   "metadata": {},
   "source": [
    "Modelagem + cross validation (AUC)"
   ]
  },
  {
   "cell_type": "code",
   "execution_count": 44,
   "id": "ca66c38d-0ec7-421b-b9c0-595d20ad416a",
   "metadata": {},
   "outputs": [
    {
     "name": "stdout",
     "output_type": "stream",
     "text": [
      "ROC-AUC: 0.922\n"
     ]
    }
   ],
   "source": [
    "clf = XGBClassifier(n_estimators=50, max_depth=2, random_state=42)\n",
    "cvs = cross_val_score(estimator=clf, X=X_train_transformed, y=y_train, scoring='roc_auc', cv=3, verbose=1)\n",
    "print(f\"ROC-AUC: {cvs.mean():.3f}\")"
   ]
  },
  {
   "cell_type": "markdown",
   "id": "6f0dc7f1-7802-4827-91c3-0a9ec4ca30f3",
   "metadata": {},
   "source": [
    "Modelagem + avaliação no teste (KS2)"
   ]
  },
  {
   "cell_type": "code",
   "execution_count": 45,
   "id": "f8a9c645-90a6-44e0-bcc1-da8c7b4cec9d",
   "metadata": {},
   "outputs": [
    {
     "name": "stdout",
     "output_type": "stream",
     "text": [
      "KS2 (XGBClassifier): 0.666\n"
     ]
    }
   ],
   "source": [
    "# Ajustando o modelo com todo o conjunto de treino\n",
    "clf.fit(X_train_transformed, y_train)\n",
    "\n",
    "# Calculando as probabilidades preditas\n",
    "xgbc_y_pred_probs = clf.predict_proba(X_test_transformed)[:, 1]\n",
    "\n",
    "# Calculando o KS2\n",
    "ks_stat_xgbc, _ = ks_2samp(xgbc_y_pred_probs[(y_test == 1).to_numpy().ravel()],\n",
    "                           xgbc_y_pred_probs[(y_test == 0).to_numpy().ravel()])\n",
    "print(f\"KS2 (XGBClassifier): {ks_stat_xgbc:.3f}\")"
   ]
  },
  {
   "cell_type": "markdown",
   "id": "5065ba56-c70c-473b-976b-52260f5d86be",
   "metadata": {},
   "source": [
    "O XGBClassifier foi o modelo que teve a melhor pontuação de AUC e KS2, por esse motivo, foi o modelo escolhido para o projeto."
   ]
  },
  {
   "cell_type": "markdown",
   "id": "0a16fb99-e99a-4ecb-ace7-e3bbbbae02e6",
   "metadata": {},
   "source": [
    "# 5. Otimização de hiperparâmetros"
   ]
  },
  {
   "cell_type": "markdown",
   "id": "8e489a31-0b2d-40d4-8808-fbeb3c6e2bbc",
   "metadata": {},
   "source": [
    "* Modelo: XGBClassifier  \n",
    "* Parâmetros: n_estimators, max_depth, learning_rate  \n",
    "* Otimização: RandomizedSearchCV"
   ]
  },
  {
   "cell_type": "code",
   "execution_count": 59,
   "id": "7fc45c7e-bfd1-4714-85da-8bb14183a1ee",
   "metadata": {},
   "outputs": [
    {
     "name": "stdout",
     "output_type": "stream",
     "text": [
      "Fitting 5 folds for each of 100 candidates, totalling 500 fits\n",
      "CPU times: user 3h 48min 54s, sys: 28.2 s, total: 3h 49min 22s\n",
      "Wall time: 15min 11s\n"
     ]
    },
    {
     "data": {
      "text/html": [
       "<style>#sk-container-id-3 {\n",
       "  /* Definition of color scheme common for light and dark mode */\n",
       "  --sklearn-color-text: black;\n",
       "  --sklearn-color-line: gray;\n",
       "  /* Definition of color scheme for unfitted estimators */\n",
       "  --sklearn-color-unfitted-level-0: #fff5e6;\n",
       "  --sklearn-color-unfitted-level-1: #f6e4d2;\n",
       "  --sklearn-color-unfitted-level-2: #ffe0b3;\n",
       "  --sklearn-color-unfitted-level-3: chocolate;\n",
       "  /* Definition of color scheme for fitted estimators */\n",
       "  --sklearn-color-fitted-level-0: #f0f8ff;\n",
       "  --sklearn-color-fitted-level-1: #d4ebff;\n",
       "  --sklearn-color-fitted-level-2: #b3dbfd;\n",
       "  --sklearn-color-fitted-level-3: cornflowerblue;\n",
       "\n",
       "  /* Specific color for light theme */\n",
       "  --sklearn-color-text-on-default-background: var(--sg-text-color, var(--theme-code-foreground, var(--jp-content-font-color1, black)));\n",
       "  --sklearn-color-background: var(--sg-background-color, var(--theme-background, var(--jp-layout-color0, white)));\n",
       "  --sklearn-color-border-box: var(--sg-text-color, var(--theme-code-foreground, var(--jp-content-font-color1, black)));\n",
       "  --sklearn-color-icon: #696969;\n",
       "\n",
       "  @media (prefers-color-scheme: dark) {\n",
       "    /* Redefinition of color scheme for dark theme */\n",
       "    --sklearn-color-text-on-default-background: var(--sg-text-color, var(--theme-code-foreground, var(--jp-content-font-color1, white)));\n",
       "    --sklearn-color-background: var(--sg-background-color, var(--theme-background, var(--jp-layout-color0, #111)));\n",
       "    --sklearn-color-border-box: var(--sg-text-color, var(--theme-code-foreground, var(--jp-content-font-color1, white)));\n",
       "    --sklearn-color-icon: #878787;\n",
       "  }\n",
       "}\n",
       "\n",
       "#sk-container-id-3 {\n",
       "  color: var(--sklearn-color-text);\n",
       "}\n",
       "\n",
       "#sk-container-id-3 pre {\n",
       "  padding: 0;\n",
       "}\n",
       "\n",
       "#sk-container-id-3 input.sk-hidden--visually {\n",
       "  border: 0;\n",
       "  clip: rect(1px 1px 1px 1px);\n",
       "  clip: rect(1px, 1px, 1px, 1px);\n",
       "  height: 1px;\n",
       "  margin: -1px;\n",
       "  overflow: hidden;\n",
       "  padding: 0;\n",
       "  position: absolute;\n",
       "  width: 1px;\n",
       "}\n",
       "\n",
       "#sk-container-id-3 div.sk-dashed-wrapped {\n",
       "  border: 1px dashed var(--sklearn-color-line);\n",
       "  margin: 0 0.4em 0.5em 0.4em;\n",
       "  box-sizing: border-box;\n",
       "  padding-bottom: 0.4em;\n",
       "  background-color: var(--sklearn-color-background);\n",
       "}\n",
       "\n",
       "#sk-container-id-3 div.sk-container {\n",
       "  /* jupyter's `normalize.less` sets `[hidden] { display: none; }`\n",
       "     but bootstrap.min.css set `[hidden] { display: none !important; }`\n",
       "     so we also need the `!important` here to be able to override the\n",
       "     default hidden behavior on the sphinx rendered scikit-learn.org.\n",
       "     See: https://github.com/scikit-learn/scikit-learn/issues/21755 */\n",
       "  display: inline-block !important;\n",
       "  position: relative;\n",
       "}\n",
       "\n",
       "#sk-container-id-3 div.sk-text-repr-fallback {\n",
       "  display: none;\n",
       "}\n",
       "\n",
       "div.sk-parallel-item,\n",
       "div.sk-serial,\n",
       "div.sk-item {\n",
       "  /* draw centered vertical line to link estimators */\n",
       "  background-image: linear-gradient(var(--sklearn-color-text-on-default-background), var(--sklearn-color-text-on-default-background));\n",
       "  background-size: 2px 100%;\n",
       "  background-repeat: no-repeat;\n",
       "  background-position: center center;\n",
       "}\n",
       "\n",
       "/* Parallel-specific style estimator block */\n",
       "\n",
       "#sk-container-id-3 div.sk-parallel-item::after {\n",
       "  content: \"\";\n",
       "  width: 100%;\n",
       "  border-bottom: 2px solid var(--sklearn-color-text-on-default-background);\n",
       "  flex-grow: 1;\n",
       "}\n",
       "\n",
       "#sk-container-id-3 div.sk-parallel {\n",
       "  display: flex;\n",
       "  align-items: stretch;\n",
       "  justify-content: center;\n",
       "  background-color: var(--sklearn-color-background);\n",
       "  position: relative;\n",
       "}\n",
       "\n",
       "#sk-container-id-3 div.sk-parallel-item {\n",
       "  display: flex;\n",
       "  flex-direction: column;\n",
       "}\n",
       "\n",
       "#sk-container-id-3 div.sk-parallel-item:first-child::after {\n",
       "  align-self: flex-end;\n",
       "  width: 50%;\n",
       "}\n",
       "\n",
       "#sk-container-id-3 div.sk-parallel-item:last-child::after {\n",
       "  align-self: flex-start;\n",
       "  width: 50%;\n",
       "}\n",
       "\n",
       "#sk-container-id-3 div.sk-parallel-item:only-child::after {\n",
       "  width: 0;\n",
       "}\n",
       "\n",
       "/* Serial-specific style estimator block */\n",
       "\n",
       "#sk-container-id-3 div.sk-serial {\n",
       "  display: flex;\n",
       "  flex-direction: column;\n",
       "  align-items: center;\n",
       "  background-color: var(--sklearn-color-background);\n",
       "  padding-right: 1em;\n",
       "  padding-left: 1em;\n",
       "}\n",
       "\n",
       "\n",
       "/* Toggleable style: style used for estimator/Pipeline/ColumnTransformer box that is\n",
       "clickable and can be expanded/collapsed.\n",
       "- Pipeline and ColumnTransformer use this feature and define the default style\n",
       "- Estimators will overwrite some part of the style using the `sk-estimator` class\n",
       "*/\n",
       "\n",
       "/* Pipeline and ColumnTransformer style (default) */\n",
       "\n",
       "#sk-container-id-3 div.sk-toggleable {\n",
       "  /* Default theme specific background. It is overwritten whether we have a\n",
       "  specific estimator or a Pipeline/ColumnTransformer */\n",
       "  background-color: var(--sklearn-color-background);\n",
       "}\n",
       "\n",
       "/* Toggleable label */\n",
       "#sk-container-id-3 label.sk-toggleable__label {\n",
       "  cursor: pointer;\n",
       "  display: block;\n",
       "  width: 100%;\n",
       "  margin-bottom: 0;\n",
       "  padding: 0.5em;\n",
       "  box-sizing: border-box;\n",
       "  text-align: center;\n",
       "}\n",
       "\n",
       "#sk-container-id-3 label.sk-toggleable__label-arrow:before {\n",
       "  /* Arrow on the left of the label */\n",
       "  content: \"▸\";\n",
       "  float: left;\n",
       "  margin-right: 0.25em;\n",
       "  color: var(--sklearn-color-icon);\n",
       "}\n",
       "\n",
       "#sk-container-id-3 label.sk-toggleable__label-arrow:hover:before {\n",
       "  color: var(--sklearn-color-text);\n",
       "}\n",
       "\n",
       "/* Toggleable content - dropdown */\n",
       "\n",
       "#sk-container-id-3 div.sk-toggleable__content {\n",
       "  max-height: 0;\n",
       "  max-width: 0;\n",
       "  overflow: hidden;\n",
       "  text-align: left;\n",
       "  /* unfitted */\n",
       "  background-color: var(--sklearn-color-unfitted-level-0);\n",
       "}\n",
       "\n",
       "#sk-container-id-3 div.sk-toggleable__content.fitted {\n",
       "  /* fitted */\n",
       "  background-color: var(--sklearn-color-fitted-level-0);\n",
       "}\n",
       "\n",
       "#sk-container-id-3 div.sk-toggleable__content pre {\n",
       "  margin: 0.2em;\n",
       "  border-radius: 0.25em;\n",
       "  color: var(--sklearn-color-text);\n",
       "  /* unfitted */\n",
       "  background-color: var(--sklearn-color-unfitted-level-0);\n",
       "}\n",
       "\n",
       "#sk-container-id-3 div.sk-toggleable__content.fitted pre {\n",
       "  /* unfitted */\n",
       "  background-color: var(--sklearn-color-fitted-level-0);\n",
       "}\n",
       "\n",
       "#sk-container-id-3 input.sk-toggleable__control:checked~div.sk-toggleable__content {\n",
       "  /* Expand drop-down */\n",
       "  max-height: 200px;\n",
       "  max-width: 100%;\n",
       "  overflow: auto;\n",
       "}\n",
       "\n",
       "#sk-container-id-3 input.sk-toggleable__control:checked~label.sk-toggleable__label-arrow:before {\n",
       "  content: \"▾\";\n",
       "}\n",
       "\n",
       "/* Pipeline/ColumnTransformer-specific style */\n",
       "\n",
       "#sk-container-id-3 div.sk-label input.sk-toggleable__control:checked~label.sk-toggleable__label {\n",
       "  color: var(--sklearn-color-text);\n",
       "  background-color: var(--sklearn-color-unfitted-level-2);\n",
       "}\n",
       "\n",
       "#sk-container-id-3 div.sk-label.fitted input.sk-toggleable__control:checked~label.sk-toggleable__label {\n",
       "  background-color: var(--sklearn-color-fitted-level-2);\n",
       "}\n",
       "\n",
       "/* Estimator-specific style */\n",
       "\n",
       "/* Colorize estimator box */\n",
       "#sk-container-id-3 div.sk-estimator input.sk-toggleable__control:checked~label.sk-toggleable__label {\n",
       "  /* unfitted */\n",
       "  background-color: var(--sklearn-color-unfitted-level-2);\n",
       "}\n",
       "\n",
       "#sk-container-id-3 div.sk-estimator.fitted input.sk-toggleable__control:checked~label.sk-toggleable__label {\n",
       "  /* fitted */\n",
       "  background-color: var(--sklearn-color-fitted-level-2);\n",
       "}\n",
       "\n",
       "#sk-container-id-3 div.sk-label label.sk-toggleable__label,\n",
       "#sk-container-id-3 div.sk-label label {\n",
       "  /* The background is the default theme color */\n",
       "  color: var(--sklearn-color-text-on-default-background);\n",
       "}\n",
       "\n",
       "/* On hover, darken the color of the background */\n",
       "#sk-container-id-3 div.sk-label:hover label.sk-toggleable__label {\n",
       "  color: var(--sklearn-color-text);\n",
       "  background-color: var(--sklearn-color-unfitted-level-2);\n",
       "}\n",
       "\n",
       "/* Label box, darken color on hover, fitted */\n",
       "#sk-container-id-3 div.sk-label.fitted:hover label.sk-toggleable__label.fitted {\n",
       "  color: var(--sklearn-color-text);\n",
       "  background-color: var(--sklearn-color-fitted-level-2);\n",
       "}\n",
       "\n",
       "/* Estimator label */\n",
       "\n",
       "#sk-container-id-3 div.sk-label label {\n",
       "  font-family: monospace;\n",
       "  font-weight: bold;\n",
       "  display: inline-block;\n",
       "  line-height: 1.2em;\n",
       "}\n",
       "\n",
       "#sk-container-id-3 div.sk-label-container {\n",
       "  text-align: center;\n",
       "}\n",
       "\n",
       "/* Estimator-specific */\n",
       "#sk-container-id-3 div.sk-estimator {\n",
       "  font-family: monospace;\n",
       "  border: 1px dotted var(--sklearn-color-border-box);\n",
       "  border-radius: 0.25em;\n",
       "  box-sizing: border-box;\n",
       "  margin-bottom: 0.5em;\n",
       "  /* unfitted */\n",
       "  background-color: var(--sklearn-color-unfitted-level-0);\n",
       "}\n",
       "\n",
       "#sk-container-id-3 div.sk-estimator.fitted {\n",
       "  /* fitted */\n",
       "  background-color: var(--sklearn-color-fitted-level-0);\n",
       "}\n",
       "\n",
       "/* on hover */\n",
       "#sk-container-id-3 div.sk-estimator:hover {\n",
       "  /* unfitted */\n",
       "  background-color: var(--sklearn-color-unfitted-level-2);\n",
       "}\n",
       "\n",
       "#sk-container-id-3 div.sk-estimator.fitted:hover {\n",
       "  /* fitted */\n",
       "  background-color: var(--sklearn-color-fitted-level-2);\n",
       "}\n",
       "\n",
       "/* Specification for estimator info (e.g. \"i\" and \"?\") */\n",
       "\n",
       "/* Common style for \"i\" and \"?\" */\n",
       "\n",
       ".sk-estimator-doc-link,\n",
       "a:link.sk-estimator-doc-link,\n",
       "a:visited.sk-estimator-doc-link {\n",
       "  float: right;\n",
       "  font-size: smaller;\n",
       "  line-height: 1em;\n",
       "  font-family: monospace;\n",
       "  background-color: var(--sklearn-color-background);\n",
       "  border-radius: 1em;\n",
       "  height: 1em;\n",
       "  width: 1em;\n",
       "  text-decoration: none !important;\n",
       "  margin-left: 1ex;\n",
       "  /* unfitted */\n",
       "  border: var(--sklearn-color-unfitted-level-1) 1pt solid;\n",
       "  color: var(--sklearn-color-unfitted-level-1);\n",
       "}\n",
       "\n",
       ".sk-estimator-doc-link.fitted,\n",
       "a:link.sk-estimator-doc-link.fitted,\n",
       "a:visited.sk-estimator-doc-link.fitted {\n",
       "  /* fitted */\n",
       "  border: var(--sklearn-color-fitted-level-1) 1pt solid;\n",
       "  color: var(--sklearn-color-fitted-level-1);\n",
       "}\n",
       "\n",
       "/* On hover */\n",
       "div.sk-estimator:hover .sk-estimator-doc-link:hover,\n",
       ".sk-estimator-doc-link:hover,\n",
       "div.sk-label-container:hover .sk-estimator-doc-link:hover,\n",
       ".sk-estimator-doc-link:hover {\n",
       "  /* unfitted */\n",
       "  background-color: var(--sklearn-color-unfitted-level-3);\n",
       "  color: var(--sklearn-color-background);\n",
       "  text-decoration: none;\n",
       "}\n",
       "\n",
       "div.sk-estimator.fitted:hover .sk-estimator-doc-link.fitted:hover,\n",
       ".sk-estimator-doc-link.fitted:hover,\n",
       "div.sk-label-container:hover .sk-estimator-doc-link.fitted:hover,\n",
       ".sk-estimator-doc-link.fitted:hover {\n",
       "  /* fitted */\n",
       "  background-color: var(--sklearn-color-fitted-level-3);\n",
       "  color: var(--sklearn-color-background);\n",
       "  text-decoration: none;\n",
       "}\n",
       "\n",
       "/* Span, style for the box shown on hovering the info icon */\n",
       ".sk-estimator-doc-link span {\n",
       "  display: none;\n",
       "  z-index: 9999;\n",
       "  position: relative;\n",
       "  font-weight: normal;\n",
       "  right: .2ex;\n",
       "  padding: .5ex;\n",
       "  margin: .5ex;\n",
       "  width: min-content;\n",
       "  min-width: 20ex;\n",
       "  max-width: 50ex;\n",
       "  color: var(--sklearn-color-text);\n",
       "  box-shadow: 2pt 2pt 4pt #999;\n",
       "  /* unfitted */\n",
       "  background: var(--sklearn-color-unfitted-level-0);\n",
       "  border: .5pt solid var(--sklearn-color-unfitted-level-3);\n",
       "}\n",
       "\n",
       ".sk-estimator-doc-link.fitted span {\n",
       "  /* fitted */\n",
       "  background: var(--sklearn-color-fitted-level-0);\n",
       "  border: var(--sklearn-color-fitted-level-3);\n",
       "}\n",
       "\n",
       ".sk-estimator-doc-link:hover span {\n",
       "  display: block;\n",
       "}\n",
       "\n",
       "/* \"?\"-specific style due to the `<a>` HTML tag */\n",
       "\n",
       "#sk-container-id-3 a.estimator_doc_link {\n",
       "  float: right;\n",
       "  font-size: 1rem;\n",
       "  line-height: 1em;\n",
       "  font-family: monospace;\n",
       "  background-color: var(--sklearn-color-background);\n",
       "  border-radius: 1rem;\n",
       "  height: 1rem;\n",
       "  width: 1rem;\n",
       "  text-decoration: none;\n",
       "  /* unfitted */\n",
       "  color: var(--sklearn-color-unfitted-level-1);\n",
       "  border: var(--sklearn-color-unfitted-level-1) 1pt solid;\n",
       "}\n",
       "\n",
       "#sk-container-id-3 a.estimator_doc_link.fitted {\n",
       "  /* fitted */\n",
       "  border: var(--sklearn-color-fitted-level-1) 1pt solid;\n",
       "  color: var(--sklearn-color-fitted-level-1);\n",
       "}\n",
       "\n",
       "/* On hover */\n",
       "#sk-container-id-3 a.estimator_doc_link:hover {\n",
       "  /* unfitted */\n",
       "  background-color: var(--sklearn-color-unfitted-level-3);\n",
       "  color: var(--sklearn-color-background);\n",
       "  text-decoration: none;\n",
       "}\n",
       "\n",
       "#sk-container-id-3 a.estimator_doc_link.fitted:hover {\n",
       "  /* fitted */\n",
       "  background-color: var(--sklearn-color-fitted-level-3);\n",
       "}\n",
       "</style><div id=\"sk-container-id-3\" class=\"sk-top-container\"><div class=\"sk-text-repr-fallback\"><pre>RandomizedSearchCV(cv=5,\n",
       "                   estimator=XGBClassifier(base_score=None, booster=None,\n",
       "                                           callbacks=None,\n",
       "                                           colsample_bylevel=None,\n",
       "                                           colsample_bynode=None,\n",
       "                                           colsample_bytree=None, device=None,\n",
       "                                           early_stopping_rounds=None,\n",
       "                                           enable_categorical=False,\n",
       "                                           eval_metric=None, feature_types=None,\n",
       "                                           gamma=None, grow_policy=None,\n",
       "                                           importance_type=None,\n",
       "                                           interaction_constraints=None,\n",
       "                                           learning_rate...\n",
       "                                           max_leaves=None,\n",
       "                                           min_child_weight=None, missing=nan,\n",
       "                                           monotone_constraints=None,\n",
       "                                           multi_strategy=None,\n",
       "                                           n_estimators=None, n_jobs=-1,\n",
       "                                           num_parallel_tree=None,\n",
       "                                           random_state=42, ...),\n",
       "                   n_iter=100,\n",
       "                   param_distributions={&#x27;learning_rate&#x27;: [0.0001, 0.001, 0.01,\n",
       "                                                          0.05, 0.1, 1],\n",
       "                                        &#x27;max_depth&#x27;: [1, 2, 3, 4, 5, 6, 7, 8,\n",
       "                                                      9],\n",
       "                                        &#x27;n_estimators&#x27;: [100, 200, 500, 1000,\n",
       "                                                         1500]},\n",
       "                   random_state=42, scoring=&#x27;roc_auc&#x27;, verbose=1)</pre><b>In a Jupyter environment, please rerun this cell to show the HTML representation or trust the notebook. <br />On GitHub, the HTML representation is unable to render, please try loading this page with nbviewer.org.</b></div><div class=\"sk-container\" hidden><div class=\"sk-item sk-dashed-wrapped\"><div class=\"sk-label-container\"><div class=\"sk-label fitted sk-toggleable\"><input class=\"sk-toggleable__control sk-hidden--visually\" id=\"sk-estimator-id-7\" type=\"checkbox\" ><label for=\"sk-estimator-id-7\" class=\"sk-toggleable__label fitted sk-toggleable__label-arrow fitted\">&nbsp;&nbsp;RandomizedSearchCV<a class=\"sk-estimator-doc-link fitted\" rel=\"noreferrer\" target=\"_blank\" href=\"https://scikit-learn.org/1.5/modules/generated/sklearn.model_selection.RandomizedSearchCV.html\">?<span>Documentation for RandomizedSearchCV</span></a><span class=\"sk-estimator-doc-link fitted\">i<span>Fitted</span></span></label><div class=\"sk-toggleable__content fitted\"><pre>RandomizedSearchCV(cv=5,\n",
       "                   estimator=XGBClassifier(base_score=None, booster=None,\n",
       "                                           callbacks=None,\n",
       "                                           colsample_bylevel=None,\n",
       "                                           colsample_bynode=None,\n",
       "                                           colsample_bytree=None, device=None,\n",
       "                                           early_stopping_rounds=None,\n",
       "                                           enable_categorical=False,\n",
       "                                           eval_metric=None, feature_types=None,\n",
       "                                           gamma=None, grow_policy=None,\n",
       "                                           importance_type=None,\n",
       "                                           interaction_constraints=None,\n",
       "                                           learning_rate...\n",
       "                                           max_leaves=None,\n",
       "                                           min_child_weight=None, missing=nan,\n",
       "                                           monotone_constraints=None,\n",
       "                                           multi_strategy=None,\n",
       "                                           n_estimators=None, n_jobs=-1,\n",
       "                                           num_parallel_tree=None,\n",
       "                                           random_state=42, ...),\n",
       "                   n_iter=100,\n",
       "                   param_distributions={&#x27;learning_rate&#x27;: [0.0001, 0.001, 0.01,\n",
       "                                                          0.05, 0.1, 1],\n",
       "                                        &#x27;max_depth&#x27;: [1, 2, 3, 4, 5, 6, 7, 8,\n",
       "                                                      9],\n",
       "                                        &#x27;n_estimators&#x27;: [100, 200, 500, 1000,\n",
       "                                                         1500]},\n",
       "                   random_state=42, scoring=&#x27;roc_auc&#x27;, verbose=1)</pre></div> </div></div><div class=\"sk-parallel\"><div class=\"sk-parallel-item\"><div class=\"sk-item\"><div class=\"sk-label-container\"><div class=\"sk-label fitted sk-toggleable\"><input class=\"sk-toggleable__control sk-hidden--visually\" id=\"sk-estimator-id-8\" type=\"checkbox\" ><label for=\"sk-estimator-id-8\" class=\"sk-toggleable__label fitted sk-toggleable__label-arrow fitted\">best_estimator_: XGBClassifier</label><div class=\"sk-toggleable__content fitted\"><pre>XGBClassifier(base_score=None, booster=None, callbacks=None,\n",
       "              colsample_bylevel=None, colsample_bynode=None,\n",
       "              colsample_bytree=None, device=None, early_stopping_rounds=None,\n",
       "              enable_categorical=False, eval_metric=None, feature_types=None,\n",
       "              gamma=None, grow_policy=None, importance_type=None,\n",
       "              interaction_constraints=None, learning_rate=0.1, max_bin=None,\n",
       "              max_cat_threshold=None, max_cat_to_onehot=None,\n",
       "              max_delta_step=None, max_depth=9, max_leaves=None,\n",
       "              min_child_weight=None, missing=nan, monotone_constraints=None,\n",
       "              multi_strategy=None, n_estimators=1500, n_jobs=-1,\n",
       "              num_parallel_tree=None, random_state=42, ...)</pre></div> </div></div><div class=\"sk-serial\"><div class=\"sk-item\"><div class=\"sk-estimator fitted sk-toggleable\"><input class=\"sk-toggleable__control sk-hidden--visually\" id=\"sk-estimator-id-9\" type=\"checkbox\" ><label for=\"sk-estimator-id-9\" class=\"sk-toggleable__label fitted sk-toggleable__label-arrow fitted\">XGBClassifier</label><div class=\"sk-toggleable__content fitted\"><pre>XGBClassifier(base_score=None, booster=None, callbacks=None,\n",
       "              colsample_bylevel=None, colsample_bynode=None,\n",
       "              colsample_bytree=None, device=None, early_stopping_rounds=None,\n",
       "              enable_categorical=False, eval_metric=None, feature_types=None,\n",
       "              gamma=None, grow_policy=None, importance_type=None,\n",
       "              interaction_constraints=None, learning_rate=0.1, max_bin=None,\n",
       "              max_cat_threshold=None, max_cat_to_onehot=None,\n",
       "              max_delta_step=None, max_depth=9, max_leaves=None,\n",
       "              min_child_weight=None, missing=nan, monotone_constraints=None,\n",
       "              multi_strategy=None, n_estimators=1500, n_jobs=-1,\n",
       "              num_parallel_tree=None, random_state=42, ...)</pre></div> </div></div></div></div></div></div></div></div></div>"
      ],
      "text/plain": [
       "RandomizedSearchCV(cv=5,\n",
       "                   estimator=XGBClassifier(base_score=None, booster=None,\n",
       "                                           callbacks=None,\n",
       "                                           colsample_bylevel=None,\n",
       "                                           colsample_bynode=None,\n",
       "                                           colsample_bytree=None, device=None,\n",
       "                                           early_stopping_rounds=None,\n",
       "                                           enable_categorical=False,\n",
       "                                           eval_metric=None, feature_types=None,\n",
       "                                           gamma=None, grow_policy=None,\n",
       "                                           importance_type=None,\n",
       "                                           interaction_constraints=None,\n",
       "                                           learning_rate...\n",
       "                                           max_leaves=None,\n",
       "                                           min_child_weight=None, missing=nan,\n",
       "                                           monotone_constraints=None,\n",
       "                                           multi_strategy=None,\n",
       "                                           n_estimators=None, n_jobs=-1,\n",
       "                                           num_parallel_tree=None,\n",
       "                                           random_state=42, ...),\n",
       "                   n_iter=100,\n",
       "                   param_distributions={'learning_rate': [0.0001, 0.001, 0.01,\n",
       "                                                          0.05, 0.1, 1],\n",
       "                                        'max_depth': [1, 2, 3, 4, 5, 6, 7, 8,\n",
       "                                                      9],\n",
       "                                        'n_estimators': [100, 200, 500, 1000,\n",
       "                                                         1500]},\n",
       "                   random_state=42, scoring='roc_auc', verbose=1)"
      ]
     },
     "execution_count": 59,
     "metadata": {},
     "output_type": "execute_result"
    }
   ],
   "source": [
    "%%time\n",
    "xgb_clf = XGBClassifier(random_state=42, n_jobs=-1)\n",
    "\n",
    "param = {'n_estimators' : [100, 200, 500, 1000, 1500],\n",
    "         'max_depth': [1, 2, 3, 4, 5, 6, 7, 8, 9],\n",
    "         'learning_rate':[0.0001, 0.001, 0.01, 0.05, 0.1, 1]\n",
    "        }\n",
    "\n",
    "xgb_otimizado = RandomizedSearchCV(estimator=xgb_clf, param_distributions= param, n_iter=100,\n",
    "                                   scoring='roc_auc', cv=5, random_state=42, verbose=1, refit=True)\n",
    "\n",
    "xgb_otimizado.fit(X_train_transformed, y_train)"
   ]
  },
  {
   "cell_type": "code",
   "execution_count": 60,
   "id": "61bf03a3-6308-4c2d-849d-6504df82b185",
   "metadata": {},
   "outputs": [
    {
     "data": {
      "text/html": [
       "<style>#sk-container-id-4 {\n",
       "  /* Definition of color scheme common for light and dark mode */\n",
       "  --sklearn-color-text: black;\n",
       "  --sklearn-color-line: gray;\n",
       "  /* Definition of color scheme for unfitted estimators */\n",
       "  --sklearn-color-unfitted-level-0: #fff5e6;\n",
       "  --sklearn-color-unfitted-level-1: #f6e4d2;\n",
       "  --sklearn-color-unfitted-level-2: #ffe0b3;\n",
       "  --sklearn-color-unfitted-level-3: chocolate;\n",
       "  /* Definition of color scheme for fitted estimators */\n",
       "  --sklearn-color-fitted-level-0: #f0f8ff;\n",
       "  --sklearn-color-fitted-level-1: #d4ebff;\n",
       "  --sklearn-color-fitted-level-2: #b3dbfd;\n",
       "  --sklearn-color-fitted-level-3: cornflowerblue;\n",
       "\n",
       "  /* Specific color for light theme */\n",
       "  --sklearn-color-text-on-default-background: var(--sg-text-color, var(--theme-code-foreground, var(--jp-content-font-color1, black)));\n",
       "  --sklearn-color-background: var(--sg-background-color, var(--theme-background, var(--jp-layout-color0, white)));\n",
       "  --sklearn-color-border-box: var(--sg-text-color, var(--theme-code-foreground, var(--jp-content-font-color1, black)));\n",
       "  --sklearn-color-icon: #696969;\n",
       "\n",
       "  @media (prefers-color-scheme: dark) {\n",
       "    /* Redefinition of color scheme for dark theme */\n",
       "    --sklearn-color-text-on-default-background: var(--sg-text-color, var(--theme-code-foreground, var(--jp-content-font-color1, white)));\n",
       "    --sklearn-color-background: var(--sg-background-color, var(--theme-background, var(--jp-layout-color0, #111)));\n",
       "    --sklearn-color-border-box: var(--sg-text-color, var(--theme-code-foreground, var(--jp-content-font-color1, white)));\n",
       "    --sklearn-color-icon: #878787;\n",
       "  }\n",
       "}\n",
       "\n",
       "#sk-container-id-4 {\n",
       "  color: var(--sklearn-color-text);\n",
       "}\n",
       "\n",
       "#sk-container-id-4 pre {\n",
       "  padding: 0;\n",
       "}\n",
       "\n",
       "#sk-container-id-4 input.sk-hidden--visually {\n",
       "  border: 0;\n",
       "  clip: rect(1px 1px 1px 1px);\n",
       "  clip: rect(1px, 1px, 1px, 1px);\n",
       "  height: 1px;\n",
       "  margin: -1px;\n",
       "  overflow: hidden;\n",
       "  padding: 0;\n",
       "  position: absolute;\n",
       "  width: 1px;\n",
       "}\n",
       "\n",
       "#sk-container-id-4 div.sk-dashed-wrapped {\n",
       "  border: 1px dashed var(--sklearn-color-line);\n",
       "  margin: 0 0.4em 0.5em 0.4em;\n",
       "  box-sizing: border-box;\n",
       "  padding-bottom: 0.4em;\n",
       "  background-color: var(--sklearn-color-background);\n",
       "}\n",
       "\n",
       "#sk-container-id-4 div.sk-container {\n",
       "  /* jupyter's `normalize.less` sets `[hidden] { display: none; }`\n",
       "     but bootstrap.min.css set `[hidden] { display: none !important; }`\n",
       "     so we also need the `!important` here to be able to override the\n",
       "     default hidden behavior on the sphinx rendered scikit-learn.org.\n",
       "     See: https://github.com/scikit-learn/scikit-learn/issues/21755 */\n",
       "  display: inline-block !important;\n",
       "  position: relative;\n",
       "}\n",
       "\n",
       "#sk-container-id-4 div.sk-text-repr-fallback {\n",
       "  display: none;\n",
       "}\n",
       "\n",
       "div.sk-parallel-item,\n",
       "div.sk-serial,\n",
       "div.sk-item {\n",
       "  /* draw centered vertical line to link estimators */\n",
       "  background-image: linear-gradient(var(--sklearn-color-text-on-default-background), var(--sklearn-color-text-on-default-background));\n",
       "  background-size: 2px 100%;\n",
       "  background-repeat: no-repeat;\n",
       "  background-position: center center;\n",
       "}\n",
       "\n",
       "/* Parallel-specific style estimator block */\n",
       "\n",
       "#sk-container-id-4 div.sk-parallel-item::after {\n",
       "  content: \"\";\n",
       "  width: 100%;\n",
       "  border-bottom: 2px solid var(--sklearn-color-text-on-default-background);\n",
       "  flex-grow: 1;\n",
       "}\n",
       "\n",
       "#sk-container-id-4 div.sk-parallel {\n",
       "  display: flex;\n",
       "  align-items: stretch;\n",
       "  justify-content: center;\n",
       "  background-color: var(--sklearn-color-background);\n",
       "  position: relative;\n",
       "}\n",
       "\n",
       "#sk-container-id-4 div.sk-parallel-item {\n",
       "  display: flex;\n",
       "  flex-direction: column;\n",
       "}\n",
       "\n",
       "#sk-container-id-4 div.sk-parallel-item:first-child::after {\n",
       "  align-self: flex-end;\n",
       "  width: 50%;\n",
       "}\n",
       "\n",
       "#sk-container-id-4 div.sk-parallel-item:last-child::after {\n",
       "  align-self: flex-start;\n",
       "  width: 50%;\n",
       "}\n",
       "\n",
       "#sk-container-id-4 div.sk-parallel-item:only-child::after {\n",
       "  width: 0;\n",
       "}\n",
       "\n",
       "/* Serial-specific style estimator block */\n",
       "\n",
       "#sk-container-id-4 div.sk-serial {\n",
       "  display: flex;\n",
       "  flex-direction: column;\n",
       "  align-items: center;\n",
       "  background-color: var(--sklearn-color-background);\n",
       "  padding-right: 1em;\n",
       "  padding-left: 1em;\n",
       "}\n",
       "\n",
       "\n",
       "/* Toggleable style: style used for estimator/Pipeline/ColumnTransformer box that is\n",
       "clickable and can be expanded/collapsed.\n",
       "- Pipeline and ColumnTransformer use this feature and define the default style\n",
       "- Estimators will overwrite some part of the style using the `sk-estimator` class\n",
       "*/\n",
       "\n",
       "/* Pipeline and ColumnTransformer style (default) */\n",
       "\n",
       "#sk-container-id-4 div.sk-toggleable {\n",
       "  /* Default theme specific background. It is overwritten whether we have a\n",
       "  specific estimator or a Pipeline/ColumnTransformer */\n",
       "  background-color: var(--sklearn-color-background);\n",
       "}\n",
       "\n",
       "/* Toggleable label */\n",
       "#sk-container-id-4 label.sk-toggleable__label {\n",
       "  cursor: pointer;\n",
       "  display: block;\n",
       "  width: 100%;\n",
       "  margin-bottom: 0;\n",
       "  padding: 0.5em;\n",
       "  box-sizing: border-box;\n",
       "  text-align: center;\n",
       "}\n",
       "\n",
       "#sk-container-id-4 label.sk-toggleable__label-arrow:before {\n",
       "  /* Arrow on the left of the label */\n",
       "  content: \"▸\";\n",
       "  float: left;\n",
       "  margin-right: 0.25em;\n",
       "  color: var(--sklearn-color-icon);\n",
       "}\n",
       "\n",
       "#sk-container-id-4 label.sk-toggleable__label-arrow:hover:before {\n",
       "  color: var(--sklearn-color-text);\n",
       "}\n",
       "\n",
       "/* Toggleable content - dropdown */\n",
       "\n",
       "#sk-container-id-4 div.sk-toggleable__content {\n",
       "  max-height: 0;\n",
       "  max-width: 0;\n",
       "  overflow: hidden;\n",
       "  text-align: left;\n",
       "  /* unfitted */\n",
       "  background-color: var(--sklearn-color-unfitted-level-0);\n",
       "}\n",
       "\n",
       "#sk-container-id-4 div.sk-toggleable__content.fitted {\n",
       "  /* fitted */\n",
       "  background-color: var(--sklearn-color-fitted-level-0);\n",
       "}\n",
       "\n",
       "#sk-container-id-4 div.sk-toggleable__content pre {\n",
       "  margin: 0.2em;\n",
       "  border-radius: 0.25em;\n",
       "  color: var(--sklearn-color-text);\n",
       "  /* unfitted */\n",
       "  background-color: var(--sklearn-color-unfitted-level-0);\n",
       "}\n",
       "\n",
       "#sk-container-id-4 div.sk-toggleable__content.fitted pre {\n",
       "  /* unfitted */\n",
       "  background-color: var(--sklearn-color-fitted-level-0);\n",
       "}\n",
       "\n",
       "#sk-container-id-4 input.sk-toggleable__control:checked~div.sk-toggleable__content {\n",
       "  /* Expand drop-down */\n",
       "  max-height: 200px;\n",
       "  max-width: 100%;\n",
       "  overflow: auto;\n",
       "}\n",
       "\n",
       "#sk-container-id-4 input.sk-toggleable__control:checked~label.sk-toggleable__label-arrow:before {\n",
       "  content: \"▾\";\n",
       "}\n",
       "\n",
       "/* Pipeline/ColumnTransformer-specific style */\n",
       "\n",
       "#sk-container-id-4 div.sk-label input.sk-toggleable__control:checked~label.sk-toggleable__label {\n",
       "  color: var(--sklearn-color-text);\n",
       "  background-color: var(--sklearn-color-unfitted-level-2);\n",
       "}\n",
       "\n",
       "#sk-container-id-4 div.sk-label.fitted input.sk-toggleable__control:checked~label.sk-toggleable__label {\n",
       "  background-color: var(--sklearn-color-fitted-level-2);\n",
       "}\n",
       "\n",
       "/* Estimator-specific style */\n",
       "\n",
       "/* Colorize estimator box */\n",
       "#sk-container-id-4 div.sk-estimator input.sk-toggleable__control:checked~label.sk-toggleable__label {\n",
       "  /* unfitted */\n",
       "  background-color: var(--sklearn-color-unfitted-level-2);\n",
       "}\n",
       "\n",
       "#sk-container-id-4 div.sk-estimator.fitted input.sk-toggleable__control:checked~label.sk-toggleable__label {\n",
       "  /* fitted */\n",
       "  background-color: var(--sklearn-color-fitted-level-2);\n",
       "}\n",
       "\n",
       "#sk-container-id-4 div.sk-label label.sk-toggleable__label,\n",
       "#sk-container-id-4 div.sk-label label {\n",
       "  /* The background is the default theme color */\n",
       "  color: var(--sklearn-color-text-on-default-background);\n",
       "}\n",
       "\n",
       "/* On hover, darken the color of the background */\n",
       "#sk-container-id-4 div.sk-label:hover label.sk-toggleable__label {\n",
       "  color: var(--sklearn-color-text);\n",
       "  background-color: var(--sklearn-color-unfitted-level-2);\n",
       "}\n",
       "\n",
       "/* Label box, darken color on hover, fitted */\n",
       "#sk-container-id-4 div.sk-label.fitted:hover label.sk-toggleable__label.fitted {\n",
       "  color: var(--sklearn-color-text);\n",
       "  background-color: var(--sklearn-color-fitted-level-2);\n",
       "}\n",
       "\n",
       "/* Estimator label */\n",
       "\n",
       "#sk-container-id-4 div.sk-label label {\n",
       "  font-family: monospace;\n",
       "  font-weight: bold;\n",
       "  display: inline-block;\n",
       "  line-height: 1.2em;\n",
       "}\n",
       "\n",
       "#sk-container-id-4 div.sk-label-container {\n",
       "  text-align: center;\n",
       "}\n",
       "\n",
       "/* Estimator-specific */\n",
       "#sk-container-id-4 div.sk-estimator {\n",
       "  font-family: monospace;\n",
       "  border: 1px dotted var(--sklearn-color-border-box);\n",
       "  border-radius: 0.25em;\n",
       "  box-sizing: border-box;\n",
       "  margin-bottom: 0.5em;\n",
       "  /* unfitted */\n",
       "  background-color: var(--sklearn-color-unfitted-level-0);\n",
       "}\n",
       "\n",
       "#sk-container-id-4 div.sk-estimator.fitted {\n",
       "  /* fitted */\n",
       "  background-color: var(--sklearn-color-fitted-level-0);\n",
       "}\n",
       "\n",
       "/* on hover */\n",
       "#sk-container-id-4 div.sk-estimator:hover {\n",
       "  /* unfitted */\n",
       "  background-color: var(--sklearn-color-unfitted-level-2);\n",
       "}\n",
       "\n",
       "#sk-container-id-4 div.sk-estimator.fitted:hover {\n",
       "  /* fitted */\n",
       "  background-color: var(--sklearn-color-fitted-level-2);\n",
       "}\n",
       "\n",
       "/* Specification for estimator info (e.g. \"i\" and \"?\") */\n",
       "\n",
       "/* Common style for \"i\" and \"?\" */\n",
       "\n",
       ".sk-estimator-doc-link,\n",
       "a:link.sk-estimator-doc-link,\n",
       "a:visited.sk-estimator-doc-link {\n",
       "  float: right;\n",
       "  font-size: smaller;\n",
       "  line-height: 1em;\n",
       "  font-family: monospace;\n",
       "  background-color: var(--sklearn-color-background);\n",
       "  border-radius: 1em;\n",
       "  height: 1em;\n",
       "  width: 1em;\n",
       "  text-decoration: none !important;\n",
       "  margin-left: 1ex;\n",
       "  /* unfitted */\n",
       "  border: var(--sklearn-color-unfitted-level-1) 1pt solid;\n",
       "  color: var(--sklearn-color-unfitted-level-1);\n",
       "}\n",
       "\n",
       ".sk-estimator-doc-link.fitted,\n",
       "a:link.sk-estimator-doc-link.fitted,\n",
       "a:visited.sk-estimator-doc-link.fitted {\n",
       "  /* fitted */\n",
       "  border: var(--sklearn-color-fitted-level-1) 1pt solid;\n",
       "  color: var(--sklearn-color-fitted-level-1);\n",
       "}\n",
       "\n",
       "/* On hover */\n",
       "div.sk-estimator:hover .sk-estimator-doc-link:hover,\n",
       ".sk-estimator-doc-link:hover,\n",
       "div.sk-label-container:hover .sk-estimator-doc-link:hover,\n",
       ".sk-estimator-doc-link:hover {\n",
       "  /* unfitted */\n",
       "  background-color: var(--sklearn-color-unfitted-level-3);\n",
       "  color: var(--sklearn-color-background);\n",
       "  text-decoration: none;\n",
       "}\n",
       "\n",
       "div.sk-estimator.fitted:hover .sk-estimator-doc-link.fitted:hover,\n",
       ".sk-estimator-doc-link.fitted:hover,\n",
       "div.sk-label-container:hover .sk-estimator-doc-link.fitted:hover,\n",
       ".sk-estimator-doc-link.fitted:hover {\n",
       "  /* fitted */\n",
       "  background-color: var(--sklearn-color-fitted-level-3);\n",
       "  color: var(--sklearn-color-background);\n",
       "  text-decoration: none;\n",
       "}\n",
       "\n",
       "/* Span, style for the box shown on hovering the info icon */\n",
       ".sk-estimator-doc-link span {\n",
       "  display: none;\n",
       "  z-index: 9999;\n",
       "  position: relative;\n",
       "  font-weight: normal;\n",
       "  right: .2ex;\n",
       "  padding: .5ex;\n",
       "  margin: .5ex;\n",
       "  width: min-content;\n",
       "  min-width: 20ex;\n",
       "  max-width: 50ex;\n",
       "  color: var(--sklearn-color-text);\n",
       "  box-shadow: 2pt 2pt 4pt #999;\n",
       "  /* unfitted */\n",
       "  background: var(--sklearn-color-unfitted-level-0);\n",
       "  border: .5pt solid var(--sklearn-color-unfitted-level-3);\n",
       "}\n",
       "\n",
       ".sk-estimator-doc-link.fitted span {\n",
       "  /* fitted */\n",
       "  background: var(--sklearn-color-fitted-level-0);\n",
       "  border: var(--sklearn-color-fitted-level-3);\n",
       "}\n",
       "\n",
       ".sk-estimator-doc-link:hover span {\n",
       "  display: block;\n",
       "}\n",
       "\n",
       "/* \"?\"-specific style due to the `<a>` HTML tag */\n",
       "\n",
       "#sk-container-id-4 a.estimator_doc_link {\n",
       "  float: right;\n",
       "  font-size: 1rem;\n",
       "  line-height: 1em;\n",
       "  font-family: monospace;\n",
       "  background-color: var(--sklearn-color-background);\n",
       "  border-radius: 1rem;\n",
       "  height: 1rem;\n",
       "  width: 1rem;\n",
       "  text-decoration: none;\n",
       "  /* unfitted */\n",
       "  color: var(--sklearn-color-unfitted-level-1);\n",
       "  border: var(--sklearn-color-unfitted-level-1) 1pt solid;\n",
       "}\n",
       "\n",
       "#sk-container-id-4 a.estimator_doc_link.fitted {\n",
       "  /* fitted */\n",
       "  border: var(--sklearn-color-fitted-level-1) 1pt solid;\n",
       "  color: var(--sklearn-color-fitted-level-1);\n",
       "}\n",
       "\n",
       "/* On hover */\n",
       "#sk-container-id-4 a.estimator_doc_link:hover {\n",
       "  /* unfitted */\n",
       "  background-color: var(--sklearn-color-unfitted-level-3);\n",
       "  color: var(--sklearn-color-background);\n",
       "  text-decoration: none;\n",
       "}\n",
       "\n",
       "#sk-container-id-4 a.estimator_doc_link.fitted:hover {\n",
       "  /* fitted */\n",
       "  background-color: var(--sklearn-color-fitted-level-3);\n",
       "}\n",
       "</style><div id=\"sk-container-id-4\" class=\"sk-top-container\"><div class=\"sk-text-repr-fallback\"><pre>XGBClassifier(base_score=None, booster=None, callbacks=None,\n",
       "              colsample_bylevel=None, colsample_bynode=None,\n",
       "              colsample_bytree=None, device=None, early_stopping_rounds=None,\n",
       "              enable_categorical=False, eval_metric=None, feature_types=None,\n",
       "              gamma=None, grow_policy=None, importance_type=None,\n",
       "              interaction_constraints=None, learning_rate=0.1, max_bin=None,\n",
       "              max_cat_threshold=None, max_cat_to_onehot=None,\n",
       "              max_delta_step=None, max_depth=9, max_leaves=None,\n",
       "              min_child_weight=None, missing=nan, monotone_constraints=None,\n",
       "              multi_strategy=None, n_estimators=1500, n_jobs=-1,\n",
       "              num_parallel_tree=None, random_state=42, ...)</pre><b>In a Jupyter environment, please rerun this cell to show the HTML representation or trust the notebook. <br />On GitHub, the HTML representation is unable to render, please try loading this page with nbviewer.org.</b></div><div class=\"sk-container\" hidden><div class=\"sk-item\"><div class=\"sk-estimator fitted sk-toggleable\"><input class=\"sk-toggleable__control sk-hidden--visually\" id=\"sk-estimator-id-10\" type=\"checkbox\" checked><label for=\"sk-estimator-id-10\" class=\"sk-toggleable__label fitted sk-toggleable__label-arrow fitted\">&nbsp;XGBClassifier<span class=\"sk-estimator-doc-link fitted\">i<span>Fitted</span></span></label><div class=\"sk-toggleable__content fitted\"><pre>XGBClassifier(base_score=None, booster=None, callbacks=None,\n",
       "              colsample_bylevel=None, colsample_bynode=None,\n",
       "              colsample_bytree=None, device=None, early_stopping_rounds=None,\n",
       "              enable_categorical=False, eval_metric=None, feature_types=None,\n",
       "              gamma=None, grow_policy=None, importance_type=None,\n",
       "              interaction_constraints=None, learning_rate=0.1, max_bin=None,\n",
       "              max_cat_threshold=None, max_cat_to_onehot=None,\n",
       "              max_delta_step=None, max_depth=9, max_leaves=None,\n",
       "              min_child_weight=None, missing=nan, monotone_constraints=None,\n",
       "              multi_strategy=None, n_estimators=1500, n_jobs=-1,\n",
       "              num_parallel_tree=None, random_state=42, ...)</pre></div> </div></div></div></div>"
      ],
      "text/plain": [
       "XGBClassifier(base_score=None, booster=None, callbacks=None,\n",
       "              colsample_bylevel=None, colsample_bynode=None,\n",
       "              colsample_bytree=None, device=None, early_stopping_rounds=None,\n",
       "              enable_categorical=False, eval_metric=None, feature_types=None,\n",
       "              gamma=None, grow_policy=None, importance_type=None,\n",
       "              interaction_constraints=None, learning_rate=0.1, max_bin=None,\n",
       "              max_cat_threshold=None, max_cat_to_onehot=None,\n",
       "              max_delta_step=None, max_depth=9, max_leaves=None,\n",
       "              min_child_weight=None, missing=nan, monotone_constraints=None,\n",
       "              multi_strategy=None, n_estimators=1500, n_jobs=-1,\n",
       "              num_parallel_tree=None, random_state=42, ...)"
      ]
     },
     "execution_count": 60,
     "metadata": {},
     "output_type": "execute_result"
    }
   ],
   "source": [
    "xgb_otimizado.best_estimator_"
   ]
  },
  {
   "cell_type": "code",
   "execution_count": 61,
   "id": "b6f85a78-c5a3-4d8c-968a-a20b6f4c5b4a",
   "metadata": {},
   "outputs": [
    {
     "data": {
      "text/plain": [
       "np.float64(0.9503243966720849)"
      ]
     },
     "execution_count": 61,
     "metadata": {},
     "output_type": "execute_result"
    }
   ],
   "source": [
    "xgb_otimizado.best_score_"
   ]
  },
  {
   "cell_type": "code",
   "execution_count": 62,
   "id": "0235e853-a145-4aff-88da-bf4076440087",
   "metadata": {},
   "outputs": [],
   "source": [
    "xgb_final = xgb_otimizado.best_estimator_"
   ]
  },
  {
   "cell_type": "code",
   "execution_count": 65,
   "id": "4ed82817-567b-4fdc-9682-c0c9b2adb9d9",
   "metadata": {},
   "outputs": [],
   "source": [
    "import pickle\n",
    "\n",
    "# # Salvando o modelo final na pasta 'outputs'\n",
    "\n",
    "# with open('outputs/xgb_final.pkl', 'wb') as f:\n",
    "#     pickle.dump(xgb_final, f)"
   ]
  },
  {
   "cell_type": "code",
   "execution_count": 67,
   "id": "d341efe9-b054-4e8b-99c2-3025a2a3f000",
   "metadata": {},
   "outputs": [],
   "source": [
    "# Carregando o modelo salvo da pasta 'outputs'\n",
    "\n",
    "with open('outputs/xgb_final.pkl', 'rb') as f:\n",
    "    xgb_final_carregado = pickle.load(f)"
   ]
  },
  {
   "cell_type": "markdown",
   "id": "baa6c339-9809-4d43-857d-5e4e47c4bc60",
   "metadata": {},
   "source": [
    "# 6. Avaliação final"
   ]
  },
  {
   "cell_type": "markdown",
   "id": "723999d3-cc14-4e5d-b7e0-69c07e5d7ddd",
   "metadata": {},
   "source": [
    "### 6.1 SHAP"
   ]
  },
  {
   "cell_type": "markdown",
   "id": "48b8a8cd-49ef-4259-8b0d-6926d61dbb7a",
   "metadata": {},
   "source": [
    "Nesse contexto de crédito, a análise do shap permite dizer que quanto mais direcionado para direita, pior o score (maior probabilidade de inadimplentes)."
   ]
  },
  {
   "cell_type": "code",
   "execution_count": 68,
   "id": "984afc78-1962-4116-a442-42a1dfd7e954",
   "metadata": {},
   "outputs": [],
   "source": [
    "import shap"
   ]
  },
  {
   "cell_type": "code",
   "execution_count": 87,
   "id": "20f3d665-d6f8-4af2-bda8-8a54c27f34ba",
   "metadata": {},
   "outputs": [],
   "source": [
    "# # Criando o explicador baseado no modelo\n",
    "\n",
    "# explainer = shap.Explainer(xgb_final, X_train_transformed)"
   ]
  },
  {
   "cell_type": "code",
   "execution_count": 86,
   "id": "c2d68515-a881-4903-95ee-340a6a7b6eeb",
   "metadata": {},
   "outputs": [],
   "source": [
    "# # Calculando os valores SHAP para o conjunto de teste\n",
    "\n",
    "# shap_values = explainer(X_test_transformed)"
   ]
  },
  {
   "cell_type": "code",
   "execution_count": 85,
   "id": "bffa5860-09ec-4fc9-b63c-8632488a13f7",
   "metadata": {},
   "outputs": [],
   "source": [
    "# # Salvando\n",
    "\n",
    "# with open('outputs/shap_values.pkl', 'wb') as f:\n",
    "#   pickle.dump(shap_values, f)"
   ]
  },
  {
   "cell_type": "code",
   "execution_count": null,
   "id": "39bce7a9-2478-4798-baca-1ad0170ba33c",
   "metadata": {},
   "outputs": [],
   "source": [
    "# Carregando os valores shap salvos\n",
    "\n",
    "with open('outputs/shap_values.pkl', 'rb') as f:\n",
    "    shap_values = pickle.load(f)"
   ]
  },
  {
   "cell_type": "code",
   "execution_count": 84,
   "id": "01cfbf4c-e045-4e2a-b974-7ba403a6c7d1",
   "metadata": {},
   "outputs": [
    {
     "data": {
      "image/png": "[encoded data removed]",
      "text/plain": [
       "<Figure size 800x910 with 2 Axes>"
      ]
     },
     "metadata": {},
     "output_type": "display_data"
    }
   ],
   "source": [
    "# SHAP\n",
    "\n",
    "shap.summary_plot(shap_values, X_test_transformed)"
   ]
  },
  {
   "cell_type": "markdown",
   "id": "6e76caeb-3820-4e68-aea3-294c9b237ae2",
   "metadata": {},
   "source": [
    "`Feature value`: menor e maior valor da feature. Low (azul): valor mínimo. High (Rosa): valor máximo  \n",
    "`SHAP value`: quanto mais à direita, maior a probabilidade de ser mau pagador"
   ]
  },
  {
   "cell_type": "markdown",
   "id": "3f0829be-18cc-4ee7-9127-2e4a53f839d9",
   "metadata": {},
   "source": [
    "### 6.2 Feature importance"
   ]
  },
  {
   "cell_type": "code",
   "execution_count": 73,
   "id": "3c22ddb1-737b-407f-a7bd-329e54ab7a50",
   "metadata": {},
   "outputs": [],
   "source": [
    "feature_importance = []\n",
    "\n",
    "for i in zip(X_train_transformed.columns, xgb_final.feature_importances_):\n",
    "    feature_importance.append(i)"
   ]
  },
  {
   "cell_type": "code",
   "execution_count": 74,
   "id": "ec3f27f1-d65d-40ee-a1ae-108bf526cf4e",
   "metadata": {},
   "outputs": [],
   "source": [
    "df_feature_importance = pd.DataFrame(feature_importance, columns=['feature', 'importance']).sort_values('importance', ascending=False)"
   ]
  },
  {
   "cell_type": "code",
   "execution_count": 81,
   "id": "f165fea2-bc62-46e5-a935-e9fe73ad7c6d",
   "metadata": {},
   "outputs": [
    {
     "data": {
      "text/plain": [
       "<Axes: xlabel='importance', ylabel='feature'>"
      ]
     },
     "execution_count": 81,
     "metadata": {},
     "output_type": "execute_result"
    },
    {
     "data": {
      "image/png": "[encoded data removed]",
      "text/plain": [
       "<Figure size 1000x500 with 1 Axes>"
      ]
     },
     "metadata": {},
     "output_type": "display_data"
    }
   ],
   "source": [
    "plt.figure(figsize=(10, 5))\n",
    "sns.barplot(x=\"importance\", y=\"feature\", data=df_feature_importance, palette=\"Blues_r\")"
   ]
  },
  {
   "cell_type": "markdown",
   "id": "f83e7f9b-a102-47aa-b363-8cb61056dd24",
   "metadata": {},
   "source": [
    "* A importância acima é chamada Tree Feature Importance (TFI): quantas vezes a variável aparece nas árvores do modelo;\n",
    "* Podemos calcular a importância também a partir do SHAP;\n",
    "* Percebeu-se que as três features de maior importância encontadas foram: `cat_Type_of_Loan`, `num_Num_of_Loan` e `num_Outstanding_Debt`."
   ]
  },
  {
   "cell_type": "markdown",
   "id": "9682eacd-45c6-47e6-a86d-4f1500e0c26e",
   "metadata": {},
   "source": [
    "### 6.3 Predict dos dados de teste"
   ]
  },
  {
   "cell_type": "code",
   "execution_count": 88,
   "id": "e8382f76-b356-422b-bb5f-cc3324cc4682",
   "metadata": {},
   "outputs": [
    {
     "name": "stdout",
     "output_type": "stream",
     "text": [
      "AUC: 0.939\n"
     ]
    }
   ],
   "source": [
    "y_pred = xgb_final.predict(X_test_transformed)\n",
    "y_score = xgb_final.predict_proba(X_test_transformed)[:,1]\n",
    "\n",
    "# print(classification_report(y_test, y_pred))\n",
    "print(f'AUC: {roc_auc_score(y_test, y_score):.3f}')"
   ]
  },
  {
   "cell_type": "markdown",
   "id": "10b004ab-50fc-4c8e-9763-6c59bae9fa4d",
   "metadata": {},
   "source": [
    "### 6.4 Curva ROC"
   ]
  },
  {
   "cell_type": "markdown",
   "id": "521c0197-eabf-4f43-9866-9ee79e764008",
   "metadata": {},
   "source": [
    "`TPR (True Positive Rate`:\n",
    "recall ou exemplos positivos corretamente identificados. Ou seja, no problema do projeto, seriam os maus que foram classificados como maus;\n",
    "`FPR (False Positive Rate)`:\n",
    "exemplos negativos incorretamente classificados como positivos. Ou seja, seriam os bons pagadores classificados como maus.\n",
    "\n",
    "A linha diagonal representa a escolha aleatória, por esse motivo, representaria que o modelo não está conseguindo diferenciar as classes corretamente. Como a curva ROC não se aproxima tanto da linha tracejada, significa que o modelo apresenta um desempenho melhor que um modelo aleatório. Um modelo ideal teria uma curva ROC que subisse rapidamente para o canto superior esquerdo (TPR = 1 e FPR = 0), com o objetivo de ter um alto TPR e baixo FPR."
   ]
  },
  {
   "cell_type": "code",
   "execution_count": 93,
   "id": "cdabbdeb-1c7c-499b-9eb1-b20fc7a36ef6",
   "metadata": {},
   "outputs": [
    {
     "data": {
      "image/png": "[encoded data removed]",
      "text/plain": [
       "<Figure size 500x500 with 1 Axes>"
      ]
     },
     "metadata": {},
     "output_type": "display_data"
    }
   ],
   "source": [
    "plt.figure(figsize=(5,5))\n",
    "fpr, tpr, thr = roc_curve(y_test, y_score)\n",
    "plt.plot([0, 1], [0, 1], 'k--')\n",
    "plt.plot(fpr, tpr)\n",
    "plt.ylabel('TPR')\n",
    "plt.xlabel('FPR')\n",
    "plt.grid()\n",
    "plt.xlim(0,1)\n",
    "plt.ylim(0,1)\n",
    "plt.title('Curva ROC')\n",
    "plt.show()"
   ]
  },
  {
   "cell_type": "markdown",
   "id": "eb8e67fc-9664-4595-97bb-c1cafce3ed01",
   "metadata": {},
   "source": [
    "### 6.5 Precision e Recall"
   ]
  },
  {
   "cell_type": "code",
   "execution_count": null,
   "id": "b0a11cb2-9118-4a3f-b522-66401257f30e",
   "metadata": {},
   "outputs": [],
   "source": []
  }
 ],
 "metadata": {
  "kernelspec": {
   "display_name": "Python 3 (ipykernel)",
   "language": "python",
   "name": "python3"
  },
  "language_info": {
   "codemirror_mode": {
    "name": "ipython",
    "version": 3
   },
   "file_extension": ".py",
   "mimetype": "text/x-python",
   "name": "python",
   "nbconvert_exporter": "python",
   "pygments_lexer": "ipython3",
   "version": "3.12.3"
  }
 },
 "nbformat": 4,
 "nbformat_minor": 5
}
