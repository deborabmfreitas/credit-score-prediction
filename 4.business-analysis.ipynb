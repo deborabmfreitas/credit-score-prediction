{
 "cells": [
  {
   "cell_type": "markdown",
   "id": "a3343d07-9a4a-4f73-a308-0cb66d2f5515",
   "metadata": {
    "jp-MarkdownHeadingCollapsed": true
   },
   "source": [
    "# Análise de negócio / Financeira"
   ]
  },
  {
   "cell_type": "markdown",
   "id": "744b9e26-5c81-4012-8cbb-39db185223eb",
   "metadata": {},
   "source": [
    "**Situação:**\n",
    "\n",
    "Foi considerado que o cliente possuía uma política fictícia de gestão de risco de crédito (AS-IS), que consistia em reprovar qualquer pessoa com idade igual ou inferior a 28 anos. Ou seja, se alguém dessa faixa etária solicitasse crédito à instituição financeira, sua solicitação era automaticamente negada.\n",
    "\n",
    "**Proposta de negócio:**\n",
    "\n",
    "O score gerado pelo modelo de machine learning proposto foi utilizado para criar uma segunda política, denominada TO-BE. Esse modelo mapeou a propensão de uma pessoa a honrar o empréstimo (classe do bom pagador). Assim, o cliente poderia substituir o critério de ponto de corte (idade) por um novo ponto de corte (score). Dessa forma, na política TO-BE, as solicitações de crédito seriam reprovadas se o cliente estivesse com um score abaixo desse ponto de corte.\n",
    "\n",
    "Para realizar a análise financeira do modelo, foi assumido que todas as pessoas na base de teste haviam solicitado crédito à instituição financeira, no valor fixo de R$1000,00 cada. Com base nisso, foram realizados os seguintes cálculos:\n",
    "\n",
    "**(1) Carteira de crédito aprovado pela Política AS-IS:**\n",
    "Determinaram-se os valores totais emprestados pela instituição considerando os critérios dessa política.\n",
    "\n",
    "**(2) Dívida total pela Política AS-IS:**\n",
    "Calculou-se o montante perdido pela financeira, assumindo que os clientes inadimplentes não pagaram nenhuma parcela do empréstimo.\n",
    "\n",
    "**(3) Percentual de solicitações negadas pela Política AS-IS:**\n",
    "Foi identificado o percentual de pessoas na base de Teste cuja solicitação de crédito foi negada. A partir desse percentual, estabeleceu-se um ponto de corte no Score que negaria o crédito para exatamente a mesma proporção de pessoas. Esse ponto de corte definiu a Política TO-BE.\n",
    "\n",
    "**(4) Tamanho da carteira de crédito aprovado e dívida total na Política TO-BE:**\n",
    "Com base no novo ponto de corte, calcularam-se o total emprestado e a dívida total.\n",
    "\n",
    "**(5) Economia gerada pelo modelo:**\n",
    "Compararam-se os resultados das políticas AS-IS e TO-BE para determinar o impacto financeiro positivo do modelo de machine learning proposto."
   ]
  },
  {
   "cell_type": "markdown",
   "id": "e1b54935-4bcb-4624-9a70-16523cf59fd5",
   "metadata": {
    "jp-MarkdownHeadingCollapsed": true
   },
   "source": [
    "# Bibliotecas e importação de dados"
   ]
  },
  {
   "cell_type": "code",
   "execution_count": 1,
   "id": "49ef5219-c0a2-44ec-b081-983796fc7065",
   "metadata": {},
   "outputs": [],
   "source": [
    "import pandas as pd\n",
    "from sklearn.metrics import classification_report\n",
    "from sklearn.metrics import confusion_matrix, ConfusionMatrixDisplay\n",
    "import matplotlib.pyplot as plt\n",
    "from scipy.stats import ks_2samp \n",
    "import matplotlib.pyplot as plt\n",
    "import numpy as np"
   ]
  },
  {
   "cell_type": "code",
   "execution_count": 2,
   "id": "0450cddc-6913-4005-86f5-1f1ce4158be8",
   "metadata": {},
   "outputs": [],
   "source": [
    "X_test = pd.read_csv('outputs/X_test.csv')\n",
    "y_test = pd.read_csv('outputs/y_test.csv')\n",
    "df_test_scores = pd.read_csv('outputs/df_test_scores.csv')\n",
    "y_score = pd.read_csv('outputs/y_score.csv',header=None)"
   ]
  },
  {
   "cell_type": "markdown",
   "id": "a94edec6-2112-4760-b6c3-bedd6c61c8e5",
   "metadata": {},
   "source": [
    "# 1. Modelo AS-IS"
   ]
  },
  {
   "cell_type": "code",
   "execution_count": 3,
   "id": "2a46ec25-91ac-4a1a-a3b8-5e5e49d30094",
   "metadata": {},
   "outputs": [],
   "source": [
    "# Definindo as condições do modelo AS-IS\n",
    "\n",
    "y_pred_asis = (X_test['Age'] < 28) * 1"
   ]
  },
  {
   "cell_type": "code",
   "execution_count": 4,
   "id": "ca55f7e7-61e2-4217-817c-9b606a5e1030",
   "metadata": {},
   "outputs": [
    {
     "name": "stdout",
     "output_type": "stream",
     "text": [
      "              precision    recall  f1-score   support\n",
      "\n",
      "           0       0.73      0.69      0.71     14200\n",
      "           1       0.34      0.39      0.36      5800\n",
      "\n",
      "    accuracy                           0.60     20000\n",
      "   macro avg       0.54      0.54      0.54     20000\n",
      "weighted avg       0.62      0.60      0.61     20000\n",
      "\n"
     ]
    }
   ],
   "source": [
    "print(classification_report(y_test, y_pred_asis))"
   ]
  },
  {
   "cell_type": "code",
   "execution_count": 5,
   "id": "2856d820-9f12-45aa-ab6f-4a72d37608e5",
   "metadata": {},
   "outputs": [
    {
     "data": {
      "text/plain": [
       "13315000"
      ]
     },
     "execution_count": 5,
     "metadata": {},
     "output_type": "execute_result"
    }
   ],
   "source": [
    "# (1) Carteira de crédito aprovado pela Política AS-IS\n",
    "# Quanto dinheiro foi emprestado no total?\n",
    "\n",
    "sum(y_pred_asis == 0) * 1000"
   ]
  },
  {
   "cell_type": "code",
   "execution_count": 6,
   "id": "e3746f08-1de8-41e4-8c3c-92d08002ca04",
   "metadata": {},
   "outputs": [
    {
     "data": {
      "text/plain": [
       "3531000"
      ]
     },
     "execution_count": 6,
     "metadata": {},
     "output_type": "execute_result"
    }
   ],
   "source": [
    "# (2) Dívida total pela Política AS-IS\n",
    "# Qual o prejuízo?\n",
    "\n",
    "1000 * sum((y_pred_asis == 0) & (y_test['target'] == 1))"
   ]
  },
  {
   "cell_type": "code",
   "execution_count": 7,
   "id": "dbcbbe11-7b35-42af-b02c-414c12213e17",
   "metadata": {},
   "outputs": [
    {
     "data": {
      "text/plain": [
       "9784000"
      ]
     },
     "execution_count": 7,
     "metadata": {},
     "output_type": "execute_result"
    }
   ],
   "source": [
    "# Quanto vai ganhar (R$)\n",
    "13315000 - 3531000"
   ]
  },
  {
   "cell_type": "markdown",
   "id": "468b0439-2331-4809-bcae-df75c664519f",
   "metadata": {},
   "source": [
    "* Na politica ASIS, aprova-se 81,77% das solicitações;\n",
    "* Objetivo: com o novo score, deve-se aprovar a mesma quantidade de pessoas neste modelo"
   ]
  },
  {
   "cell_type": "code",
   "execution_count": 8,
   "id": "6b12e4b1-1882-48ae-b723-31599003c51b",
   "metadata": {},
   "outputs": [
    {
     "data": {
      "text/plain": [
       "np.float64(0.66575)"
      ]
     },
     "execution_count": 8,
     "metadata": {},
     "output_type": "execute_result"
    }
   ],
   "source": [
    "# Aprovação do modelo AS-IS\n",
    "\n",
    "y_pred_asis.value_counts(normalize=True)[0]"
   ]
  },
  {
   "cell_type": "code",
   "execution_count": 9,
   "id": "d33c46ea-bbc2-46ef-b1b4-43450e3f5af4",
   "metadata": {},
   "outputs": [
    {
     "data": {
      "text/plain": [
       "Age\n",
       "0    13315\n",
       "1     6685\n",
       "Name: count, dtype: int64"
      ]
     },
     "execution_count": 9,
     "metadata": {},
     "output_type": "execute_result"
    }
   ],
   "source": [
    "# Bons e maus do modelo AS-IS\n",
    "\n",
    "y_pred_asis.value_counts()"
   ]
  },
  {
   "cell_type": "markdown",
   "id": "80da83fe-d2eb-49fe-a22a-e7041daf8c4d",
   "metadata": {},
   "source": [
    "**Observação:** Utilizar os 13315 melhores scores como ponto de corte (melhores scores / aprovados). Nesse caso, foi o valor 13315 (total de aprovados no modelo AS-IS). Esse valor será encontrado para obter o ponto de corte do threshold."
   ]
  },
  {
   "cell_type": "markdown",
   "id": "01819b1f-471c-40f2-9714-ad21c501b1b9",
   "metadata": {},
   "source": [
    "# 2. Modelo To Be"
   ]
  },
  {
   "cell_type": "code",
   "execution_count": 10,
   "id": "2f7e2cff-f467-434c-a41e-b0dcc6143998",
   "metadata": {},
   "outputs": [],
   "source": [
    "df_tobe = df_test_scores[['score', 'target']]"
   ]
  },
  {
   "cell_type": "code",
   "execution_count": 11,
   "id": "2b678b47-0cb4-4e50-90a2-d984e7daaee7",
   "metadata": {},
   "outputs": [],
   "source": [
    "# Ordenando os melhores scores\n",
    "\n",
    "df_tobe = df_tobe.sort_values(by='score')"
   ]
  },
  {
   "cell_type": "code",
   "execution_count": 12,
   "id": "89b3db0a-66ea-4b32-8fcf-68517af2f5d0",
   "metadata": {},
   "outputs": [
    {
     "data": {
      "text/html": [
       "<div>\n",
       "<style scoped>\n",
       "    .dataframe tbody tr th:only-of-type {\n",
       "        vertical-align: middle;\n",
       "    }\n",
       "\n",
       "    .dataframe tbody tr th {\n",
       "        vertical-align: top;\n",
       "    }\n",
       "\n",
       "    .dataframe thead th {\n",
       "        text-align: right;\n",
       "    }\n",
       "</style>\n",
       "<table border=\"1\" class=\"dataframe\">\n",
       "  <thead>\n",
       "    <tr style=\"text-align: right;\">\n",
       "      <th></th>\n",
       "      <th>score</th>\n",
       "      <th>target</th>\n",
       "    </tr>\n",
       "  </thead>\n",
       "  <tbody>\n",
       "    <tr>\n",
       "      <th>19973</th>\n",
       "      <td>5.208275e-09</td>\n",
       "      <td>0</td>\n",
       "    </tr>\n",
       "    <tr>\n",
       "      <th>7545</th>\n",
       "      <td>6.177882e-09</td>\n",
       "      <td>0</td>\n",
       "    </tr>\n",
       "    <tr>\n",
       "      <th>1537</th>\n",
       "      <td>7.721815e-09</td>\n",
       "      <td>0</td>\n",
       "    </tr>\n",
       "    <tr>\n",
       "      <th>759</th>\n",
       "      <td>8.777510e-09</td>\n",
       "      <td>0</td>\n",
       "    </tr>\n",
       "    <tr>\n",
       "      <th>10289</th>\n",
       "      <td>1.589068e-08</td>\n",
       "      <td>0</td>\n",
       "    </tr>\n",
       "  </tbody>\n",
       "</table>\n",
       "</div>"
      ],
      "text/plain": [
       "              score  target\n",
       "19973  5.208275e-09       0\n",
       "7545   6.177882e-09       0\n",
       "1537   7.721815e-09       0\n",
       "759    8.777510e-09       0\n",
       "10289  1.589068e-08       0"
      ]
     },
     "execution_count": 12,
     "metadata": {},
     "output_type": "execute_result"
    }
   ],
   "source": [
    "# Scores\n",
    "\n",
    "df_tobe.head()"
   ]
  },
  {
   "cell_type": "code",
   "execution_count": 13,
   "id": "b8e5f747-119f-4b49-ade6-722679a53aa2",
   "metadata": {},
   "outputs": [
    {
     "data": {
      "text/plain": [
       "np.float64(0.1853969)"
      ]
     },
     "execution_count": 13,
     "metadata": {},
     "output_type": "execute_result"
    }
   ],
   "source": [
    "# Aprovando a mesma quantidade de pessoas do modelo AS-IS\n",
    "\n",
    "# Para achar o threshold (ponto de corte)\n",
    "\n",
    "df_tobe['score'].iloc[13315]"
   ]
  },
  {
   "cell_type": "code",
   "execution_count": 14,
   "id": "d1b3f517-8821-430f-9626-c0399142585e",
   "metadata": {},
   "outputs": [],
   "source": [
    "thr =  df_tobe['score'].iloc[13315] # thr encontrado\n",
    "y_pred_tobe = pd.Series((df_tobe['score'] >= thr) * 1)"
   ]
  },
  {
   "cell_type": "code",
   "execution_count": 15,
   "id": "f46602fb-dc1f-419c-b67d-637545f7cdab",
   "metadata": {},
   "outputs": [
    {
     "data": {
      "text/plain": [
       "score\n",
       "0    13315\n",
       "1     6685\n",
       "Name: count, dtype: int64"
      ]
     },
     "execution_count": 15,
     "metadata": {},
     "output_type": "execute_result"
    }
   ],
   "source": [
    "# Aprovando o mesmo percentual de clientes do modelo ASIS\n",
    "\n",
    "y_pred_tobe.value_counts()"
   ]
  },
  {
   "cell_type": "code",
   "execution_count": 16,
   "id": "737389a5-afea-4c40-b907-c3d075dc62c5",
   "metadata": {},
   "outputs": [
    {
     "data": {
      "text/plain": [
       "13315000"
      ]
     },
     "execution_count": 16,
     "metadata": {},
     "output_type": "execute_result"
    }
   ],
   "source": [
    "# Emprestado\n",
    "sum(y_pred_tobe == 0) * 1000"
   ]
  },
  {
   "cell_type": "code",
   "execution_count": 17,
   "id": "dba8873c-0903-494d-b71c-a95cd9f91ef1",
   "metadata": {},
   "outputs": [
    {
     "data": {
      "text/plain": [
       "640000"
      ]
     },
     "execution_count": 17,
     "metadata": {},
     "output_type": "execute_result"
    }
   ],
   "source": [
    "# Prejuízo\n",
    "\n",
    "sum((y_pred_tobe == 0) & (y_test['target'] == 1)) * 1000"
   ]
  },
  {
   "cell_type": "code",
   "execution_count": 18,
   "id": "4985b7f4-7a90-481b-84c8-63d3a9320153",
   "metadata": {},
   "outputs": [
    {
     "data": {
      "text/plain": [
       "12675000"
      ]
     },
     "execution_count": 18,
     "metadata": {},
     "output_type": "execute_result"
    }
   ],
   "source": [
    "# Ganho\n",
    "\n",
    "13316000 - 641000"
   ]
  },
  {
   "cell_type": "code",
   "execution_count": 19,
   "id": "7eeb5874-4c04-43e1-9ae6-bf8ce95f0db0",
   "metadata": {},
   "outputs": [
    {
     "data": {
      "text/plain": [
       "2891000"
      ]
     },
     "execution_count": 19,
     "metadata": {},
     "output_type": "execute_result"
    }
   ],
   "source": [
    "# Diferença de ganhos = AS-IS / TO BE - ECONOMIA GERADA PELO MODELO\n",
    "as_is = 9784000\n",
    "to_be = 12675000 \n",
    "\n",
    "to_be - as_is"
   ]
  },
  {
   "cell_type": "code",
   "execution_count": 20,
   "id": "bda64ec3-16ae-4c5d-89e0-372003212ef6",
   "metadata": {},
   "outputs": [],
   "source": [
    "# Melhorar a análise de negócio / comparativos"
   ]
  },
  {
   "cell_type": "markdown",
   "id": "933632c3-80e6-4f54-8409-dea352f65086",
   "metadata": {},
   "source": [
    "# 3. Matriz de confusão"
   ]
  },
  {
   "cell_type": "code",
   "execution_count": 21,
   "id": "2cbeed1f-319d-4006-a22f-bea5d9a0640d",
   "metadata": {},
   "outputs": [],
   "source": [
    "y_pred_new = (y_score > 0.286677) * 1"
   ]
  },
  {
   "cell_type": "code",
   "execution_count": 22,
   "id": "19a593e4-e514-4d87-ad7b-39c34c15e53e",
   "metadata": {},
   "outputs": [
    {
     "name": "stdout",
     "output_type": "stream",
     "text": [
      "              precision    recall  f1-score   support\n",
      "\n",
      "           0       0.94      0.91      0.92     14200\n",
      "           1       0.79      0.86      0.82      5800\n",
      "\n",
      "    accuracy                           0.89     20000\n",
      "   macro avg       0.86      0.88      0.87     20000\n",
      "weighted avg       0.90      0.89      0.89     20000\n",
      "\n"
     ]
    }
   ],
   "source": [
    "print(classification_report(y_test, y_pred_new))"
   ]
  },
  {
   "cell_type": "code",
   "execution_count": 23,
   "id": "d168d87a-95e5-4013-990e-36e3c79d5445",
   "metadata": {},
   "outputs": [
    {
     "data": {
      "text/plain": [
       "<Figure size 800x600 with 0 Axes>"
      ]
     },
     "metadata": {},
     "output_type": "display_data"
    },
    {
     "data": {
      "image/png": "[encoded data removed]",
      "text/plain": [
       "<Figure size 640x480 with 2 Axes>"
      ]
     },
     "metadata": {},
     "output_type": "display_data"
    }
   ],
   "source": [
    "cm = confusion_matrix(y_test, y_pred_new)\n",
    "\n",
    "plt.figure(figsize= (8,6))\n",
    "ConfusionMatrixDisplay(cm).plot(cmap='Blues') \n",
    "plt.show()"
   ]
  },
  {
   "cell_type": "markdown",
   "id": "411435e8-5241-452a-9bab-d9c92b1a5eda",
   "metadata": {},
   "source": [
    "De acordo com o resultado acima, percebeu-se que:\n",
    "\n",
    "**[0, 0]: Verdadeiros negativos (12856)**  \n",
    "O modelo previu corretamente que esses clientes não são inadimplentes.  \n",
    "**[0, 1]: Falsos positivos (1344)**  \n",
    "O modelo classificou erroneamente esses clientes como inadimplentes, mas na verdade não eram.  \n",
    "**[1, 0]: Falsos negativos (829)**  \n",
    "O modelo previu que esses clientes não eram inadimplentes, mas na verdade eram.  \n",
    "**[1, 1]: Verdadeiros positivos (4971)**  \n",
    "O modelo previu corretamente que esses clientes são inadimplentes.  "
   ]
  },
  {
   "cell_type": "markdown",
   "id": "d0dbaaca-b26f-42a7-aef1-76ada25b622c",
   "metadata": {},
   "source": [
    "# Análises finais"
   ]
  },
  {
   "cell_type": "code",
   "execution_count": 26,
   "id": "01438b27-4ed0-4770-9376-1ae96a00f0a4",
   "metadata": {},
   "outputs": [
    {
     "data": {
      "image/png": "[encoded data removed]",
      "text/plain": [
       "<Figure size 1500x800 with 1 Axes>"
      ]
     },
     "metadata": {},
     "output_type": "display_data"
    }
   ],
   "source": [
    "# Dados\n",
    "modelos = [\"AS-IS\", \"TO-BE\"]\n",
    "emprestado = [13315000, 13315000]\n",
    "divida = [3531000, 640000]\n",
    "ganho = [9784000, 12675000]\n",
    "\n",
    "# Posição das barras\n",
    "x = np.arange(len(modelos))\n",
    "largura = 0.3\n",
    "\n",
    "# Gráfico\n",
    "fig, ax = plt.subplots(figsize=(15, 8))  # Aumentei o tamanho da figura\n",
    "ax.bar(x - largura, emprestado, largura, label=\"Emprestado\", color='steelblue')\n",
    "ax.bar(x, divida, largura, label=\"Dívida\", color='red')\n",
    "ax.bar(x + largura, ganho, largura, label=\"Ganho\", color='#8A9A5B')\n",
    "\n",
    "# Adicionando rótulos com valores em formato financeiro (R$)\n",
    "for i in range(len(modelos)):\n",
    "    ax.text(x[i] - largura, emprestado[i] + 200000, f\"R$ {emprestado[i]:,.2f}\", ha='center', va='bottom', fontsize=9)\n",
    "    ax.text(x[i], divida[i] + 200000, f\"R$ {divida[i]:,.2f}\", ha='center', va='bottom', fontsize=9)\n",
    "    ax.text(x[i] + largura, ganho[i] + 200000, f\"R$ {ganho[i]:,.2f}\", ha='center', va='bottom', fontsize=9)\n",
    "\n",
    "# Ajustes de layout\n",
    "ax.set_xlabel(\"Modelos\")\n",
    "ax.set_title(\"Comparação dos modelos de crédito\")\n",
    "ax.set_xticks(x)\n",
    "ax.set_xticklabels(modelos)\n",
    "\n",
    "# Posicionando a legenda ao lado direito das barras\n",
    "ax.legend(loc='center left', bbox_to_anchor=(1, 0.5), frameon=True, framealpha=0.9, edgecolor='gray')\n",
    "\n",
    "# Ajustando layout para espaço extra à direita e em cima\n",
    "plt.tight_layout()\n",
    "plt.subplots_adjust(right=0.8, top=0.85)  # Ajustei o topo para evitar sobreposição\n",
    "plt.show()"
   ]
  },
  {
   "cell_type": "code",
   "execution_count": 27,
   "id": "07ca2d93-20d5-47ed-a263-089c72aa522a",
   "metadata": {},
   "outputs": [],
   "source": [
    "# Calculando resultados\n",
    "\n",
    "dif_emprestado = np.round(((13315000 - 13315000)/13315000)*100,2)\n",
    "dif_divida = np.round(((640000 - 3531000)/3531000)*100,2)\n",
    "dif_ganho = np.round(((12675000 - 9784000)/9784000)*100,2)"
   ]
  },
  {
   "cell_type": "code",
   "execution_count": 28,
   "id": "1137247c-dba5-4571-b283-a90e44db0b48",
   "metadata": {},
   "outputs": [
    {
     "name": "stdout",
     "output_type": "stream",
     "text": [
      "% emprestado: 0.0%\n",
      "% dívida: -81.87%\n",
      "% ganho: 29.55%\n"
     ]
    }
   ],
   "source": [
    "# Exibindo diferenças entre o modelo AS-IS e TO-BE\n",
    "\n",
    "print(f'% emprestado: {dif_emprestado}%')\n",
    "print(f'% dívida: {dif_divida}%')\n",
    "print(f'% ganho: {dif_ganho}%')"
   ]
  },
  {
   "cell_type": "markdown",
   "id": "7460bf02-63b4-4a23-9220-bcd9de89d65c",
   "metadata": {},
   "source": [
    "# Conclusões"
   ]
  },
  {
   "cell_type": "markdown",
   "id": "09fa5d7e-4f31-4044-911d-0ed366683aa8",
   "metadata": {},
   "source": [
    "* Os erros do modelo TO BE proposto neste projeto foram menores que os acertos. Algo que é bom e dentro da proposta. No entanto, com relação aos erros, o maior impacto foi no de falsos positivos (37% a mais que falsos negativos, totalizando 1334). Nesse caso, o banco deixaria de ganhar bons clientes. No caso dos falsos negativos, o modelo aprovaria crédito para inadimplentes (829);\n",
    "\n",
    "* A análise de KS2 demonstrou a diferença entre os scores, com o total de 0,80, valor considerado satisfatório para essa métrica;\n",
    "\n",
    "  \n",
    "* O modelo TO BE apresentou melhor performance se comparado ao antigo modelo vigente, com -81,87% de dívida e 29,99% de ganho."
   ]
  }
 ],
 "metadata": {
  "kernelspec": {
   "display_name": "Python 3 (ipykernel)",
   "language": "python",
   "name": "python3"
  },
  "language_info": {
   "codemirror_mode": {
    "name": "ipython",
    "version": 3
   },
   "file_extension": ".py",
   "mimetype": "text/x-python",
   "name": "python",
   "nbconvert_exporter": "python",
   "pygments_lexer": "ipython3",
   "version": "3.12.3"
  }
 },
 "nbformat": 4,
 "nbformat_minor": 5
}
