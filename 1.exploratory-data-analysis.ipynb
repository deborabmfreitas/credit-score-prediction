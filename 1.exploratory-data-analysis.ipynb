{
 "cells": [
  {
   "cell_type": "markdown",
   "id": "bbac3404-bbd4-4e39-85e7-3b04690c42d6",
   "metadata": {
    "jp-MarkdownHeadingCollapsed": true
   },
   "source": [
    "# Bibliotecas"
   ]
  },
  {
   "cell_type": "code",
   "execution_count": 1,
   "id": "543ed003-56f4-46cf-bd8d-79d936f129fd",
   "metadata": {},
   "outputs": [],
   "source": [
    "# Data manipulation\n",
    "\n",
    "import pandas as pd\n",
    "import numpy as np\n",
    "\n",
    "# Data viz\n",
    "\n",
    "import matplotlib.pyplot as plt\n",
    "import seaborn as sns"
   ]
  },
  {
   "cell_type": "markdown",
   "id": "dc29cba5-a8f7-4d2b-9489-cfd46f933be4",
   "metadata": {
    "jp-MarkdownHeadingCollapsed": true
   },
   "source": [
    "# 1. Obtenção dos dados"
   ]
  },
  {
   "cell_type": "code",
   "execution_count": 2,
   "id": "e9a406f9-cda8-413c-b013-bd62be4f5a69",
   "metadata": {},
   "outputs": [],
   "source": [
    "# !kaggle datasets download -d parisrohan/credit-score-classification"
   ]
  },
  {
   "cell_type": "markdown",
   "id": "3756c279-3cf0-4d12-913d-10fbb326674f",
   "metadata": {
    "jp-MarkdownHeadingCollapsed": true
   },
   "source": [
    "# 2. Importação dos dados"
   ]
  },
  {
   "cell_type": "code",
   "execution_count": 3,
   "id": "acc97427-871a-4427-b003-dba2c897fbee",
   "metadata": {},
   "outputs": [],
   "source": [
    "train = pd.read_csv('data/train.csv', low_memory=False)"
   ]
  },
  {
   "cell_type": "code",
   "execution_count": 4,
   "id": "a0898e0d-273b-4ebe-a051-ef93aa61bc70",
   "metadata": {},
   "outputs": [],
   "source": [
    "pd.set_option('display.max_columns', None)"
   ]
  },
  {
   "cell_type": "markdown",
   "id": "993ed43a-0c60-4f0c-9c65-603dc0781fc1",
   "metadata": {},
   "source": [
    "# 3. Inspeção geral dos dados"
   ]
  },
  {
   "cell_type": "markdown",
   "id": "26909a2c-5952-4957-b70d-0d3b9ce096b0",
   "metadata": {},
   "source": [
    "| Variável                  | Descrição                                                                 |\n",
    "|---------------------------|---------------------------------------------------------------------------|\n",
    "| ID                        | Identificador único da transação ou registro                               |\n",
    "| Customer_ID               | Identificador único do cliente                                             |\n",
    "| Month                     | Mês de referência da análise                                               |\n",
    "| Name                      | Nome do cliente                                                            |\n",
    "| Age                       | Idade do cliente                                                           |\n",
    "| SSN                       | Número de Segurança Social (Social Security Number)                        |\n",
    "| Occupation                | Ocupação profissional do cliente                                           |\n",
    "| Annual_Income             | Renda anual do cliente                                                     |\n",
    "| Monthly_Inhand_Salary      | Salário mensal                                       |\n",
    "| Num_Bank_Accounts          | Número de contas bancárias que o cliente possui                           |\n",
    "| Num_Credit_Card            | Número de cartões de crédito que o cliente possui                         |\n",
    "| Interest_Rate              | Taxa de juros aplicada aos empréstimos ou dívidas                         |\n",
    "| Num_of_Loan                | Número de empréstimos que o cliente possui                                |\n",
    "| Type_of_Loan               | Tipo de empréstimo (pessoal, hipotecário, etc.)                           |\n",
    "| Delay_from_due_date        | Atraso em dias no pagamento após a data de vencimento                     |\n",
    "| Num_of_Delayed_Payment     | Número de pagamentos atrasados                                             |\n",
    "| Changed_Credit_Limit       | Alteração no limite de crédito                                             |\n",
    "| Num_Credit_Inquiries       | Número de consultas de crédito feitas por instituições                    |\n",
    "| Credit_Mix                 | Mistura de tipos de crédito (cartões, empréstimos, etc.)                  |\n",
    "| Outstanding_Debt           | Dívida pendente do cliente                                                |\n",
    "| Credit_Utilization_Ratio   | Proporção da utilização do crédito disponível                             |\n",
    "| Credit_History_Age         | Tempo total de histórico de crédito do cliente                            |\n",
    "| Payment_of_Min_Amount      | Se o cliente paga o valor mínimo da fatura (Sim/Não)                      |\n",
    "| Total_EMI_per_month        | Valor da parcela paga todos os meses para um empréstimo ou financiamento                              |\n",
    "| Amount_invested_monthly    | Quantia investida mensalmente pelo cliente                                |\n",
    "| Payment_Behaviour          | Comportamento de pagamento (padrões e hábitos)                            |\n",
    "| Monthly_Balance            | Saldo mensal disponível após todas as despesas                            |\n",
    "| Credit_Score               | Pontuação de crédito do cliente                                           |\n",
    "| target                     | Variável alvo ou de interesse criada a partir da variável |\n"
   ]
  },
  {
   "cell_type": "code",
   "execution_count": 5,
   "id": "b1f34529-d60a-4c6a-bce8-684dc7781573",
   "metadata": {},
   "outputs": [
    {
     "data": {
      "text/html": [
       "<div>\n",
       "<style scoped>\n",
       "    .dataframe tbody tr th:only-of-type {\n",
       "        vertical-align: middle;\n",
       "    }\n",
       "\n",
       "    .dataframe tbody tr th {\n",
       "        vertical-align: top;\n",
       "    }\n",
       "\n",
       "    .dataframe thead th {\n",
       "        text-align: right;\n",
       "    }\n",
       "</style>\n",
       "<table border=\"1\" class=\"dataframe\">\n",
       "  <thead>\n",
       "    <tr style=\"text-align: right;\">\n",
       "      <th></th>\n",
       "      <th>ID</th>\n",
       "      <th>Customer_ID</th>\n",
       "      <th>Month</th>\n",
       "      <th>Name</th>\n",
       "      <th>Age</th>\n",
       "      <th>SSN</th>\n",
       "      <th>Occupation</th>\n",
       "      <th>Annual_Income</th>\n",
       "      <th>Monthly_Inhand_Salary</th>\n",
       "      <th>Num_Bank_Accounts</th>\n",
       "      <th>Num_Credit_Card</th>\n",
       "      <th>Interest_Rate</th>\n",
       "      <th>Num_of_Loan</th>\n",
       "      <th>Type_of_Loan</th>\n",
       "      <th>Delay_from_due_date</th>\n",
       "      <th>Num_of_Delayed_Payment</th>\n",
       "      <th>Changed_Credit_Limit</th>\n",
       "      <th>Num_Credit_Inquiries</th>\n",
       "      <th>Credit_Mix</th>\n",
       "      <th>Outstanding_Debt</th>\n",
       "      <th>Credit_Utilization_Ratio</th>\n",
       "      <th>Credit_History_Age</th>\n",
       "      <th>Payment_of_Min_Amount</th>\n",
       "      <th>Total_EMI_per_month</th>\n",
       "      <th>Amount_invested_monthly</th>\n",
       "      <th>Payment_Behaviour</th>\n",
       "      <th>Monthly_Balance</th>\n",
       "      <th>Credit_Score</th>\n",
       "    </tr>\n",
       "  </thead>\n",
       "  <tbody>\n",
       "    <tr>\n",
       "      <th>0</th>\n",
       "      <td>0x1602</td>\n",
       "      <td>CUS_0xd40</td>\n",
       "      <td>January</td>\n",
       "      <td>Aaron Maashoh</td>\n",
       "      <td>23</td>\n",
       "      <td>821-00-0265</td>\n",
       "      <td>Scientist</td>\n",
       "      <td>19114.12</td>\n",
       "      <td>1824.843333</td>\n",
       "      <td>3</td>\n",
       "      <td>4</td>\n",
       "      <td>3</td>\n",
       "      <td>4</td>\n",
       "      <td>Auto Loan, Credit-Builder Loan, Personal Loan,...</td>\n",
       "      <td>3</td>\n",
       "      <td>7</td>\n",
       "      <td>11.27</td>\n",
       "      <td>4.0</td>\n",
       "      <td>_</td>\n",
       "      <td>809.98</td>\n",
       "      <td>26.822620</td>\n",
       "      <td>22 Years and 1 Months</td>\n",
       "      <td>No</td>\n",
       "      <td>49.574949</td>\n",
       "      <td>80.41529543900253</td>\n",
       "      <td>High_spent_Small_value_payments</td>\n",
       "      <td>312.49408867943663</td>\n",
       "      <td>Good</td>\n",
       "    </tr>\n",
       "    <tr>\n",
       "      <th>1</th>\n",
       "      <td>0x1603</td>\n",
       "      <td>CUS_0xd40</td>\n",
       "      <td>February</td>\n",
       "      <td>Aaron Maashoh</td>\n",
       "      <td>23</td>\n",
       "      <td>821-00-0265</td>\n",
       "      <td>Scientist</td>\n",
       "      <td>19114.12</td>\n",
       "      <td>NaN</td>\n",
       "      <td>3</td>\n",
       "      <td>4</td>\n",
       "      <td>3</td>\n",
       "      <td>4</td>\n",
       "      <td>Auto Loan, Credit-Builder Loan, Personal Loan,...</td>\n",
       "      <td>-1</td>\n",
       "      <td>NaN</td>\n",
       "      <td>11.27</td>\n",
       "      <td>4.0</td>\n",
       "      <td>Good</td>\n",
       "      <td>809.98</td>\n",
       "      <td>31.944960</td>\n",
       "      <td>NaN</td>\n",
       "      <td>No</td>\n",
       "      <td>49.574949</td>\n",
       "      <td>118.28022162236736</td>\n",
       "      <td>Low_spent_Large_value_payments</td>\n",
       "      <td>284.62916249607184</td>\n",
       "      <td>Good</td>\n",
       "    </tr>\n",
       "    <tr>\n",
       "      <th>2</th>\n",
       "      <td>0x1604</td>\n",
       "      <td>CUS_0xd40</td>\n",
       "      <td>March</td>\n",
       "      <td>Aaron Maashoh</td>\n",
       "      <td>-500</td>\n",
       "      <td>821-00-0265</td>\n",
       "      <td>Scientist</td>\n",
       "      <td>19114.12</td>\n",
       "      <td>NaN</td>\n",
       "      <td>3</td>\n",
       "      <td>4</td>\n",
       "      <td>3</td>\n",
       "      <td>4</td>\n",
       "      <td>Auto Loan, Credit-Builder Loan, Personal Loan,...</td>\n",
       "      <td>3</td>\n",
       "      <td>7</td>\n",
       "      <td>_</td>\n",
       "      <td>4.0</td>\n",
       "      <td>Good</td>\n",
       "      <td>809.98</td>\n",
       "      <td>28.609352</td>\n",
       "      <td>22 Years and 3 Months</td>\n",
       "      <td>No</td>\n",
       "      <td>49.574949</td>\n",
       "      <td>81.699521264648</td>\n",
       "      <td>Low_spent_Medium_value_payments</td>\n",
       "      <td>331.2098628537912</td>\n",
       "      <td>Good</td>\n",
       "    </tr>\n",
       "    <tr>\n",
       "      <th>3</th>\n",
       "      <td>0x1605</td>\n",
       "      <td>CUS_0xd40</td>\n",
       "      <td>April</td>\n",
       "      <td>Aaron Maashoh</td>\n",
       "      <td>23</td>\n",
       "      <td>821-00-0265</td>\n",
       "      <td>Scientist</td>\n",
       "      <td>19114.12</td>\n",
       "      <td>NaN</td>\n",
       "      <td>3</td>\n",
       "      <td>4</td>\n",
       "      <td>3</td>\n",
       "      <td>4</td>\n",
       "      <td>Auto Loan, Credit-Builder Loan, Personal Loan,...</td>\n",
       "      <td>5</td>\n",
       "      <td>4</td>\n",
       "      <td>6.27</td>\n",
       "      <td>4.0</td>\n",
       "      <td>Good</td>\n",
       "      <td>809.98</td>\n",
       "      <td>31.377862</td>\n",
       "      <td>22 Years and 4 Months</td>\n",
       "      <td>No</td>\n",
       "      <td>49.574949</td>\n",
       "      <td>199.4580743910713</td>\n",
       "      <td>Low_spent_Small_value_payments</td>\n",
       "      <td>223.45130972736786</td>\n",
       "      <td>Good</td>\n",
       "    </tr>\n",
       "    <tr>\n",
       "      <th>4</th>\n",
       "      <td>0x1606</td>\n",
       "      <td>CUS_0xd40</td>\n",
       "      <td>May</td>\n",
       "      <td>Aaron Maashoh</td>\n",
       "      <td>23</td>\n",
       "      <td>821-00-0265</td>\n",
       "      <td>Scientist</td>\n",
       "      <td>19114.12</td>\n",
       "      <td>1824.843333</td>\n",
       "      <td>3</td>\n",
       "      <td>4</td>\n",
       "      <td>3</td>\n",
       "      <td>4</td>\n",
       "      <td>Auto Loan, Credit-Builder Loan, Personal Loan,...</td>\n",
       "      <td>6</td>\n",
       "      <td>NaN</td>\n",
       "      <td>11.27</td>\n",
       "      <td>4.0</td>\n",
       "      <td>Good</td>\n",
       "      <td>809.98</td>\n",
       "      <td>24.797347</td>\n",
       "      <td>22 Years and 5 Months</td>\n",
       "      <td>No</td>\n",
       "      <td>49.574949</td>\n",
       "      <td>41.420153086217326</td>\n",
       "      <td>High_spent_Medium_value_payments</td>\n",
       "      <td>341.48923103222177</td>\n",
       "      <td>Good</td>\n",
       "    </tr>\n",
       "  </tbody>\n",
       "</table>\n",
       "</div>"
      ],
      "text/plain": [
       "       ID Customer_ID     Month           Name   Age          SSN Occupation  \\\n",
       "0  0x1602   CUS_0xd40   January  Aaron Maashoh    23  821-00-0265  Scientist   \n",
       "1  0x1603   CUS_0xd40  February  Aaron Maashoh    23  821-00-0265  Scientist   \n",
       "2  0x1604   CUS_0xd40     March  Aaron Maashoh  -500  821-00-0265  Scientist   \n",
       "3  0x1605   CUS_0xd40     April  Aaron Maashoh    23  821-00-0265  Scientist   \n",
       "4  0x1606   CUS_0xd40       May  Aaron Maashoh    23  821-00-0265  Scientist   \n",
       "\n",
       "  Annual_Income  Monthly_Inhand_Salary  Num_Bank_Accounts  Num_Credit_Card  \\\n",
       "0      19114.12            1824.843333                  3                4   \n",
       "1      19114.12                    NaN                  3                4   \n",
       "2      19114.12                    NaN                  3                4   \n",
       "3      19114.12                    NaN                  3                4   \n",
       "4      19114.12            1824.843333                  3                4   \n",
       "\n",
       "   Interest_Rate Num_of_Loan  \\\n",
       "0              3           4   \n",
       "1              3           4   \n",
       "2              3           4   \n",
       "3              3           4   \n",
       "4              3           4   \n",
       "\n",
       "                                        Type_of_Loan  Delay_from_due_date  \\\n",
       "0  Auto Loan, Credit-Builder Loan, Personal Loan,...                    3   \n",
       "1  Auto Loan, Credit-Builder Loan, Personal Loan,...                   -1   \n",
       "2  Auto Loan, Credit-Builder Loan, Personal Loan,...                    3   \n",
       "3  Auto Loan, Credit-Builder Loan, Personal Loan,...                    5   \n",
       "4  Auto Loan, Credit-Builder Loan, Personal Loan,...                    6   \n",
       "\n",
       "  Num_of_Delayed_Payment Changed_Credit_Limit  Num_Credit_Inquiries  \\\n",
       "0                      7                11.27                   4.0   \n",
       "1                    NaN                11.27                   4.0   \n",
       "2                      7                    _                   4.0   \n",
       "3                      4                 6.27                   4.0   \n",
       "4                    NaN                11.27                   4.0   \n",
       "\n",
       "  Credit_Mix Outstanding_Debt  Credit_Utilization_Ratio  \\\n",
       "0          _           809.98                 26.822620   \n",
       "1       Good           809.98                 31.944960   \n",
       "2       Good           809.98                 28.609352   \n",
       "3       Good           809.98                 31.377862   \n",
       "4       Good           809.98                 24.797347   \n",
       "\n",
       "      Credit_History_Age Payment_of_Min_Amount  Total_EMI_per_month  \\\n",
       "0  22 Years and 1 Months                    No            49.574949   \n",
       "1                    NaN                    No            49.574949   \n",
       "2  22 Years and 3 Months                    No            49.574949   \n",
       "3  22 Years and 4 Months                    No            49.574949   \n",
       "4  22 Years and 5 Months                    No            49.574949   \n",
       "\n",
       "  Amount_invested_monthly                 Payment_Behaviour  \\\n",
       "0       80.41529543900253   High_spent_Small_value_payments   \n",
       "1      118.28022162236736    Low_spent_Large_value_payments   \n",
       "2         81.699521264648   Low_spent_Medium_value_payments   \n",
       "3       199.4580743910713    Low_spent_Small_value_payments   \n",
       "4      41.420153086217326  High_spent_Medium_value_payments   \n",
       "\n",
       "      Monthly_Balance Credit_Score  \n",
       "0  312.49408867943663         Good  \n",
       "1  284.62916249607184         Good  \n",
       "2   331.2098628537912         Good  \n",
       "3  223.45130972736786         Good  \n",
       "4  341.48923103222177         Good  "
      ]
     },
     "execution_count": 5,
     "metadata": {},
     "output_type": "execute_result"
    }
   ],
   "source": [
    "train.head()"
   ]
  },
  {
   "cell_type": "markdown",
   "id": "c5013a9b-7d90-4e5a-a491-23edd1505c67",
   "metadata": {},
   "source": [
    "Para deixar o problema ainda mais próximo da área de crédito, optou-se por modificar as classes da seguinte maneira:\n",
    "\n",
    "* Clientes classificados como `Poor` &#x27A1; `Classe 1` (maus pagadores)\n",
    "* Clientes classifiados como `Standard` &#x27A1; `Classe 0` (bons pagadores)\n",
    "* Clientes classifiados como `Good` &#x27A1; `Classe 0` (bons pagadores)"
   ]
  },
  {
   "cell_type": "code",
   "execution_count": 6,
   "id": "b3f0905d-c0ec-4e79-96e4-034ed30c9e02",
   "metadata": {},
   "outputs": [
    {
     "data": {
      "text/plain": [
       "array(['Good', 'Standard', 'Poor'], dtype=object)"
      ]
     },
     "execution_count": 6,
     "metadata": {},
     "output_type": "execute_result"
    }
   ],
   "source": [
    "# Antes da modificação\n",
    "\n",
    "train['Credit_Score'].unique()"
   ]
  },
  {
   "cell_type": "code",
   "execution_count": 7,
   "id": "96505935-9d2f-4b05-a99c-cf8978da1d13",
   "metadata": {},
   "outputs": [],
   "source": [
    "# Modificando as classes para bons e maus pagadores\n",
    "\n",
    "train['target'] = train['Credit_Score'].apply(lambda x: 1 if x == 'Poor' else 0)"
   ]
  },
  {
   "cell_type": "code",
   "execution_count": 8,
   "id": "6c673810-6ddd-4c6d-b969-94bd9f47a186",
   "metadata": {},
   "outputs": [],
   "source": [
    "train = train.drop('Credit_Score', axis=1)"
   ]
  },
  {
   "cell_type": "code",
   "execution_count": 9,
   "id": "8f58ebda-c0b1-41c3-936d-4fb6c2414a28",
   "metadata": {},
   "outputs": [
    {
     "data": {
      "text/plain": [
       "target\n",
       "0    71002\n",
       "1    28998\n",
       "Name: count, dtype: int64"
      ]
     },
     "execution_count": 9,
     "metadata": {},
     "output_type": "execute_result"
    }
   ],
   "source": [
    "# Checando as novas classes\n",
    "\n",
    "train['target'].value_counts()"
   ]
  },
  {
   "cell_type": "code",
   "execution_count": 10,
   "id": "edf22b1d-e8e1-4db0-8b5e-f076079eb299",
   "metadata": {},
   "outputs": [
    {
     "data": {
      "text/html": [
       "<div>\n",
       "<style scoped>\n",
       "    .dataframe tbody tr th:only-of-type {\n",
       "        vertical-align: middle;\n",
       "    }\n",
       "\n",
       "    .dataframe tbody tr th {\n",
       "        vertical-align: top;\n",
       "    }\n",
       "\n",
       "    .dataframe thead th {\n",
       "        text-align: right;\n",
       "    }\n",
       "</style>\n",
       "<table border=\"1\" class=\"dataframe\">\n",
       "  <thead>\n",
       "    <tr style=\"text-align: right;\">\n",
       "      <th></th>\n",
       "      <th>ID</th>\n",
       "      <th>Customer_ID</th>\n",
       "      <th>Month</th>\n",
       "      <th>Name</th>\n",
       "      <th>Age</th>\n",
       "      <th>SSN</th>\n",
       "      <th>Occupation</th>\n",
       "      <th>Annual_Income</th>\n",
       "      <th>Monthly_Inhand_Salary</th>\n",
       "      <th>Num_Bank_Accounts</th>\n",
       "      <th>Num_Credit_Card</th>\n",
       "      <th>Interest_Rate</th>\n",
       "      <th>Num_of_Loan</th>\n",
       "      <th>Type_of_Loan</th>\n",
       "      <th>Delay_from_due_date</th>\n",
       "      <th>Num_of_Delayed_Payment</th>\n",
       "      <th>Changed_Credit_Limit</th>\n",
       "      <th>Num_Credit_Inquiries</th>\n",
       "      <th>Credit_Mix</th>\n",
       "      <th>Outstanding_Debt</th>\n",
       "      <th>Credit_Utilization_Ratio</th>\n",
       "      <th>Credit_History_Age</th>\n",
       "      <th>Payment_of_Min_Amount</th>\n",
       "      <th>Total_EMI_per_month</th>\n",
       "      <th>Amount_invested_monthly</th>\n",
       "      <th>Payment_Behaviour</th>\n",
       "      <th>Monthly_Balance</th>\n",
       "      <th>target</th>\n",
       "    </tr>\n",
       "  </thead>\n",
       "  <tbody>\n",
       "    <tr>\n",
       "      <th>0</th>\n",
       "      <td>0x1602</td>\n",
       "      <td>CUS_0xd40</td>\n",
       "      <td>January</td>\n",
       "      <td>Aaron Maashoh</td>\n",
       "      <td>23</td>\n",
       "      <td>821-00-0265</td>\n",
       "      <td>Scientist</td>\n",
       "      <td>19114.12</td>\n",
       "      <td>1824.843333</td>\n",
       "      <td>3</td>\n",
       "      <td>4</td>\n",
       "      <td>3</td>\n",
       "      <td>4</td>\n",
       "      <td>Auto Loan, Credit-Builder Loan, Personal Loan,...</td>\n",
       "      <td>3</td>\n",
       "      <td>7</td>\n",
       "      <td>11.27</td>\n",
       "      <td>4.0</td>\n",
       "      <td>_</td>\n",
       "      <td>809.98</td>\n",
       "      <td>26.822620</td>\n",
       "      <td>22 Years and 1 Months</td>\n",
       "      <td>No</td>\n",
       "      <td>49.574949</td>\n",
       "      <td>80.41529543900253</td>\n",
       "      <td>High_spent_Small_value_payments</td>\n",
       "      <td>312.49408867943663</td>\n",
       "      <td>0</td>\n",
       "    </tr>\n",
       "    <tr>\n",
       "      <th>1</th>\n",
       "      <td>0x1603</td>\n",
       "      <td>CUS_0xd40</td>\n",
       "      <td>February</td>\n",
       "      <td>Aaron Maashoh</td>\n",
       "      <td>23</td>\n",
       "      <td>821-00-0265</td>\n",
       "      <td>Scientist</td>\n",
       "      <td>19114.12</td>\n",
       "      <td>NaN</td>\n",
       "      <td>3</td>\n",
       "      <td>4</td>\n",
       "      <td>3</td>\n",
       "      <td>4</td>\n",
       "      <td>Auto Loan, Credit-Builder Loan, Personal Loan,...</td>\n",
       "      <td>-1</td>\n",
       "      <td>NaN</td>\n",
       "      <td>11.27</td>\n",
       "      <td>4.0</td>\n",
       "      <td>Good</td>\n",
       "      <td>809.98</td>\n",
       "      <td>31.944960</td>\n",
       "      <td>NaN</td>\n",
       "      <td>No</td>\n",
       "      <td>49.574949</td>\n",
       "      <td>118.28022162236736</td>\n",
       "      <td>Low_spent_Large_value_payments</td>\n",
       "      <td>284.62916249607184</td>\n",
       "      <td>0</td>\n",
       "    </tr>\n",
       "    <tr>\n",
       "      <th>2</th>\n",
       "      <td>0x1604</td>\n",
       "      <td>CUS_0xd40</td>\n",
       "      <td>March</td>\n",
       "      <td>Aaron Maashoh</td>\n",
       "      <td>-500</td>\n",
       "      <td>821-00-0265</td>\n",
       "      <td>Scientist</td>\n",
       "      <td>19114.12</td>\n",
       "      <td>NaN</td>\n",
       "      <td>3</td>\n",
       "      <td>4</td>\n",
       "      <td>3</td>\n",
       "      <td>4</td>\n",
       "      <td>Auto Loan, Credit-Builder Loan, Personal Loan,...</td>\n",
       "      <td>3</td>\n",
       "      <td>7</td>\n",
       "      <td>_</td>\n",
       "      <td>4.0</td>\n",
       "      <td>Good</td>\n",
       "      <td>809.98</td>\n",
       "      <td>28.609352</td>\n",
       "      <td>22 Years and 3 Months</td>\n",
       "      <td>No</td>\n",
       "      <td>49.574949</td>\n",
       "      <td>81.699521264648</td>\n",
       "      <td>Low_spent_Medium_value_payments</td>\n",
       "      <td>331.2098628537912</td>\n",
       "      <td>0</td>\n",
       "    </tr>\n",
       "    <tr>\n",
       "      <th>3</th>\n",
       "      <td>0x1605</td>\n",
       "      <td>CUS_0xd40</td>\n",
       "      <td>April</td>\n",
       "      <td>Aaron Maashoh</td>\n",
       "      <td>23</td>\n",
       "      <td>821-00-0265</td>\n",
       "      <td>Scientist</td>\n",
       "      <td>19114.12</td>\n",
       "      <td>NaN</td>\n",
       "      <td>3</td>\n",
       "      <td>4</td>\n",
       "      <td>3</td>\n",
       "      <td>4</td>\n",
       "      <td>Auto Loan, Credit-Builder Loan, Personal Loan,...</td>\n",
       "      <td>5</td>\n",
       "      <td>4</td>\n",
       "      <td>6.27</td>\n",
       "      <td>4.0</td>\n",
       "      <td>Good</td>\n",
       "      <td>809.98</td>\n",
       "      <td>31.377862</td>\n",
       "      <td>22 Years and 4 Months</td>\n",
       "      <td>No</td>\n",
       "      <td>49.574949</td>\n",
       "      <td>199.4580743910713</td>\n",
       "      <td>Low_spent_Small_value_payments</td>\n",
       "      <td>223.45130972736786</td>\n",
       "      <td>0</td>\n",
       "    </tr>\n",
       "    <tr>\n",
       "      <th>4</th>\n",
       "      <td>0x1606</td>\n",
       "      <td>CUS_0xd40</td>\n",
       "      <td>May</td>\n",
       "      <td>Aaron Maashoh</td>\n",
       "      <td>23</td>\n",
       "      <td>821-00-0265</td>\n",
       "      <td>Scientist</td>\n",
       "      <td>19114.12</td>\n",
       "      <td>1824.843333</td>\n",
       "      <td>3</td>\n",
       "      <td>4</td>\n",
       "      <td>3</td>\n",
       "      <td>4</td>\n",
       "      <td>Auto Loan, Credit-Builder Loan, Personal Loan,...</td>\n",
       "      <td>6</td>\n",
       "      <td>NaN</td>\n",
       "      <td>11.27</td>\n",
       "      <td>4.0</td>\n",
       "      <td>Good</td>\n",
       "      <td>809.98</td>\n",
       "      <td>24.797347</td>\n",
       "      <td>22 Years and 5 Months</td>\n",
       "      <td>No</td>\n",
       "      <td>49.574949</td>\n",
       "      <td>41.420153086217326</td>\n",
       "      <td>High_spent_Medium_value_payments</td>\n",
       "      <td>341.48923103222177</td>\n",
       "      <td>0</td>\n",
       "    </tr>\n",
       "  </tbody>\n",
       "</table>\n",
       "</div>"
      ],
      "text/plain": [
       "       ID Customer_ID     Month           Name   Age          SSN Occupation  \\\n",
       "0  0x1602   CUS_0xd40   January  Aaron Maashoh    23  821-00-0265  Scientist   \n",
       "1  0x1603   CUS_0xd40  February  Aaron Maashoh    23  821-00-0265  Scientist   \n",
       "2  0x1604   CUS_0xd40     March  Aaron Maashoh  -500  821-00-0265  Scientist   \n",
       "3  0x1605   CUS_0xd40     April  Aaron Maashoh    23  821-00-0265  Scientist   \n",
       "4  0x1606   CUS_0xd40       May  Aaron Maashoh    23  821-00-0265  Scientist   \n",
       "\n",
       "  Annual_Income  Monthly_Inhand_Salary  Num_Bank_Accounts  Num_Credit_Card  \\\n",
       "0      19114.12            1824.843333                  3                4   \n",
       "1      19114.12                    NaN                  3                4   \n",
       "2      19114.12                    NaN                  3                4   \n",
       "3      19114.12                    NaN                  3                4   \n",
       "4      19114.12            1824.843333                  3                4   \n",
       "\n",
       "   Interest_Rate Num_of_Loan  \\\n",
       "0              3           4   \n",
       "1              3           4   \n",
       "2              3           4   \n",
       "3              3           4   \n",
       "4              3           4   \n",
       "\n",
       "                                        Type_of_Loan  Delay_from_due_date  \\\n",
       "0  Auto Loan, Credit-Builder Loan, Personal Loan,...                    3   \n",
       "1  Auto Loan, Credit-Builder Loan, Personal Loan,...                   -1   \n",
       "2  Auto Loan, Credit-Builder Loan, Personal Loan,...                    3   \n",
       "3  Auto Loan, Credit-Builder Loan, Personal Loan,...                    5   \n",
       "4  Auto Loan, Credit-Builder Loan, Personal Loan,...                    6   \n",
       "\n",
       "  Num_of_Delayed_Payment Changed_Credit_Limit  Num_Credit_Inquiries  \\\n",
       "0                      7                11.27                   4.0   \n",
       "1                    NaN                11.27                   4.0   \n",
       "2                      7                    _                   4.0   \n",
       "3                      4                 6.27                   4.0   \n",
       "4                    NaN                11.27                   4.0   \n",
       "\n",
       "  Credit_Mix Outstanding_Debt  Credit_Utilization_Ratio  \\\n",
       "0          _           809.98                 26.822620   \n",
       "1       Good           809.98                 31.944960   \n",
       "2       Good           809.98                 28.609352   \n",
       "3       Good           809.98                 31.377862   \n",
       "4       Good           809.98                 24.797347   \n",
       "\n",
       "      Credit_History_Age Payment_of_Min_Amount  Total_EMI_per_month  \\\n",
       "0  22 Years and 1 Months                    No            49.574949   \n",
       "1                    NaN                    No            49.574949   \n",
       "2  22 Years and 3 Months                    No            49.574949   \n",
       "3  22 Years and 4 Months                    No            49.574949   \n",
       "4  22 Years and 5 Months                    No            49.574949   \n",
       "\n",
       "  Amount_invested_monthly                 Payment_Behaviour  \\\n",
       "0       80.41529543900253   High_spent_Small_value_payments   \n",
       "1      118.28022162236736    Low_spent_Large_value_payments   \n",
       "2         81.699521264648   Low_spent_Medium_value_payments   \n",
       "3       199.4580743910713    Low_spent_Small_value_payments   \n",
       "4      41.420153086217326  High_spent_Medium_value_payments   \n",
       "\n",
       "      Monthly_Balance  target  \n",
       "0  312.49408867943663       0  \n",
       "1  284.62916249607184       0  \n",
       "2   331.2098628537912       0  \n",
       "3  223.45130972736786       0  \n",
       "4  341.48923103222177       0  "
      ]
     },
     "execution_count": 10,
     "metadata": {},
     "output_type": "execute_result"
    }
   ],
   "source": [
    "train.head()"
   ]
  },
  {
   "cell_type": "code",
   "execution_count": 11,
   "id": "5ff3df69-e816-411a-a9e3-a5dc385ab9fe",
   "metadata": {},
   "outputs": [
    {
     "name": "stdout",
     "output_type": "stream",
     "text": [
      "Total de linhas: 100000\n",
      "Total de colunas: 28\n"
     ]
    }
   ],
   "source": [
    "# Verificando a dimensionalidade dos dados\n",
    "\n",
    "print(f'Total de linhas: {train.shape[0]}')\n",
    "print(f'Total de colunas: {train.shape[1]}')"
   ]
  },
  {
   "cell_type": "code",
   "execution_count": 12,
   "id": "3b426e9c-5bcc-4f77-801e-9251168a1038",
   "metadata": {},
   "outputs": [
    {
     "data": {
      "text/plain": [
       "Index(['ID', 'Customer_ID', 'Month', 'Name', 'Age', 'SSN', 'Occupation',\n",
       "       'Annual_Income', 'Monthly_Inhand_Salary', 'Num_Bank_Accounts',\n",
       "       'Num_Credit_Card', 'Interest_Rate', 'Num_of_Loan', 'Type_of_Loan',\n",
       "       'Delay_from_due_date', 'Num_of_Delayed_Payment', 'Changed_Credit_Limit',\n",
       "       'Num_Credit_Inquiries', 'Credit_Mix', 'Outstanding_Debt',\n",
       "       'Credit_Utilization_Ratio', 'Credit_History_Age',\n",
       "       'Payment_of_Min_Amount', 'Total_EMI_per_month',\n",
       "       'Amount_invested_monthly', 'Payment_Behaviour', 'Monthly_Balance',\n",
       "       'target'],\n",
       "      dtype='object')"
      ]
     },
     "execution_count": 12,
     "metadata": {},
     "output_type": "execute_result"
    }
   ],
   "source": [
    "# Colunas que restaram\n",
    "\n",
    "train.columns"
   ]
  },
  {
   "cell_type": "markdown",
   "id": "6e725f4e-e32f-495b-b6f9-0d9f3b2341b2",
   "metadata": {},
   "source": [
    "# 4. EDA"
   ]
  },
  {
   "cell_type": "markdown",
   "id": "812eed27-6874-4a9a-8ff2-e68e9fb12895",
   "metadata": {
    "jp-MarkdownHeadingCollapsed": true
   },
   "source": [
    "## 4.1 Análises gerais"
   ]
  },
  {
   "cell_type": "code",
   "execution_count": 13,
   "id": "d00a9188-f340-4922-a18a-b2bb98ca302a",
   "metadata": {},
   "outputs": [
    {
     "data": {
      "text/plain": [
       "target\n",
       "0    0.71002\n",
       "1    0.28998\n",
       "Name: proportion, dtype: float64"
      ]
     },
     "execution_count": 13,
     "metadata": {},
     "output_type": "execute_result"
    }
   ],
   "source": [
    "# Checando a proporção das classes\n",
    "\n",
    "train['target'].value_counts(normalize=True,dropna=False)"
   ]
  },
  {
   "cell_type": "code",
   "execution_count": 14,
   "id": "c294cb30-a47c-4bba-abb3-2663eb358549",
   "metadata": {},
   "outputs": [
    {
     "data": {
      "image/png": "[encoded data removed]",
      "text/plain": [
       "<Figure size 500x300 with 1 Axes>"
      ]
     },
     "metadata": {},
     "output_type": "display_data"
    }
   ],
   "source": [
    "plt.figure(figsize=(5,3))\n",
    "sns.countplot(x=train['target'], hue=train['target'], palette='Blues', legend=False)\n",
    "\n",
    "plt.title('Desbalanceamento das classes')\n",
    "plt.xlabel('Classes')\n",
    "plt.ylabel('Total de indivíduos')\n",
    "plt.show()"
   ]
  },
  {
   "cell_type": "markdown",
   "id": "82f469cb-67b0-4e1d-b6b2-a709982891c2",
   "metadata": {},
   "source": [
    "Percebe-se, analisando o gráfico acima, que os dados estão desbalanceados (o que já era esperado), com mais indivíduos bons pagadores do que maus pagadores. Para corrigir esse desbalanceamento, utilizaremos o parâmetro class_weight nos modelos, além de técnicas de escalonamento (scales) que ajudarão a normalizar o target, garantindo que o modelo não seja enviesado para a classe majoritária."
   ]
  },
  {
   "cell_type": "markdown",
   "id": "84fbdb68-1f23-4fb6-b618-dcbf32f28c3b",
   "metadata": {
    "jp-MarkdownHeadingCollapsed": true
   },
   "source": [
    "## 4.2 Analisando as variáveis categóricas"
   ]
  },
  {
   "cell_type": "markdown",
   "id": "11e0088f-9a2f-40e4-bd8a-270033975f1b",
   "metadata": {},
   "source": [
    "### 4.2.1. Total de clientes únicos (col `Customer_ID` e `SSN`)"
   ]
  },
  {
   "cell_type": "markdown",
   "id": "d2aa76b4-f034-4051-a0ca-335f6297a35d",
   "metadata": {},
   "source": [
    "📝 Identificador único do cliente  \n",
    "📝 Número de Segurança Social (Social Security Number)"
   ]
  },
  {
   "cell_type": "code",
   "execution_count": 15,
   "id": "1e29e77d-2f17-4aec-8455-317fcba896de",
   "metadata": {},
   "outputs": [
    {
     "data": {
      "text/plain": [
       "np.int64(0)"
      ]
     },
     "execution_count": 15,
     "metadata": {},
     "output_type": "execute_result"
    }
   ],
   "source": [
    "# Dados ausentes\n",
    "\n",
    "train['Customer_ID'].isna().sum()"
   ]
  },
  {
   "cell_type": "code",
   "execution_count": 16,
   "id": "c0380c39-f64d-4a31-8d38-25debeee8cac",
   "metadata": {},
   "outputs": [
    {
     "data": {
      "text/plain": [
       "12500"
      ]
     },
     "execution_count": 16,
     "metadata": {},
     "output_type": "execute_result"
    }
   ],
   "source": [
    "train['Customer_ID'].nunique()"
   ]
  },
  {
   "cell_type": "code",
   "execution_count": 17,
   "id": "f2fb73c0-6135-42f5-bd61-4e05cb33d22c",
   "metadata": {},
   "outputs": [
    {
     "data": {
      "text/plain": [
       "np.int64(0)"
      ]
     },
     "execution_count": 17,
     "metadata": {},
     "output_type": "execute_result"
    }
   ],
   "source": [
    "# Dados ausentes\n",
    "\n",
    "train['SSN'].isna().sum()"
   ]
  },
  {
   "cell_type": "code",
   "execution_count": 18,
   "id": "d6390f00-7cb9-4f0d-a1e2-a43439e0308f",
   "metadata": {},
   "outputs": [
    {
     "data": {
      "text/plain": [
       "12501"
      ]
     },
     "execution_count": 18,
     "metadata": {},
     "output_type": "execute_result"
    }
   ],
   "source": [
    "train['SSN'].nunique()"
   ]
  },
  {
   "cell_type": "markdown",
   "id": "babf5fcc-df6a-47ff-b47b-62c257b0dcdb",
   "metadata": {},
   "source": [
    "Total de clientes únicos: 12.500"
   ]
  },
  {
   "cell_type": "markdown",
   "id": "59d079b7-aa5b-4d0c-9fe7-bc6be046ddee",
   "metadata": {
    "jp-MarkdownHeadingCollapsed": true
   },
   "source": [
    "### 4.2.2 Total de transações (col `ID`)"
   ]
  },
  {
   "cell_type": "markdown",
   "id": "dfcb3033-398d-4760-a536-03c72821cb39",
   "metadata": {},
   "source": [
    "📝 Identificador único da transação ou registro"
   ]
  },
  {
   "cell_type": "code",
   "execution_count": 19,
   "id": "5602271f-9281-427d-b71c-1dd9554694ea",
   "metadata": {},
   "outputs": [
    {
     "data": {
      "text/plain": [
       "np.int64(0)"
      ]
     },
     "execution_count": 19,
     "metadata": {},
     "output_type": "execute_result"
    }
   ],
   "source": [
    "# Dados ausentes\n",
    "\n",
    "train['ID'].isna().sum()"
   ]
  },
  {
   "cell_type": "code",
   "execution_count": 20,
   "id": "661bfcff-0a29-4e4e-9d0a-0489adb2477b",
   "metadata": {},
   "outputs": [
    {
     "data": {
      "text/plain": [
       "100000"
      ]
     },
     "execution_count": 20,
     "metadata": {},
     "output_type": "execute_result"
    }
   ],
   "source": [
    "train['ID'].nunique()"
   ]
  },
  {
   "cell_type": "markdown",
   "id": "0e74d396-8963-42f9-a5a2-24d6cae91966",
   "metadata": {
    "jp-MarkdownHeadingCollapsed": true
   },
   "source": [
    "### 4.2.3 Análise das safras (col `Month`)"
   ]
  },
  {
   "cell_type": "markdown",
   "id": "46086903-e3f3-47e3-b9e7-e552a7608472",
   "metadata": {},
   "source": [
    "📝 Mês de referência da análise"
   ]
  },
  {
   "cell_type": "code",
   "execution_count": 21,
   "id": "66453453-1f77-4f80-be67-90ef57e7b240",
   "metadata": {},
   "outputs": [
    {
     "data": {
      "text/plain": [
       "np.int64(0)"
      ]
     },
     "execution_count": 21,
     "metadata": {},
     "output_type": "execute_result"
    }
   ],
   "source": [
    "# Dados ausentes\n",
    "\n",
    "train['Month'].isna().sum()"
   ]
  },
  {
   "cell_type": "code",
   "execution_count": 22,
   "id": "d0dd5714-57d3-4ff6-a9ca-91c05087a18b",
   "metadata": {},
   "outputs": [
    {
     "data": {
      "image/png": "[encoded data removed]",
      "text/plain": [
       "<Figure size 640x480 with 1 Axes>"
      ]
     },
     "metadata": {},
     "output_type": "display_data"
    }
   ],
   "source": [
    "# Volumetria por safra\n",
    "\n",
    "train['Month'].value_counts().plot(kind='bar');\n",
    "plt.title('Volumetria de clientes por safra');"
   ]
  },
  {
   "cell_type": "markdown",
   "id": "5aeb28cf-675b-40ec-bed9-b5f9453e6aa5",
   "metadata": {},
   "source": [
    "Não foi percebida nenhuma variação na volumetria de clientes por safra (mês). Isso indica que os 12.500 clientes estavam presentes em todos os meses acima."
   ]
  },
  {
   "cell_type": "code",
   "execution_count": 23,
   "id": "a242943b-853a-4e1f-9332-5370ef514708",
   "metadata": {},
   "outputs": [
    {
     "data": {
      "image/png": "[encoded data removed]",
      "text/plain": [
       "<Figure size 600x300 with 2 Axes>"
      ]
     },
     "metadata": {},
     "output_type": "display_data"
    }
   ],
   "source": [
    "# Taxa de maus por safra\n",
    "\n",
    "tx_maus_safra = train.groupby(['Month'])['target'].mean().sort_values(ascending=False)\n",
    "\n",
    "fig, ax1 = plt.subplots(figsize=(6, 3))\n",
    "\n",
    "# Gráfico de barras para contagem de pessoas\n",
    "sns.countplot(data=train, x='Month', ax=ax1, palette='Blues', hue='Month', order=tx_maus_safra.index)\n",
    "\n",
    "# Configurando o segundo eixo y\n",
    "ax2 = ax1.twinx()\n",
    "ax2.plot(tx_maus_safra.index, tx_maus_safra.values, color='r', marker='o', linestyle='-', linewidth=2)\n",
    "plt.title('Taxa de maus pagadores por safra')\n",
    "plt.show()"
   ]
  },
  {
   "cell_type": "markdown",
   "id": "e7e69958-d702-4610-a82a-db61bc8f0181",
   "metadata": {},
   "source": [
    "Analisando o gráfico acima, percebe-se que o mês de fevereiro apresentou a menor taxa de maus pagadores, enquanto obteve a maior taxa no mês de junho. No entanto, a diferença entre a menor e maior taxa foi apenas de 1%."
   ]
  },
  {
   "cell_type": "markdown",
   "id": "51d36402-70d9-4b17-890d-17878a0cd486",
   "metadata": {
    "jp-MarkdownHeadingCollapsed": true
   },
   "source": [
    "### 4.2.4 Taxa de maus por nome não preenchido (col `Name`)"
   ]
  },
  {
   "cell_type": "markdown",
   "id": "c4c92986-b604-4701-bde1-19f751b69140",
   "metadata": {},
   "source": [
    "📝 Nome do cliente"
   ]
  },
  {
   "cell_type": "code",
   "execution_count": 24,
   "id": "1182fb71-f517-43ce-bf1f-86c5d1f23de7",
   "metadata": {},
   "outputs": [
    {
     "data": {
      "text/plain": [
       "np.int64(9985)"
      ]
     },
     "execution_count": 24,
     "metadata": {},
     "output_type": "execute_result"
    }
   ],
   "source": [
    "# Dados ausentes\n",
    "\n",
    "train['Name'].isna().sum()"
   ]
  },
  {
   "cell_type": "code",
   "execution_count": 25,
   "id": "6ea5a00e-83a5-4df0-9a28-6c0a299715b0",
   "metadata": {},
   "outputs": [],
   "source": [
    "# Criando a flag. OBS: Sem nome preenchido = 1\n",
    "\n",
    "flag_nome = train['Name'].isna()*1\n",
    "flag_nome = pd.concat([flag_nome,train['target']], axis=1)"
   ]
  },
  {
   "cell_type": "code",
   "execution_count": 26,
   "id": "182f8ab0-f4f8-4940-a3d2-94e18f927353",
   "metadata": {},
   "outputs": [],
   "source": [
    "# Taxa de maus por nomes não preenchidos \n",
    "\n",
    "tx_maus_nome = flag_nome.groupby(['Name'])['target'].mean().sort_values(ascending=False)"
   ]
  },
  {
   "cell_type": "code",
   "execution_count": 27,
   "id": "ff2fffb0-4fcf-4af8-8a15-0927d9da9017",
   "metadata": {},
   "outputs": [
    {
     "data": {
      "image/png": "[encoded data removed]",
      "text/plain": [
       "<Figure size 600x400 with 2 Axes>"
      ]
     },
     "metadata": {},
     "output_type": "display_data"
    }
   ],
   "source": [
    "# Gráfico\n",
    "\n",
    "fig, ax1 = plt.subplots(figsize=(6, 4))\n",
    "\n",
    "# Gráfico de barras para a contagem de clientes\n",
    "\n",
    "sns.countplot(data=flag_nome, x='Name', ax=ax1, palette='Blues', hue='Name')\n",
    "\n",
    "# Configurando o segundo eixo y\n",
    "\n",
    "plt.title('Taxa de maus pagadores por nome não preenchido')\n",
    "ax2 = ax1.twinx()\n",
    "ax2.plot(tx_maus_nome.index, tx_maus_nome.values, color='r', marker='o', linestyle='-', linewidth=2)\n",
    "plt.show()"
   ]
  },
  {
   "cell_type": "code",
   "execution_count": 28,
   "id": "19ec50d6-b2dd-493e-864b-13ba9a1b77b8",
   "metadata": {},
   "outputs": [
    {
     "data": {
      "text/plain": [
       "Name\n",
       "1    0.293941\n",
       "0    0.289541\n",
       "Name: target, dtype: float64"
      ]
     },
     "execution_count": 28,
     "metadata": {},
     "output_type": "execute_result"
    }
   ],
   "source": [
    "tx_maus_nome "
   ]
  },
  {
   "cell_type": "markdown",
   "id": "3948a135-b3d8-4ac4-a059-afff8c8888aa",
   "metadata": {},
   "source": [
    "Percebeu-se, acima, que a taxa de maus é um pouco maior em clientes sem nome cadastrado. No entanto, a diferença é pequena (1%)."
   ]
  },
  {
   "cell_type": "markdown",
   "id": "9eb599fb-fce8-47e3-a03d-43e4f31727ff",
   "metadata": {
    "jp-MarkdownHeadingCollapsed": true
   },
   "source": [
    "### 4.2.5 Taxa de maus pagadores por ocupação (col `Occupation`)"
   ]
  },
  {
   "cell_type": "markdown",
   "id": "26d1a3a2-780a-429b-b822-81db8a7eeae2",
   "metadata": {},
   "source": [
    "📝 Ocupação profissional do cliente"
   ]
  },
  {
   "cell_type": "code",
   "execution_count": 29,
   "id": "3fd144fd-a518-4ad5-9cc2-8690a5606ddd",
   "metadata": {},
   "outputs": [
    {
     "data": {
      "text/plain": [
       "np.int64(0)"
      ]
     },
     "execution_count": 29,
     "metadata": {},
     "output_type": "execute_result"
    }
   ],
   "source": [
    "# Dados ausentes\n",
    "\n",
    "train['Occupation'].isna().sum()"
   ]
  },
  {
   "cell_type": "code",
   "execution_count": 30,
   "id": "11ebe593-1023-443f-8821-123489d7bfb8",
   "metadata": {},
   "outputs": [
    {
     "data": {
      "image/png": "[encoded data removed]",
      "text/plain": [
       "<Figure size 2000x500 with 2 Axes>"
      ]
     },
     "metadata": {},
     "output_type": "display_data"
    }
   ],
   "source": [
    "# Taxa de maus por ocupação\n",
    "\n",
    "tx_maus_ocupacao = train.groupby(['Occupation'])['target'].mean().sort_values(ascending=False)\n",
    "\n",
    "# Gráfico\n",
    "\n",
    "fig, ax1 = plt.subplots(figsize=(20, 5))\n",
    "\n",
    "# Gráfico de barras para contagem de pessoas\n",
    "sns.countplot(data=train, x='Occupation', ax=ax1, palette='Blues', hue='Occupation', order=tx_maus_ocupacao.index)\n",
    "\n",
    "# Configurando o segundo eixo y\n",
    "ax2 = ax1.twinx()\n",
    "ax2.plot(tx_maus_ocupacao.index, tx_maus_ocupacao.values, color='r', marker='o', linestyle='-', linewidth=2)\n",
    "plt.title('Taxa de maus pagadores por ocupação')\n",
    "plt.show()"
   ]
  },
  {
   "cell_type": "code",
   "execution_count": 31,
   "id": "ba0a0c47-52a5-4da3-af59-a95b0a81d990",
   "metadata": {},
   "outputs": [
    {
     "name": "stdout",
     "output_type": "stream",
     "text": [
      "Maior taxa de maus: 0.31\n",
      "Menor taxa de maus: 0.26\n"
     ]
    }
   ],
   "source": [
    "print(f'Maior taxa de maus: {np.round(tx_maus_ocupacao,2).max()}')\n",
    "print(f'Menor taxa de maus: {np.round(tx_maus_ocupacao,2).min()}')"
   ]
  },
  {
   "cell_type": "markdown",
   "id": "224eaed9-a9a7-450d-8536-d285e04fc951",
   "metadata": {},
   "source": [
    "A taxa de maus por ocupação varia pouco (diferença de 4%). Em todo caso, percebeu-se que _Media manager_ foi o que apresentou a menor taxa de maus pagadores, com 26%. Já a maior taxa ficou com _Entrepreneur_, com 31%."
   ]
  },
  {
   "cell_type": "markdown",
   "id": "5534900a-c7f3-4c6f-8ef3-645f3dd154f1",
   "metadata": {
    "jp-MarkdownHeadingCollapsed": true
   },
   "source": [
    "### 4.2.6 Verificando a taxa de maus por tipo de empréstimo (col `Type_of_Loan` )"
   ]
  },
  {
   "cell_type": "markdown",
   "id": "77b50928-6882-4efb-b2fe-0addafb9b91d",
   "metadata": {},
   "source": [
    "📝 Tipo de empréstimo (pessoal, hipotecário, etc)"
   ]
  },
  {
   "cell_type": "markdown",
   "id": "b5412c24-6e1b-4e73-9753-672998fc20c9",
   "metadata": {},
   "source": [
    "Percebeu-se, abaixo, que a variável contém bastante texto e que possui várias categorias de empréstimo, algumas vezes combinados. Uma pergunta válida seria: Há uma maior chance de pessoas com mais tipos de empréstimos serem, em maioria, maus pagadores?"
   ]
  },
  {
   "cell_type": "code",
   "execution_count": 32,
   "id": "579c41df-388a-4ce8-aa37-232d113dc348",
   "metadata": {},
   "outputs": [
    {
     "data": {
      "text/plain": [
       "np.int64(11408)"
      ]
     },
     "execution_count": 32,
     "metadata": {},
     "output_type": "execute_result"
    }
   ],
   "source": [
    "# Dados ausentes\n",
    "\n",
    "train['Type_of_Loan'].isna().sum()"
   ]
  },
  {
   "cell_type": "code",
   "execution_count": 33,
   "id": "01bf4a35-b069-4579-ae30-7cc042b1c2b2",
   "metadata": {},
   "outputs": [],
   "source": [
    "train_type_of_loan = train[['Type_of_Loan','target']]"
   ]
  },
  {
   "cell_type": "code",
   "execution_count": 34,
   "id": "c96289eb-59de-40ed-b29c-5119540e555a",
   "metadata": {},
   "outputs": [
    {
     "data": {
      "text/html": [
       "<div>\n",
       "<style scoped>\n",
       "    .dataframe tbody tr th:only-of-type {\n",
       "        vertical-align: middle;\n",
       "    }\n",
       "\n",
       "    .dataframe tbody tr th {\n",
       "        vertical-align: top;\n",
       "    }\n",
       "\n",
       "    .dataframe thead th {\n",
       "        text-align: right;\n",
       "    }\n",
       "</style>\n",
       "<table border=\"1\" class=\"dataframe\">\n",
       "  <thead>\n",
       "    <tr style=\"text-align: right;\">\n",
       "      <th></th>\n",
       "      <th>Type_of_Loan</th>\n",
       "      <th>target</th>\n",
       "    </tr>\n",
       "  </thead>\n",
       "  <tbody>\n",
       "    <tr>\n",
       "      <th>49711</th>\n",
       "      <td>Payday Loan, Not Specified, and Credit-Builder...</td>\n",
       "      <td>0</td>\n",
       "    </tr>\n",
       "    <tr>\n",
       "      <th>51208</th>\n",
       "      <td>Personal Loan, Credit-Builder Loan, and Debt C...</td>\n",
       "      <td>0</td>\n",
       "    </tr>\n",
       "    <tr>\n",
       "      <th>95340</th>\n",
       "      <td>Auto Loan</td>\n",
       "      <td>0</td>\n",
       "    </tr>\n",
       "    <tr>\n",
       "      <th>88801</th>\n",
       "      <td>Student Loan, Auto Loan, Auto Loan, Mortgage L...</td>\n",
       "      <td>1</td>\n",
       "    </tr>\n",
       "    <tr>\n",
       "      <th>44749</th>\n",
       "      <td>Payday Loan, Auto Loan, Debt Consolidation Loa...</td>\n",
       "      <td>0</td>\n",
       "    </tr>\n",
       "    <tr>\n",
       "      <th>15663</th>\n",
       "      <td>Not Specified</td>\n",
       "      <td>0</td>\n",
       "    </tr>\n",
       "    <tr>\n",
       "      <th>32793</th>\n",
       "      <td>Payday Loan, Debt Consolidation Loan, Mortgage...</td>\n",
       "      <td>0</td>\n",
       "    </tr>\n",
       "    <tr>\n",
       "      <th>57062</th>\n",
       "      <td>Debt Consolidation Loan, Credit-Builder Loan, ...</td>\n",
       "      <td>0</td>\n",
       "    </tr>\n",
       "    <tr>\n",
       "      <th>13032</th>\n",
       "      <td>Debt Consolidation Loan, Credit-Builder Loan, ...</td>\n",
       "      <td>0</td>\n",
       "    </tr>\n",
       "    <tr>\n",
       "      <th>32696</th>\n",
       "      <td>Payday Loan, Home Equity Loan, Auto Loan, and ...</td>\n",
       "      <td>0</td>\n",
       "    </tr>\n",
       "  </tbody>\n",
       "</table>\n",
       "</div>"
      ],
      "text/plain": [
       "                                            Type_of_Loan  target\n",
       "49711  Payday Loan, Not Specified, and Credit-Builder...       0\n",
       "51208  Personal Loan, Credit-Builder Loan, and Debt C...       0\n",
       "95340                                          Auto Loan       0\n",
       "88801  Student Loan, Auto Loan, Auto Loan, Mortgage L...       1\n",
       "44749  Payday Loan, Auto Loan, Debt Consolidation Loa...       0\n",
       "15663                                      Not Specified       0\n",
       "32793  Payday Loan, Debt Consolidation Loan, Mortgage...       0\n",
       "57062  Debt Consolidation Loan, Credit-Builder Loan, ...       0\n",
       "13032  Debt Consolidation Loan, Credit-Builder Loan, ...       0\n",
       "32696  Payday Loan, Home Equity Loan, Auto Loan, and ...       0"
      ]
     },
     "execution_count": 34,
     "metadata": {},
     "output_type": "execute_result"
    }
   ],
   "source": [
    "train_type_of_loan.sample(10)"
   ]
  },
  {
   "cell_type": "markdown",
   "id": "1f5334bf-92ae-410d-a8e7-fe933cc5284e",
   "metadata": {},
   "source": [
    "💡 Ideia para trabalhar com essa variável:\n",
    "* Passar tudo para minúsculo\n",
    "* Separá-los pela vírgula\n",
    "* Quantificar os tipos de empréstimo\n",
    "* Calcular a taxa de maus por tipo de empréstimo\n",
    "* Transformar cada tipo em uma coluna (?)"
   ]
  },
  {
   "cell_type": "code",
   "execution_count": 35,
   "id": "9e605afd-dd96-4c3e-a5e7-19b1165b190f",
   "metadata": {},
   "outputs": [],
   "source": [
    "# Passando tudo pra minúsculo\n",
    "\n",
    "train_type_of_loan.loc[:, 'Type_of_Loan'] = train_type_of_loan['Type_of_Loan'].str.lower()\n",
    "\n",
    "# Exibir todos os empréstimos da linha\n",
    "\n",
    "pd.set_option('display.max_colwidth', None)\n",
    "\n",
    "# Tratamento do separador\n",
    "\n",
    "train_type_of_loan.loc[:, 'Type_of_Loan'] = train_type_of_loan['Type_of_Loan'].str.replace(' and ', ',')\n",
    "train_type_of_loan.loc[:, 'Type_of_Loan'] = train_type_of_loan['Type_of_Loan'].str.replace(', ', ',')\n",
    "train_type_of_loan.loc[:, 'Type_of_Loan'] = train_type_of_loan['Type_of_Loan'].str.replace(',,', ',')\n",
    "\n",
    "# Separação dos empréstimos\n",
    "\n",
    "exploded = train_type_of_loan.assign(Type_of_Loan=train_type_of_loan['Type_of_Loan'].str.split(','))\\\n",
    ".explode('Type_of_Loan')\n",
    "\n",
    "#Remoção de espaços em branco extras nas strings\n",
    "\n",
    "exploded['Type_of_Loan'] = exploded['Type_of_Loan'].str.strip()"
   ]
  },
  {
   "cell_type": "code",
   "execution_count": 36,
   "id": "f1f2cd40-64b7-4fc7-a295-ccfa013d4195",
   "metadata": {},
   "outputs": [
    {
     "data": {
      "text/plain": [
       "Type_of_Loan\n",
       "payday loan                40568\n",
       "credit-builder loan        40440\n",
       "not specified              39616\n",
       "home equity loan           39104\n",
       "student loan               38968\n",
       "mortgage loan              38936\n",
       "personal loan              38888\n",
       "debt consolidation loan    38776\n",
       "auto loan                  37992\n",
       "Name: count, dtype: int64"
      ]
     },
     "execution_count": 36,
     "metadata": {},
     "output_type": "execute_result"
    }
   ],
   "source": [
    "# Quantificação dos tipos de empréstimo\n",
    "\n",
    "df_loan_counts = train_type_of_loan['Type_of_Loan'].str.split(',').explode().str.strip().value_counts()\n",
    "df_loan_counts"
   ]
  },
  {
   "cell_type": "code",
   "execution_count": 37,
   "id": "c2de4561-a160-45fa-a13b-7f8ac888c7a8",
   "metadata": {},
   "outputs": [
    {
     "data": {
      "image/png": "[encoded data removed]",
      "text/plain": [
       "<Figure size 800x400 with 1 Axes>"
      ]
     },
     "metadata": {},
     "output_type": "display_data"
    }
   ],
   "source": [
    "# Configurações do dataframe\n",
    "\n",
    "df_loan_counts = pd.DataFrame(df_loan_counts).reset_index()\n",
    "df_loan_counts = df_loan_counts.sort_values(by='count', ascending=True)\n",
    "\n",
    "# Gráfico\n",
    "\n",
    "plt.figure(figsize=(8, 4))\n",
    "plt.barh(df_loan_counts['Type_of_Loan'], df_loan_counts['count'], color='steelblue')\n",
    "plt.xlabel('Total de empréstimos')\n",
    "plt.title('Contagem de Tipos de Empréstimo')\n",
    "plt.grid(axis='x', linestyle='--', alpha=0.7)\n",
    "plt.show()"
   ]
  },
  {
   "cell_type": "code",
   "execution_count": 38,
   "id": "077e796d-d454-46b5-a152-1cef22a5cdc2",
   "metadata": {},
   "outputs": [
    {
     "data": {
      "text/plain": [
       "Type_of_Loan\n",
       "auto loan                  0.394030\n",
       "credit-builder loan        0.387364\n",
       "debt consolidation loan    0.393130\n",
       "home equity loan           0.387531\n",
       "mortgage loan              0.390718\n",
       "not specified              0.387369\n",
       "payday loan                0.392428\n",
       "personal loan              0.385800\n",
       "student loan               0.394991\n",
       "Name: target, dtype: float64"
      ]
     },
     "execution_count": 38,
     "metadata": {},
     "output_type": "execute_result"
    }
   ],
   "source": [
    "# Taxa de maus por categoria \n",
    "\n",
    "maus_por_categoria = exploded.groupby('Type_of_Loan')['target'].mean()\n",
    "maus_por_categoria"
   ]
  },
  {
   "cell_type": "markdown",
   "id": "979c0e1a-0d33-43c0-8967-a7d7621eb0d6",
   "metadata": {},
   "source": [
    "Verificou-se, acima, que a taxa de maus não varia tanto pelo tipo de empréstimo, variando apenas em 1%. O único fator interessante a se comentar é com relação aos top 3 empréstimos mais solicitados:\n",
    "\n",
    "**(1): payday loan**: empréstimo de dia de pagamento  \n",
    "**(2): credit-builder loan**: empréstimo para construção de crédito  \n",
    "**(3): not specified / home equity loan**: não especificado / empréstimo com garantia de imóvel"
   ]
  },
  {
   "cell_type": "markdown",
   "id": "88ce11a2-0faa-4a0e-b777-6c74fad2bbdf",
   "metadata": {
    "jp-MarkdownHeadingCollapsed": true
   },
   "source": [
    "### 4.2.7 Verificando a taxa de maus por variedade de tipos de crédito (col `Credit_Mix` )"
   ]
  },
  {
   "cell_type": "markdown",
   "id": "e5847dc8-4370-4916-a891-0e3e85951563",
   "metadata": {},
   "source": [
    "📝 Mistura de tipos de crédito (cartões, empréstimos, etc)"
   ]
  },
  {
   "cell_type": "markdown",
   "id": "7cf2e66e-a0b2-417e-a319-2a6e64b3f86a",
   "metadata": {},
   "source": [
    "Essa feature corresponde a uma variedade de tipos de crédito, como cartões de crédito, empréstimos pessoais, e outros. Um \"Good\" Credit_Mix indica uma combinação saudável de diferentes tipos de crédito, enquanto \"Bad\" sugere um uso desfavorável."
   ]
  },
  {
   "cell_type": "code",
   "execution_count": 39,
   "id": "2dd8bcdf-3adc-43b8-aba5-39d8d6e8af68",
   "metadata": {},
   "outputs": [
    {
     "data": {
      "text/plain": [
       "np.int64(0)"
      ]
     },
     "execution_count": 39,
     "metadata": {},
     "output_type": "execute_result"
    }
   ],
   "source": [
    "# Dados ausentes\n",
    "\n",
    "train['Credit_Mix'].isna().sum()"
   ]
  },
  {
   "cell_type": "code",
   "execution_count": 40,
   "id": "5e27d48d-24ee-45d7-82a4-26f34538a1ea",
   "metadata": {},
   "outputs": [
    {
     "data": {
      "image/png": "[encoded data removed]",
      "text/plain": [
       "<Figure size 600x400 with 2 Axes>"
      ]
     },
     "metadata": {},
     "output_type": "display_data"
    }
   ],
   "source": [
    "# Taxa de maus por variedade de empréstimo\n",
    "\n",
    "tx_maus_credit_mix = train.groupby(['Credit_Mix'])['target'].mean().sort_values(ascending=False)\n",
    "\n",
    "# Gráfico\n",
    "\n",
    "fig, ax1 = plt.subplots(figsize=(6, 4))\n",
    "\n",
    "# Gráfico de barras para contagem de pessoas\n",
    "sns.countplot(data=train, x='Credit_Mix', ax=ax1, palette='Blues', hue='Credit_Mix',order=tx_maus_credit_mix.index)\n",
    "\n",
    "# Configurando o segundo eixo y\n",
    "ax2 = ax1.twinx()\n",
    "ax2.plot(tx_maus_credit_mix.index, tx_maus_credit_mix.values, color='r', marker='o', linestyle='-', linewidth=2)\n",
    "plt.title('Taxa de maus pagadores por tipo de cartão de crédito')\n",
    "plt.show()"
   ]
  },
  {
   "cell_type": "code",
   "execution_count": 41,
   "id": "50875d44-4d2b-4638-8e8c-ae411e022ba5",
   "metadata": {},
   "outputs": [
    {
     "data": {
      "text/plain": [
       "Credit_Mix\n",
       "Bad         0.600822\n",
       "_           0.290616\n",
       "Standard    0.215439\n",
       "Good        0.158647\n",
       "Name: target, dtype: float64"
      ]
     },
     "execution_count": 41,
     "metadata": {},
     "output_type": "execute_result"
    }
   ],
   "source": [
    "tx_maus_credit_mix"
   ]
  },
  {
   "cell_type": "markdown",
   "id": "d53cc162-dd61-4a18-b811-844d35d93ea7",
   "metadata": {},
   "source": [
    "Percebeu-se que pessoas com uma má/baixa variedade de crédito apresentou uma alta taxa de inadimplência (60%), enquanto pessoas boas apresentaram apenas 15% (algo esperado). Ou seja, há um diferença de 45% na taxa de maus."
   ]
  },
  {
   "cell_type": "code",
   "execution_count": 42,
   "id": "94570851-3fb3-4696-9b2d-25f87d7111b1",
   "metadata": {},
   "outputs": [],
   "source": [
    "# Pode estar relacionada com a variável acima (Type of loan)"
   ]
  },
  {
   "cell_type": "markdown",
   "id": "e5d6ea6d-f801-4cd2-99cf-934b92b93bba",
   "metadata": {},
   "source": [
    "### 4.2.8 Analisando o histórico de crédito dos clientes (col `Credit_History_Age`)"
   ]
  },
  {
   "cell_type": "markdown",
   "id": "47221d90-4287-4871-bca1-c78f694ffacb",
   "metadata": {},
   "source": [
    "📝 Tempo total de histórico de crédito do cliente"
   ]
  },
  {
   "cell_type": "code",
   "execution_count": 43,
   "id": "3a4176e8-415c-4358-8119-4185c76dffb5",
   "metadata": {},
   "outputs": [
    {
     "data": {
      "text/plain": [
       "np.int64(9030)"
      ]
     },
     "execution_count": 43,
     "metadata": {},
     "output_type": "execute_result"
    }
   ],
   "source": [
    "# Dados ausentes\n",
    "\n",
    "train['Credit_History_Age'].isna().sum()"
   ]
  },
  {
   "cell_type": "markdown",
   "id": "d7b64b32-9aeb-4fbd-bff2-d889c23db213",
   "metadata": {},
   "source": [
    "A variável abaixo apresenta o tempo total de permanência do cliente a partir da concessão de crédito. Nesse caso, optou-se por substituí-la pelo total de meses, para garantir uma melhor padronização da análise e possível performance do modelo (Será adicionada nos dados de treino na etapa de `Feature engineering`)."
   ]
  },
  {
   "cell_type": "code",
   "execution_count": 44,
   "id": "5a5d2569-8104-4f44-aab2-eb02ec760b18",
   "metadata": {},
   "outputs": [
    {
     "data": {
      "text/plain": [
       "Credit_History_Age\n",
       "15 Years and 11 Months    446\n",
       "19 Years and 4 Months     445\n",
       "19 Years and 5 Months     444\n",
       "17 Years and 11 Months    443\n",
       "19 Years and 3 Months     441\n",
       "                         ... \n",
       "0 Years and 3 Months       20\n",
       "0 Years and 2 Months       15\n",
       "33 Years and 7 Months      14\n",
       "33 Years and 8 Months      12\n",
       "0 Years and 1 Months        2\n",
       "Name: count, Length: 404, dtype: int64"
      ]
     },
     "execution_count": 44,
     "metadata": {},
     "output_type": "execute_result"
    }
   ],
   "source": [
    "train['Credit_History_Age'].value_counts(0)"
   ]
  },
  {
   "cell_type": "code",
   "execution_count": 45,
   "id": "a63d8650-8d0b-479d-95a1-a573523427b7",
   "metadata": {},
   "outputs": [],
   "source": [
    "def convert_to_months(age):\n",
    "    \"\"\"Função para converter Years and months em meses\"\"\"\n",
    "\n",
    "    if isinstance(age, str):\n",
    "        years, months = age.split(' Years and ')\n",
    "        return int(years) * 12 + int(months.split(' ')[0])\n",
    "    else:\n",
    "        return None\n",
    "        \n",
    "Credit_History_Age_Months = train['Credit_History_Age'].apply(convert_to_months)"
   ]
  },
  {
   "cell_type": "markdown",
   "id": "18c61fa7-c76a-482d-9a75-40395112f49f",
   "metadata": {},
   "source": [
    "A variável passou a ser analisada no próximo tópico da EDA, referente às análises numéricas (seção 4.3.2)."
   ]
  },
  {
   "cell_type": "markdown",
   "id": "6bdb6139-8dca-42fe-9e40-94d78eeb09df",
   "metadata": {
    "jp-MarkdownHeadingCollapsed": true
   },
   "source": [
    "### 4.2.9 Taxa de maus pagadores por pagamento mínimo da fatura (col `Payment_of_Min_Amount`)"
   ]
  },
  {
   "cell_type": "markdown",
   "id": "9cbeefe7-dad1-4d16-8fab-d6713633f2d5",
   "metadata": {},
   "source": [
    "📝 Se o cliente paga o valor mínimo da fatura (Yes/No)"
   ]
  },
  {
   "cell_type": "markdown",
   "id": "a6a41798-dcdd-4640-8388-02fd9425c62e",
   "metadata": {},
   "source": [
    "Pagar apenas o valor mínimo da fatura do cartão de crédito significa que o cliente está adiando o pagamento completo do saldo para o futuro. Ou seja, o cliente paga um valor reduzido (ex: uma pequena porcentagem do saldo total ou uma quantia fixa) da fatura atual, no entanto, o saldo restante (não pago) é transferido para o mês seguinte. Esse saldo continua a acumular juros, o que pode aumentar a dívida ao longo do tempo, podendo ser fortemente associada ao aumento da taxa de maus pagadores."
   ]
  },
  {
   "cell_type": "code",
   "execution_count": 46,
   "id": "d20bbe22-6614-4e75-87c4-aee1e1e360a1",
   "metadata": {},
   "outputs": [
    {
     "data": {
      "text/plain": [
       "np.int64(0)"
      ]
     },
     "execution_count": 46,
     "metadata": {},
     "output_type": "execute_result"
    }
   ],
   "source": [
    "# Dados ausentes\n",
    "\n",
    "train['Payment_of_Min_Amount'].isna().sum()"
   ]
  },
  {
   "cell_type": "code",
   "execution_count": 47,
   "id": "7e6bde1b-b870-4d58-ae27-ff594e6de9a7",
   "metadata": {},
   "outputs": [
    {
     "data": {
      "image/png": "[encoded data removed]",
      "text/plain": [
       "<Figure size 600x400 with 2 Axes>"
      ]
     },
     "metadata": {},
     "output_type": "display_data"
    }
   ],
   "source": [
    "# Taxa de maus por pagamento mínimo da fatura\n",
    "\n",
    "tx_maus_pay_min = train.groupby(['Payment_of_Min_Amount'])['target'].mean().sort_values(ascending=False)\n",
    "\n",
    "# Gráfico\n",
    "\n",
    "fig, ax1 = plt.subplots(figsize=(6, 4))\n",
    "\n",
    "# Gráfico de barras para contagem de pessoas\n",
    "sns.countplot(data=train, x='Payment_of_Min_Amount', ax=ax1, palette='Blues', hue='Payment_of_Min_Amount', order=tx_maus_pay_min.index)\n",
    "\n",
    "# Configurando o segundo eixo y\n",
    "ax2 = ax1.twinx()\n",
    "ax2.plot(tx_maus_pay_min.index, tx_maus_pay_min.values, color='r', marker='o', linestyle='-', linewidth=2)\n",
    "plt.title('Taxa de maus pagadores por pagamento de fatura mínima')\n",
    "plt.show()"
   ]
  },
  {
   "cell_type": "code",
   "execution_count": 48,
   "id": "f54719da-75e8-476e-9d16-4c8fa6adfd8c",
   "metadata": {},
   "outputs": [
    {
     "data": {
      "text/plain": [
       "Payment_of_Min_Amount\n",
       "Yes    0.40\n",
       "NM     0.29\n",
       "No     0.13\n",
       "Name: target, dtype: float64"
      ]
     },
     "execution_count": 48,
     "metadata": {},
     "output_type": "execute_result"
    }
   ],
   "source": [
    "# Taxa de maus\n",
    "\n",
    "np.round(tx_maus_pay_min,2)"
   ]
  },
  {
   "cell_type": "markdown",
   "id": "03f481c1-b2b4-47fe-89b8-42ad3d90bf4d",
   "metadata": {},
   "source": [
    "* Houve uma diferença de 27% entre a maior e menor taxa de maus nessa variável;\n",
    "\n",
    "* Observou-se acima que a taxa de maus é maior em pessoas que utilizam o recurso de pagamento do valor mínimo da fatura, como o esperado, pois o adiamento da dívida com juros mais alto aumenta ainda mais as chances de inadimplência;\n",
    "\n",
    "* Também foi possível analisar que a taxa de maus é menor em pessoas que não utilizam esse recurso, também como o esperado."
   ]
  },
  {
   "cell_type": "markdown",
   "id": "5f210f4e-93f2-447b-9756-5786e90fc075",
   "metadata": {
    "jp-MarkdownHeadingCollapsed": true
   },
   "source": [
    "### 4.2.10 Verificando abaixo os perfis de pagamento dos clientes (col `Payment_Behavior`)"
   ]
  },
  {
   "cell_type": "markdown",
   "id": "850b2d33-7cae-4676-9e9f-24c5b7397e65",
   "metadata": {},
   "source": [
    "📝 Comportamento de pagamento (padrões e hábitos)"
   ]
  },
  {
   "cell_type": "code",
   "execution_count": 49,
   "id": "55fd7ab4-2bca-4b55-9572-4038726d95ee",
   "metadata": {},
   "outputs": [
    {
     "data": {
      "text/plain": [
       "np.int64(0)"
      ]
     },
     "execution_count": 49,
     "metadata": {},
     "output_type": "execute_result"
    }
   ],
   "source": [
    "train['Payment_Behaviour'].isna().sum()"
   ]
  },
  {
   "cell_type": "code",
   "execution_count": 50,
   "id": "9072e16d-6b90-4e67-8d0a-3afc4b5eb9d5",
   "metadata": {},
   "outputs": [
    {
     "data": {
      "text/plain": [
       "array(['High_spent_Small_value_payments',\n",
       "       'Low_spent_Large_value_payments',\n",
       "       'Low_spent_Medium_value_payments',\n",
       "       'Low_spent_Small_value_payments',\n",
       "       'High_spent_Medium_value_payments', '!@9#%8',\n",
       "       'High_spent_Large_value_payments'], dtype=object)"
      ]
     },
     "execution_count": 50,
     "metadata": {},
     "output_type": "execute_result"
    }
   ],
   "source": [
    "train['Payment_Behaviour'].unique()"
   ]
  },
  {
   "cell_type": "markdown",
   "id": "585c63ef-a0c3-4e50-8e9b-81272d7cfd79",
   "metadata": {},
   "source": [
    "* High_spent_Small_value_payments: Altos gastos em pagamentos de pequeno valor\n",
    "\n",
    "* Low_spent_Large_value_payments: Baixos gastos em pagamentos de alto valor, sugerindo uma abordagem cuidadosa em grandes transações\n",
    "\n",
    "* Low_spent_Medium_value_payments: Baixos gastos em pagamentos de valor médio\n",
    "\n",
    "* Low_spent_Small_value_payments: Baixos gastos em pagamentos de pequeno valor\n",
    "\n",
    "* High_spent_Medium_value_payments: Altos gastos em pagamentos de valor médio\n",
    "\n",
    "* !@9#%8: Valor inválido ou outlier\n",
    "\n",
    "* High_spent_Large_value_payments: Altos gastos em pagamentos de alto valor"
   ]
  },
  {
   "cell_type": "markdown",
   "id": "f43adb9a-8654-4897-9e62-063501268ff8",
   "metadata": {},
   "source": [
    "#### Taxa de maus por perfil de pagamento"
   ]
  },
  {
   "cell_type": "code",
   "execution_count": 51,
   "id": "18d8d38a-2400-40fa-a7a6-215c29f023fd",
   "metadata": {},
   "outputs": [
    {
     "data": {
      "image/png": "[encoded data removed]",
      "text/plain": [
       "<Figure size 2000x500 with 2 Axes>"
      ]
     },
     "metadata": {},
     "output_type": "display_data"
    }
   ],
   "source": [
    "# Taxa de maus por comportamento de pagamento\n",
    "\n",
    "tx_maus_pagamento = train.groupby(['Payment_Behaviour'])['target'].mean().sort_values(ascending=False)\n",
    "\n",
    "# Gráfico\n",
    "\n",
    "fig, ax1 = plt.subplots(figsize=(20, 5))\n",
    "\n",
    "# Gráfico de barras para contagem de pessoas\n",
    "sns.countplot(data=train, x='Payment_Behaviour', ax=ax1, palette='Blues', hue='Payment_Behaviour', order=tx_maus_pagamento.index)\n",
    "plt.xticks(rotation=15)\n",
    "\n",
    "# Configurando o segundo eixo y\n",
    "ax2 = ax1.twinx()\n",
    "ax2.plot(tx_maus_pagamento.index, tx_maus_pagamento.values, color='r', marker='o', linestyle='-', linewidth=2)\n",
    "plt.title('Taxa de maus pagadores por comportamento de pagamento')\n",
    "plt.show()"
   ]
  },
  {
   "cell_type": "code",
   "execution_count": 52,
   "id": "99a6168b-8133-421b-8518-ff5c68a53d32",
   "metadata": {},
   "outputs": [
    {
     "data": {
      "text/plain": [
       "Payment_Behaviour\n",
       "Low_spent_Small_value_payments      0.36\n",
       "Low_spent_Medium_value_payments     0.30\n",
       "!@9#%8                              0.29\n",
       "Low_spent_Large_value_payments      0.28\n",
       "High_spent_Small_value_payments     0.27\n",
       "High_spent_Medium_value_payments    0.25\n",
       "High_spent_Large_value_payments     0.22\n",
       "Name: target, dtype: float64"
      ]
     },
     "execution_count": 52,
     "metadata": {},
     "output_type": "execute_result"
    }
   ],
   "source": [
    "np.round(tx_maus_pagamento,2) "
   ]
  },
  {
   "cell_type": "markdown",
   "id": "7fabe9e4-345b-4c7a-a549-edca81a28593",
   "metadata": {},
   "source": [
    "* Houve uma diferença de 14% entre a maior e menor taxa de maus\n",
    "\n",
    "* Observou-se acima que a taxa de maus é maior em pessoas que possuem baixos gastos, destacando-se os baixos gastos em pagamentos de pequeno valor (_Low_spent_Small_value_payments_). Isso faz sentido, pois pode sugerir que as pessoas possuem uma renda menor.\n",
    "\n",
    "* Também foi possível analisar que a taxa de maus é menor em pessoas que possuem altos gastos, destacando-se os clientes de altos gastos em pagamentos de alto valor (_High_spent_Large_value_payments_). Isso faz sentido, pois pode sugerir que as pessoas possuem uma renda maior."
   ]
  },
  {
   "cell_type": "markdown",
   "id": "0c7f6573-2bb9-4761-90b2-a4a7316f433a",
   "metadata": {},
   "source": [
    "## 4.3 Analisando as variáveis numéricas"
   ]
  },
  {
   "cell_type": "markdown",
   "id": "230881f0-66f5-4cfb-b3b6-63e4277a69e2",
   "metadata": {
    "jp-MarkdownHeadingCollapsed": true
   },
   "source": [
    "### 4.3.1 Distribuição geral das variáveis numéricas"
   ]
  },
  {
   "cell_type": "markdown",
   "id": "19655b51-a60f-4898-aaab-97c84eeb72f6",
   "metadata": {},
   "source": [
    "Haviam algumas variaveis numericas como object, por isso, todas elas foram separadas corretamente. Por estarem como object, não convertê-las utilizando diretamente o `select_dtypes`([int,float])."
   ]
  },
  {
   "cell_type": "markdown",
   "id": "766689b8-d953-4653-98e4-fc5ea81bd0d9",
   "metadata": {},
   "source": [
    "###### Conversão em dados numéricos"
   ]
  },
  {
   "cell_type": "markdown",
   "id": "d2e119c5-f93a-4c42-9ddd-aaba31c93e7a",
   "metadata": {},
   "source": [
    "* Os NaNs foram removidos  \n",
    "* Foram encontrados dados com \"_\" e \" \" que foram tratados com regex  \n",
    "* As variáveis numéricas inteiras foram convertidas para o tipo int  \n",
    "* As variáveis numéricas de ponto flutuante foram convertidas para o tipo float"
   ]
  },
  {
   "cell_type": "code",
   "execution_count": 53,
   "id": "6bdddfdd-bbc6-47a2-a807-c31c19a39df2",
   "metadata": {},
   "outputs": [],
   "source": [
    "# Separando todas as variáveis numéricas\n",
    "lista_var_numericas_int = ['Age', 'Num_Bank_Accounts', 'Num_Credit_Card', 'Interest_Rate', 'Num_of_Loan',\n",
    "                           'Delay_from_due_date', 'Num_of_Delayed_Payment', 'Num_Credit_Inquiries']\n",
    "\n",
    "lista_var_numericas_float = ['Annual_Income', 'Monthly_Inhand_Salary', 'Changed_Credit_Limit', 'Outstanding_Debt', \n",
    "                             'Credit_Utilization_Ratio', 'Total_EMI_per_month', 'Amount_invested_monthly', 'Monthly_Balance']\n",
    "\n",
    "# Cópia do DataFrame original\n",
    "df_numericas = train.copy()\n",
    "\n",
    "# Removendo linhas com NaN\n",
    "df_numericas.dropna(subset=lista_var_numericas_int + lista_var_numericas_float, inplace=True)\n",
    "\n",
    "# Transformando variáveis numéricas int\n",
    "df_numericas[lista_var_numericas_int] = df_numericas[lista_var_numericas_int].replace(r'[^0-9]', '', regex=True).astype(int)\n",
    "\n",
    "# Transformando variáveis numéricas float\n",
    "df_numericas[lista_var_numericas_float] = df_numericas[lista_var_numericas_float].replace(r'[^0-9.]', '', regex=True)\n",
    "\n",
    "# Removendo entradas vazias e convertendo para float\n",
    "df_numericas[lista_var_numericas_float] = df_numericas[lista_var_numericas_float].replace('', np.nan).astype(float)\n",
    "\n",
    "# Selecionando apenas as numéricas (opcional, caso queira uma nova seleção)\n",
    "df_numericas = df_numericas.select_dtypes(include=[int, float])"
   ]
  },
  {
   "cell_type": "markdown",
   "id": "4c027625-36a6-47ec-825d-fea21f53602a",
   "metadata": {},
   "source": [
    "###### Análise das distribuições"
   ]
  },
  {
   "cell_type": "code",
   "execution_count": 54,
   "id": "937a30d1-144b-4689-9154-cc182b1bc93e",
   "metadata": {},
   "outputs": [
    {
     "data": {
      "image/png": "[encoded data removed]",
      "text/plain": [
       "<Figure size 2000x2000 with 20 Axes>"
      ]
     },
     "metadata": {},
     "output_type": "display_data"
    }
   ],
   "source": [
    "# Plotando as distribuições\n",
    "\n",
    "df_numericas.hist(figsize=(20,20),bins=25);"
   ]
  },
  {
   "cell_type": "markdown",
   "id": "7d65407c-f480-43cd-b200-1445213ec1ed",
   "metadata": {
    "jp-MarkdownHeadingCollapsed": true
   },
   "source": [
    "### 4.3.2 Analisando o histórico de crédito dos clientes em meses (col `Credit_History_Age`)"
   ]
  },
  {
   "cell_type": "markdown",
   "id": "6d0a1737-9212-40ca-97da-cd6ac4c42898",
   "metadata": {},
   "source": [
    "📝 Tempo total de histórico de crédito do cliente (em meses)"
   ]
  },
  {
   "cell_type": "markdown",
   "id": "0f75d96a-fc7e-46a2-8ee8-788c223d4cf6",
   "metadata": {},
   "source": [
    "A variável era categórica (seção 4.2.8). Foi analisada, abaixo, em faixas, após ter sido transformada em meses."
   ]
  },
  {
   "cell_type": "code",
   "execution_count": 55,
   "id": "ad4a5a19-c657-4022-b990-13027d978d67",
   "metadata": {},
   "outputs": [
    {
     "data": {
      "text/plain": [
       "Credit_History_Age\n",
       "(0.999, 124.0]    0.492707\n",
       "(124.0, 196.0]    0.442194\n",
       "(196.0, 243.0]    0.277597\n",
       "(243.0, 323.0]    0.123161\n",
       "(323.0, 404.0]    0.111080\n",
       "Name: target, dtype: float64"
      ]
     },
     "execution_count": 55,
     "metadata": {},
     "output_type": "execute_result"
    }
   ],
   "source": [
    "# Ordenação em 5 partes iguais, montando uma \"faixa\" de meses\n",
    "\n",
    "credit_hist_age_bins = pd.qcut(Credit_History_Age_Months, q=5)\n",
    "\n",
    "# Concatenando com o target\n",
    "\n",
    "df_credit_hist_age = pd.concat([credit_hist_age_bins,train['target']],axis=1)\n",
    "\n",
    "# Taxa de maus por faixa de histórico de crédito\n",
    "\n",
    "df_credit_hist_age.groupby(['Credit_History_Age'],observed=True)['target'].mean()"
   ]
  },
  {
   "cell_type": "markdown",
   "id": "a436e35d-35f1-47c7-8100-059196d8dafd",
   "metadata": {},
   "source": [
    "Percebe-se que clientes com menor tempo de histórico de crédito (em meses) apresentam uma maior taxa de maus pagadores, o que era esperado. Já os clientes com maior tempo de histórico têm uma taxa de inadimplência menor. Isso faz sentido, pois clientes com mais tempo de crédito tendem a ser mais confiáveis, tornando menos provável o perfil de inadimplência."
   ]
  },
  {
   "cell_type": "markdown",
   "id": "eb4fe8a7-ecef-480c-b072-41b158cb7158",
   "metadata": {
    "jp-MarkdownHeadingCollapsed": true
   },
   "source": [
    "### 4.3.3 Analisando a taxa de maus por idade (col `Age`)"
   ]
  },
  {
   "cell_type": "markdown",
   "id": "17843b9f-095e-42b0-8ab4-0895dab7bf92",
   "metadata": {},
   "source": [
    "📝 Idade do cliente"
   ]
  },
  {
   "cell_type": "code",
   "execution_count": 56,
   "id": "1cfdf1ff-1da9-456b-adce-0efde60a1f45",
   "metadata": {},
   "outputs": [
    {
     "data": {
      "text/plain": [
       "np.int64(0)"
      ]
     },
     "execution_count": 56,
     "metadata": {},
     "output_type": "execute_result"
    }
   ],
   "source": [
    "# Dados ausentes\n",
    "\n",
    "train['Age'].isna().sum()"
   ]
  },
  {
   "cell_type": "markdown",
   "id": "a0faae99-e5da-43a5-bbbe-4f031aeabec3",
   "metadata": {
    "jp-MarkdownHeadingCollapsed": true
   },
   "source": [
    "##### Preparando a variável para ser analisada"
   ]
  },
  {
   "cell_type": "code",
   "execution_count": 57,
   "id": "f77ba7fb-a1c2-46dc-bbd9-361eca691e84",
   "metadata": {},
   "outputs": [],
   "source": [
    "age_hist = train['Age']\n",
    "age_hist = pd.DataFrame(age_hist)\n",
    "\n",
    "# Removendo underscore _\n",
    "age_hist.loc[:, 'Age'] = age_hist['Age'].str.replace('_', '', regex=False)\n",
    "\n",
    "# Transformando em int\n",
    "age_hist.loc[:,'Age'] = age_hist['Age'].astype(int)"
   ]
  },
  {
   "cell_type": "code",
   "execution_count": 58,
   "id": "d5c253a2-29fc-4a58-80b6-cbe47949733d",
   "metadata": {},
   "outputs": [
    {
     "data": {
      "text/plain": [
       "8698"
      ]
     },
     "execution_count": 58,
     "metadata": {},
     "output_type": "execute_result"
    }
   ],
   "source": [
    "# Maior idade\n",
    "\n",
    "age_hist['Age'].max()"
   ]
  },
  {
   "cell_type": "code",
   "execution_count": 59,
   "id": "1060a6c7-e977-4bf4-98e5-a6f7a27045d7",
   "metadata": {},
   "outputs": [
    {
     "data": {
      "text/plain": [
       "-500"
      ]
     },
     "execution_count": 59,
     "metadata": {},
     "output_type": "execute_result"
    }
   ],
   "source": [
    "# Menor idade\n",
    "\n",
    "age_hist['Age'].min()"
   ]
  },
  {
   "cell_type": "markdown",
   "id": "5fbf3768-8be1-4a6e-93d3-83487afededb",
   "metadata": {},
   "source": [
    "Foi percebido que idades menores que zero e maiores que 130 somaram 2.776 linhas. Isso corresponde a 2,77% do total da base (100.000). Esses outliers de idade foram interpretados como erros, por esse motivo, serão substituídos inicialmente como dados nulos para posteriores transformações na próxima etapa do projeto."
   ]
  },
  {
   "cell_type": "code",
   "execution_count": 60,
   "id": "a90eca92-0785-4a94-9bd2-df10600a79ba",
   "metadata": {},
   "outputs": [
    {
     "name": "stdout",
     "output_type": "stream",
     "text": [
      "Total de linhas com outliers: 2776\n"
     ]
    }
   ],
   "source": [
    "print(f'Total de linhas com outliers: {age_hist[(age_hist['Age'] < 0) | (age_hist['Age'] > 100)].shape[0]}')"
   ]
  },
  {
   "cell_type": "code",
   "execution_count": 61,
   "id": "23d36db2-1c65-45b4-9a8c-6a0b2b8b1c97",
   "metadata": {},
   "outputs": [],
   "source": [
    "# Transformando idades < 0 e > 130 anos em NaN\n",
    "\n",
    "age_hist.loc[(age_hist['Age'] < 0) | (age_hist['Age'] > 100), 'Age'] = np.nan"
   ]
  },
  {
   "cell_type": "markdown",
   "id": "b3aa2652-2fbd-4bb9-88c1-f12089473927",
   "metadata": {
    "jp-MarkdownHeadingCollapsed": true
   },
   "source": [
    "##### Análise da variável"
   ]
  },
  {
   "cell_type": "code",
   "execution_count": 62,
   "id": "aaba173a-b52a-484a-bae8-789010c40aec",
   "metadata": {},
   "outputs": [
    {
     "data": {
      "image/png": "[encoded data removed]",
      "text/plain": [
       "<Figure size 640x480 with 1 Axes>"
      ]
     },
     "metadata": {},
     "output_type": "display_data"
    }
   ],
   "source": [
    "# Distribuição de idades\n",
    "\n",
    "sns.histplot(data=age_hist, x='Age',bins=50)\n",
    "plt.grid()"
   ]
  },
  {
   "cell_type": "markdown",
   "id": "cb515cc7-ea5a-4571-8231-c1d2e065a6cc",
   "metadata": {},
   "source": [
    "Percebe-se acima que a distribuição de idade não está muito simétrica e uniforme."
   ]
  },
  {
   "cell_type": "code",
   "execution_count": 63,
   "id": "d33c95cc-15e9-4dd4-9381-aac7c8df91e4",
   "metadata": {},
   "outputs": [],
   "source": [
    "age_hist_series = age_hist['Age']"
   ]
  },
  {
   "cell_type": "code",
   "execution_count": 64,
   "id": "cbb011b5-3c4d-47d2-a1b3-ee118b4ec40d",
   "metadata": {},
   "outputs": [
    {
     "data": {
      "text/plain": [
       "Age\n",
       "(13.999, 23.0]    0.334953\n",
       "(23.0, 30.0]      0.314496\n",
       "(30.0, 36.0]      0.299755\n",
       "(36.0, 43.0]      0.309740\n",
       "(43.0, 100.0]     0.173671\n",
       "Name: target, dtype: float64"
      ]
     },
     "execution_count": 64,
     "metadata": {},
     "output_type": "execute_result"
    }
   ],
   "source": [
    "# Ordenação em 5 partes iguais, montando uma \"faixa\" de idades\n",
    "\n",
    "age_bins = pd.qcut(age_hist_series, q=5)\n",
    "\n",
    "# Concatenando com o target\n",
    "\n",
    "df_age = pd.concat([age_bins,train['target']],axis=1)\n",
    "\n",
    "# Taxa de maus por faixa de histórico de crédito\n",
    "\n",
    "df_age.groupby(['Age'],observed=True)['target'].mean()"
   ]
  },
  {
   "cell_type": "markdown",
   "id": "00e9336d-6b8e-4b23-8941-5157b1169e3c",
   "metadata": {},
   "source": [
    "Analisando a variável de idade acima, percebeu-se que quanto menor a idade, maior a taxa de maus pagadores, enquanto com indivíduos de uma maior faixa de idade essa taxa é menor. Esse comportamento é comum na área de crédito, sugerindo que pessoas mais jovens podem ter um histórico de crédito mais instável em comparação com indivíduos de idade mais avançada. A diferença percentual entre a menor e a maior taxa foi de 16%."
   ]
  },
  {
   "cell_type": "markdown",
   "id": "62bc813a-5951-4422-9334-e2407a048a53",
   "metadata": {
    "jp-MarkdownHeadingCollapsed": true
   },
   "source": [
    "### 4.3.4 Analisando a renda anual (col `Annual_Income`)"
   ]
  },
  {
   "cell_type": "markdown",
   "id": "d21176b2-9204-40f3-80e4-85adf5d1ca52",
   "metadata": {},
   "source": [
    "📝 Renda anual do cliente"
   ]
  },
  {
   "cell_type": "code",
   "execution_count": 65,
   "id": "c28da99e-58b2-48f3-9d6f-37cb6ed86ee9",
   "metadata": {},
   "outputs": [
    {
     "data": {
      "text/plain": [
       "np.int64(0)"
      ]
     },
     "execution_count": 65,
     "metadata": {},
     "output_type": "execute_result"
    }
   ],
   "source": [
    "# Dados ausentes\n",
    "\n",
    "train['Annual_Income'].isna().sum()"
   ]
  },
  {
   "cell_type": "code",
   "execution_count": 66,
   "id": "815fd961-9582-4481-b601-a184f47418b6",
   "metadata": {},
   "outputs": [],
   "source": [
    "annual_income = train[['Annual_Income','target']]\n",
    "\n",
    "# Removendo underscore _\n",
    "annual_income.loc[:,'Annual_Income'] = annual_income.loc[:,'Annual_Income'].str.replace('_', '', regex=False)\n",
    "\n",
    "# Transformando em float\n",
    "annual_income.loc[:,'Annual_Income'] = annual_income['Annual_Income'].astype(float)"
   ]
  },
  {
   "cell_type": "code",
   "execution_count": 67,
   "id": "eaedcac7-ed2a-43bd-949c-b6181e0e614e",
   "metadata": {},
   "outputs": [
    {
     "data": {
      "text/plain": [
       "Annual_Income\n",
       "(7005.929, 14293.345]      0.419274\n",
       "(14293.345, 17642.1]       0.404379\n",
       "(17642.1, 21338.55]        0.409841\n",
       "(21338.55, 31225.44]       0.164233\n",
       "(31225.44, 37578.61]       0.247800\n",
       "(37578.61, 49661.1]        0.325002\n",
       "(49661.1, 64915.92]        0.373637\n",
       "(64915.92, 82334.016]      0.274637\n",
       "(82334.016, 113085.87]     0.125712\n",
       "(113085.87, 24198062.0]    0.155209\n",
       "Name: target, dtype: float64"
      ]
     },
     "execution_count": 67,
     "metadata": {},
     "output_type": "execute_result"
    }
   ],
   "source": [
    "# Ordenação em 10 partes iguais, montando uma \"faixa\" de rendas\n",
    "\n",
    "annual_income_bins = pd.qcut(annual_income['Annual_Income'], q=10)\n",
    "\n",
    "# Concatenando com o target\n",
    "\n",
    "df_annual_income = pd.concat([annual_income_bins,annual_income['target']],axis=1)\n",
    "\n",
    "# Taxa de maus por faixa de histórico de crédito\n",
    "\n",
    "df_annual_income.groupby(['Annual_Income'],observed=True)['target'].mean()"
   ]
  },
  {
   "cell_type": "markdown",
   "id": "96037a24-ff2e-484b-8a41-efb3be06774f",
   "metadata": {},
   "source": [
    "Observou-se, acima, que a taxa de maus pagadores é maior entre clientes com renda anual mais baixa, algo que faz sentido, pois sabe-se que pessoas com renda menor possuem uma maior probabilidade de atrasos ou inadimplência em pagamentos. Por outro lado, foi possível ver que os clientes com renda mais alta obtiveram uma taxa de maus pagadores menor. A diferença percentual foi de 21,41%."
   ]
  },
  {
   "cell_type": "markdown",
   "id": "6ead1f28-b913-4746-a9d8-4a753f61af29",
   "metadata": {
    "jp-MarkdownHeadingCollapsed": true
   },
   "source": [
    "### 4.3.5 Analisando a variável de salário mensal (col `Monthly_Inhand_Salary`)"
   ]
  },
  {
   "cell_type": "markdown",
   "id": "737e4fbd-5f47-4f69-a7a7-08b544e62325",
   "metadata": {},
   "source": [
    "📝 Salário mensal do cliente"
   ]
  },
  {
   "cell_type": "code",
   "execution_count": 68,
   "id": "8fca64aa-3398-482c-8217-a31118c3aa84",
   "metadata": {},
   "outputs": [
    {
     "data": {
      "text/plain": [
       "np.int64(15002)"
      ]
     },
     "execution_count": 68,
     "metadata": {},
     "output_type": "execute_result"
    }
   ],
   "source": [
    "# Dados ausentes\n",
    "\n",
    "train['Monthly_Inhand_Salary'].isna().sum()"
   ]
  },
  {
   "cell_type": "code",
   "execution_count": 69,
   "id": "a6fa0cf3-c3a3-471d-9603-9b6dcbcfdf42",
   "metadata": {},
   "outputs": [
    {
     "data": {
      "text/plain": [
       "Monthly_Inhand_Salary\n",
       "(303.644, 1468.065]     0.413854\n",
       "(1468.065, 2559.818]    0.286261\n",
       "(2559.818, 4039.538]    0.281640\n",
       "(4039.538, 6710.36]     0.327508\n",
       "(6710.36, 15204.633]    0.140193\n",
       "Name: target, dtype: float64"
      ]
     },
     "execution_count": 69,
     "metadata": {},
     "output_type": "execute_result"
    }
   ],
   "source": [
    "# Ordenação em 5 partes iguais, montando uma \"faixa\" de salários\n",
    "\n",
    "monthly_inhand_salary = pd.qcut(train['Monthly_Inhand_Salary'], q=5)\n",
    "\n",
    "# Concatenando com o target\n",
    "\n",
    "df_monthly_inhand_salary = pd.concat([monthly_inhand_salary,train['target']],axis=1)\n",
    "\n",
    "# Taxa de maus por faixa de salário mensal\n",
    "\n",
    "df_monthly_inhand_salary.groupby(['Monthly_Inhand_Salary'],observed=True)['target'].mean()"
   ]
  },
  {
   "cell_type": "markdown",
   "id": "1a94d34d-d9d4-4f58-90ab-4809de04106f",
   "metadata": {},
   "source": [
    "Como o esperado, pessoas com a faixa salarial menor estão categorizados com a maior taxa de maus pagadores. Enquanto os de maior renda posuem a menor taxa, com uma diferença percentual de 27%."
   ]
  },
  {
   "cell_type": "markdown",
   "id": "4f3a29a5-8bfd-4862-8e82-9dc6e3d3bdc5",
   "metadata": {
    "jp-MarkdownHeadingCollapsed": true
   },
   "source": [
    "### 4.3.6 Analisando a variável de total de contas bancárias (col `Num_Bank_Accounts`)"
   ]
  },
  {
   "cell_type": "markdown",
   "id": "ecaefc42-4961-4e50-9a2b-27b80bb8c31e",
   "metadata": {},
   "source": [
    "📝 Número de contas bancárias que o cliente possui"
   ]
  },
  {
   "cell_type": "code",
   "execution_count": 70,
   "id": "04bfe048-919c-408c-b17b-8625d3a0bb04",
   "metadata": {},
   "outputs": [
    {
     "data": {
      "text/plain": [
       "np.int64(0)"
      ]
     },
     "execution_count": 70,
     "metadata": {},
     "output_type": "execute_result"
    }
   ],
   "source": [
    "# Dados ausentes\n",
    "\n",
    "train['Num_Bank_Accounts'].isna().sum()"
   ]
  },
  {
   "cell_type": "markdown",
   "id": "d2533a36-2663-459a-81d9-7ff77866101a",
   "metadata": {},
   "source": [
    "##### Preparando a variável para ser analisada"
   ]
  },
  {
   "cell_type": "code",
   "execution_count": 71,
   "id": "5a48b382-4ceb-48f5-a619-50dbd386549d",
   "metadata": {},
   "outputs": [
    {
     "data": {
      "text/plain": [
       "count    100000.000000\n",
       "mean         17.091280\n",
       "std         117.404834\n",
       "min          -1.000000\n",
       "25%           3.000000\n",
       "50%           6.000000\n",
       "75%           7.000000\n",
       "max        1798.000000\n",
       "Name: Num_Bank_Accounts, dtype: float64"
      ]
     },
     "execution_count": 71,
     "metadata": {},
     "output_type": "execute_result"
    }
   ],
   "source": [
    "train['Num_Bank_Accounts'].describe()"
   ]
  },
  {
   "cell_type": "code",
   "execution_count": 72,
   "id": "bc9a7d7c-01a9-4042-b47a-ef48a8321e5d",
   "metadata": {},
   "outputs": [
    {
     "data": {
      "text/plain": [
       "np.float64(445.00999999999476)"
      ]
     },
     "execution_count": 72,
     "metadata": {},
     "output_type": "execute_result"
    }
   ],
   "source": [
    "# Verificando os 1% mais discrepantes (ponto de corte para o outlier)\n",
    "\n",
    "np.percentile(train['Num_Bank_Accounts'],q=99)"
   ]
  },
  {
   "cell_type": "markdown",
   "id": "498f7080-6086-4e97-a52f-621fa26ed5dc",
   "metadata": {},
   "source": [
    "Foi percebido que a variável possui outliers. O valor mínimo de contas bancárias está registrado como -1, enquanto o máximo corresponde a 1798. Esses valores parecem inválidos."
   ]
  },
  {
   "cell_type": "code",
   "execution_count": 73,
   "id": "581bf337-e970-45cd-90ea-40edebe4dfb0",
   "metadata": {},
   "outputs": [],
   "source": [
    "num_bank_accounts = train['Num_Bank_Accounts']\n",
    "num_bank_accounts = pd.DataFrame(num_bank_accounts)"
   ]
  },
  {
   "cell_type": "code",
   "execution_count": 74,
   "id": "9c1f0004-59b5-43cb-9390-496827c74bd7",
   "metadata": {},
   "outputs": [
    {
     "name": "stdout",
     "output_type": "stream",
     "text": [
      "Total de linhas com outliers: 1021\n"
     ]
    }
   ],
   "source": [
    "print(f'Total de linhas com outliers: {num_bank_accounts[(num_bank_accounts['Num_Bank_Accounts'] < 0) | (num_bank_accounts['Num_Bank_Accounts'] > 445)].shape[0]}')"
   ]
  },
  {
   "cell_type": "markdown",
   "id": "4c1f0527-7012-4441-9672-711aaabbaa24",
   "metadata": {},
   "source": [
    "Foi percebido que o total de contas bancárias menores que zero e maiores que 445 somaram 1.021 linhas. Isso corresponde a 1,02% do total da base (100.000). Esses outliers foram interpretados como erros, por esse motivo, serão substituídos inicialmente como dados nulos para posteriores transformações na próxima etapa do projeto."
   ]
  },
  {
   "cell_type": "code",
   "execution_count": 75,
   "id": "8b18dfd7-f890-440f-9818-c19a07e95697",
   "metadata": {},
   "outputs": [],
   "source": [
    "# Transformando número de contas bancárias < 0 e > 445 em NaN\n",
    "\n",
    "num_bank_accounts.loc[(num_bank_accounts['Num_Bank_Accounts'] < 0) | (num_bank_accounts['Num_Bank_Accounts'] > 445),\n",
    "'Num_Bank_Accounts'] = np.nan"
   ]
  },
  {
   "cell_type": "markdown",
   "id": "2d0a804a-47ff-4308-b6c6-cb5d7d2f016d",
   "metadata": {},
   "source": [
    "##### Análise da variável"
   ]
  },
  {
   "cell_type": "code",
   "execution_count": 76,
   "id": "b7e652dc-184d-4d04-9729-1ec47a9c44f2",
   "metadata": {},
   "outputs": [
    {
     "data": {
      "image/png": "[encoded data removed]",
      "text/plain": [
       "<Figure size 500x300 with 1 Axes>"
      ]
     },
     "metadata": {},
     "output_type": "display_data"
    }
   ],
   "source": [
    "num_bank_accounts_box_plot = num_bank_accounts\n",
    "num_bank_accounts_box_plot = pd.concat([num_bank_accounts_box_plot,train['target']],axis=1)\n",
    "num_bank_accounts_box_plot_filter = num_bank_accounts_box_plot.loc[num_bank_accounts_box_plot['Num_Bank_Accounts'] < 10]\n",
    "\n",
    "plt.figure(figsize=(5,3))\n",
    "sns.boxplot(x='target',y='Num_Bank_Accounts', data=num_bank_accounts_box_plot_filter,hue='target', palette='Blues')\n",
    "plt.show()"
   ]
  },
  {
   "cell_type": "markdown",
   "id": "40a6b719-9569-4749-8cd3-a8a83e73f311",
   "metadata": {},
   "source": [
    "O grupo com mais contas bancárias (target = 1) apresenta uma concentração em maior quantidade de contas bancárias, enquanto o grupo com menos contas (target = 0) tem uma distribuição mais ampla e mediana menor. Isso sugere que um número maior de contas bancárias está associado a uma maior taxa maus pagadores."
   ]
  },
  {
   "cell_type": "code",
   "execution_count": 77,
   "id": "2732590a-a66d-4003-b46e-31c4b68e9047",
   "metadata": {},
   "outputs": [
    {
     "data": {
      "text/plain": [
       "Num_Bank_Accounts\n",
       "(-0.001, 3.0]    0.158145\n",
       "(3.0, 5.0]       0.160097\n",
       "(5.0, 6.0]       0.358819\n",
       "(6.0, 8.0]       0.368454\n",
       "(8.0, 445.0]     0.611676\n",
       "Name: target, dtype: float64"
      ]
     },
     "execution_count": 77,
     "metadata": {},
     "output_type": "execute_result"
    }
   ],
   "source": [
    "# Ordenação em 5 partes iguais, montando uma \"faixa\" de quantidades de contas bancárias\n",
    "\n",
    "num_bank_accounts = pd.qcut(num_bank_accounts['Num_Bank_Accounts'], q=5)\n",
    "\n",
    "# Concatenando com o target\n",
    "\n",
    "df_num_bank_accounts = pd.concat([num_bank_accounts,train['target']],axis=1)\n",
    "\n",
    "# Taxa de maus por faixa de quantidades de contas bancárias\n",
    "\n",
    "df_num_bank_accounts.groupby(['Num_Bank_Accounts'],observed=True)['target'].mean()"
   ]
  },
  {
   "cell_type": "markdown",
   "id": "0d0af1a1-faa9-4c10-831e-00881ff2e877",
   "metadata": {},
   "source": [
    "Percebeu-se, acima, que a taxa de maus pagadores é maior em indivíduos com maior quantidade de contas bancárias, enquanto a taxa de maus é menor em indivíduos com menor quantidade de contas bancárias. Isso faz algum sentido, pois indivíduos sem um credit score bom podem tentar obter crédito em vários tipos de contas diferentes. A diferença percentual é de 46%."
   ]
  },
  {
   "cell_type": "markdown",
   "id": "d122ab19-fd99-4a39-aabe-a0c59ada073d",
   "metadata": {
    "jp-MarkdownHeadingCollapsed": true
   },
   "source": [
    "### 4.3.7 Analisando a variável de total de cartões de crédito (col `Num_Credit_Card`)"
   ]
  },
  {
   "cell_type": "markdown",
   "id": "3868a610-bbb3-48d4-ae9d-b4e33b70d751",
   "metadata": {},
   "source": [
    "📝 Número de cartões de crédito que o cliente possui"
   ]
  },
  {
   "cell_type": "code",
   "execution_count": 78,
   "id": "b7f68c0e-e16d-4d53-bc99-c3d02218dc03",
   "metadata": {},
   "outputs": [
    {
     "data": {
      "text/plain": [
       "np.int64(0)"
      ]
     },
     "execution_count": 78,
     "metadata": {},
     "output_type": "execute_result"
    }
   ],
   "source": [
    "# Dados ausentes\n",
    "\n",
    "train['Num_Credit_Card'].isna().sum()"
   ]
  },
  {
   "cell_type": "code",
   "execution_count": 79,
   "id": "80c8ad33-7228-404d-bf83-0b98c3782e87",
   "metadata": {},
   "outputs": [
    {
     "data": {
      "text/plain": [
       "count    100000.00000\n",
       "mean         22.47443\n",
       "std         129.05741\n",
       "min           0.00000\n",
       "25%           4.00000\n",
       "50%           5.00000\n",
       "75%           7.00000\n",
       "max        1499.00000\n",
       "Name: Num_Credit_Card, dtype: float64"
      ]
     },
     "execution_count": 79,
     "metadata": {},
     "output_type": "execute_result"
    }
   ],
   "source": [
    "train['Num_Credit_Card'].describe()"
   ]
  },
  {
   "cell_type": "markdown",
   "id": "ddc871c7-0873-4542-81e7-15c2533ba0b6",
   "metadata": {},
   "source": [
    "Percebe-se, acima, que a quantidade máxima de cartões também segue um padrão de valores discrepantes, dessa vez apenas com valores muito acima do padrão dos dados observados acima. A quantidade máxima de cartões totalizou em 1499, valor 21371,43% acima do terceiro quartil (75%) dos dados."
   ]
  },
  {
   "cell_type": "code",
   "execution_count": 80,
   "id": "54b9ec21-f476-4a89-857a-f1cea19f4cce",
   "metadata": {},
   "outputs": [
    {
     "data": {
      "text/plain": [
       "np.float64(849.0)"
      ]
     },
     "execution_count": 80,
     "metadata": {},
     "output_type": "execute_result"
    }
   ],
   "source": [
    "# Verificando os 10% mais discrepantes (ponto de corte para o outlier)\n",
    "\n",
    "np.percentile(train['Num_Credit_Card'],q=99)"
   ]
  },
  {
   "cell_type": "code",
   "execution_count": 81,
   "id": "8c39c3c1-884f-481b-ab02-c26ff3d63966",
   "metadata": {},
   "outputs": [],
   "source": [
    "num_credit_card = train['Num_Credit_Card']\n",
    "num_credit_card = pd.DataFrame(num_credit_card)"
   ]
  },
  {
   "cell_type": "code",
   "execution_count": 82,
   "id": "5435ccda-59e7-4f87-8ce7-c3141b5aab50",
   "metadata": {},
   "outputs": [
    {
     "name": "stdout",
     "output_type": "stream",
     "text": [
      "Total de linhas com outliers: 994\n"
     ]
    }
   ],
   "source": [
    "print(f'Total de linhas com outliers: {num_credit_card[(num_credit_card['Num_Credit_Card'] > 849)].shape[0]}')"
   ]
  },
  {
   "cell_type": "markdown",
   "id": "be35591d-717d-43b5-8106-1bc72943433f",
   "metadata": {},
   "source": [
    "Foi percebido que o total de cartões de crédito maiores que 849 somaram 994 linhas. Isso corresponde a 0,99% do total da base (100.000). Esses outliers foram interpretados como erros, por esse motivo, serão substituídos inicialmente como dados nulos para posteriores transformações na próxima etapa do projeto, assim como nas variáveis `Age`e `Num_Bank_Accounts`."
   ]
  },
  {
   "cell_type": "code",
   "execution_count": 83,
   "id": "0641f694-1cd7-4f50-ac75-ca05bd0cb3bf",
   "metadata": {},
   "outputs": [],
   "source": [
    "# Transformando número de contas bancárias < 0 e > 445 em NaN\n",
    "\n",
    "num_credit_card.loc[num_credit_card['Num_Credit_Card'] > 849,'Num_Credit_Card'] = np.nan"
   ]
  },
  {
   "cell_type": "markdown",
   "id": "c58bbcf9-3f97-43d3-87d3-1dc0e82d4fb6",
   "metadata": {},
   "source": [
    "##### Análise da variável"
   ]
  },
  {
   "cell_type": "code",
   "execution_count": 84,
   "id": "7e5d590e-fa0b-48eb-bd75-a2610245af17",
   "metadata": {},
   "outputs": [
    {
     "data": {
      "text/plain": [
       "Num_Credit_Card\n",
       "(-0.001, 4.0]    0.121705\n",
       "(4.0, 5.0]       0.282626\n",
       "(5.0, 6.0]       0.302736\n",
       "(6.0, 7.0]       0.311586\n",
       "(7.0, 849.0]     0.598529\n",
       "Name: target, dtype: float64"
      ]
     },
     "execution_count": 84,
     "metadata": {},
     "output_type": "execute_result"
    }
   ],
   "source": [
    "# Ordenação em 5 partes iguais, montando uma \"faixa\" de salários\n",
    "\n",
    "num_credit_card = pd.qcut(num_credit_card['Num_Credit_Card'], q=5)\n",
    "\n",
    "# Concatenando com o target\n",
    "\n",
    "df_num_credit_card = pd.concat([num_credit_card, train['target']], axis=1)\n",
    "\n",
    "# Taxa de maus por número de cartão de crédito\n",
    "\n",
    "df_num_credit_card.groupby('Num_Credit_Card',observed=True)['target'].mean()"
   ]
  },
  {
   "cell_type": "markdown",
   "id": "92d4acb3-c719-44c6-8a92-d44731927688",
   "metadata": {},
   "source": [
    "Seguindo a mesma lógica da análise anterior, quanto maior a quantidade de cartões de crédito, percebe-se uma maior taxa de maus pagadores e quanto menor a quantidade, menor a taxa de maus pagadores. A diferença percentual é de 47%."
   ]
  },
  {
   "cell_type": "markdown",
   "id": "ca3bef41-e11f-4816-b583-4f9dad6bf7a6",
   "metadata": {
    "jp-MarkdownHeadingCollapsed": true
   },
   "source": [
    "### 4.3.8 Analisando a variável de taxa de juros (col `Interest_Rate`)"
   ]
  },
  {
   "cell_type": "markdown",
   "id": "8d13de52-6a42-4683-963e-75cad332bb0b",
   "metadata": {},
   "source": [
    "📝 Taxa de juros aplcada aos empréstimos ou dívidas"
   ]
  },
  {
   "cell_type": "code",
   "execution_count": 85,
   "id": "38ecdec3-f69b-4035-98d5-76cac3db5de8",
   "metadata": {},
   "outputs": [
    {
     "data": {
      "text/plain": [
       "np.int64(0)"
      ]
     },
     "execution_count": 85,
     "metadata": {},
     "output_type": "execute_result"
    }
   ],
   "source": [
    "# Dados ausentes\n",
    "\n",
    "train['Interest_Rate'].isna().sum()"
   ]
  },
  {
   "cell_type": "code",
   "execution_count": 86,
   "id": "01be3884-0120-41f6-90eb-8f2f0e36cbe0",
   "metadata": {},
   "outputs": [
    {
     "data": {
      "text/plain": [
       "Interest_Rate\n",
       "(0.999, 6.0]      0.135828\n",
       "(6.0, 11.0]       0.131923\n",
       "(11.0, 16.0]      0.186726\n",
       "(16.0, 23.0]      0.404560\n",
       "(23.0, 5797.0]    0.604826\n",
       "Name: target, dtype: float64"
      ]
     },
     "execution_count": 86,
     "metadata": {},
     "output_type": "execute_result"
    }
   ],
   "source": [
    "# Ordenação em 10 partes iguais, montando uma \"faixa\" de juros\n",
    "\n",
    "interest_rate = pd.qcut(train['Interest_Rate'], q=5)\n",
    "\n",
    "# Concatenando com o target\n",
    "\n",
    "df_interest_rate = pd.concat([interest_rate, train['target']], axis=1)\n",
    "\n",
    "# Taxa de maus por taxa de juros aplicada aos empréstimos/dívidas\n",
    "\n",
    "df_interest_rate.groupby('Interest_Rate',observed=True)['target'].mean()"
   ]
  },
  {
   "cell_type": "markdown",
   "id": "5da109a0-1d1a-4467-b653-bbb9cafeb8e8",
   "metadata": {},
   "source": [
    "Percebeu-se que o grupo com maior taxa de juros possui uma maior taxa de maus pagadores e vice-versa. A diferença percentual da menor para a maior taxa de maus pagadores foi de 47%."
   ]
  },
  {
   "cell_type": "markdown",
   "id": "935356e1-c638-4079-a16c-1eec1857b2e3",
   "metadata": {
    "jp-MarkdownHeadingCollapsed": true
   },
   "source": [
    "### 4.3.9 Analisando os empréstimos (col `Num_of_Loan`)"
   ]
  },
  {
   "cell_type": "markdown",
   "id": "ab56a110-9576-4110-bbbf-167ffd1324bd",
   "metadata": {},
   "source": [
    "📝 Número de empréstimos que o cliente possui"
   ]
  },
  {
   "cell_type": "code",
   "execution_count": 87,
   "id": "7480429c-4633-4603-a94c-d9885657a11b",
   "metadata": {},
   "outputs": [
    {
     "data": {
      "text/plain": [
       "np.int64(0)"
      ]
     },
     "execution_count": 87,
     "metadata": {},
     "output_type": "execute_result"
    }
   ],
   "source": [
    "# Dados ausentes\n",
    "\n",
    "train['Num_of_Loan'].isna().sum()"
   ]
  },
  {
   "cell_type": "code",
   "execution_count": 88,
   "id": "4fe5b9a3-e1a1-4ffb-bb31-5838aecda95b",
   "metadata": {},
   "outputs": [],
   "source": [
    "num_of_loan = train['Num_of_Loan']\n",
    "num_of_loan = pd.DataFrame(num_of_loan)\n",
    "\n",
    "# Removendo underscore _\n",
    "num_of_loan.loc[:, 'Num_of_Loan'] = num_of_loan['Num_of_Loan'].str.replace('_', '', regex=False)\n",
    "\n",
    "# Transformando em int\n",
    "num_of_loan.loc[:,'Num_of_Loan'] = num_of_loan['Num_of_Loan'].astype(int)"
   ]
  },
  {
   "cell_type": "code",
   "execution_count": 89,
   "id": "96e51e68-d738-47c7-a7d2-50a9985ec244",
   "metadata": {},
   "outputs": [
    {
     "data": {
      "text/plain": [
       "1496"
      ]
     },
     "execution_count": 89,
     "metadata": {},
     "output_type": "execute_result"
    }
   ],
   "source": [
    "num_of_loan['Num_of_Loan'].max()"
   ]
  },
  {
   "cell_type": "code",
   "execution_count": 90,
   "id": "037a7904-e305-4b7b-acd5-693d22e4330a",
   "metadata": {},
   "outputs": [
    {
     "data": {
      "text/plain": [
       "-100"
      ]
     },
     "execution_count": 90,
     "metadata": {},
     "output_type": "execute_result"
    }
   ],
   "source": [
    "num_of_loan['Num_of_Loan'].min()"
   ]
  },
  {
   "cell_type": "code",
   "execution_count": 91,
   "id": "fb74ae92-ad79-4a23-b7fc-13c5e8424cae",
   "metadata": {},
   "outputs": [
    {
     "data": {
      "text/plain": [
       "count     100000\n",
       "unique       414\n",
       "top            3\n",
       "freq       15104\n",
       "Name: Num_of_Loan, dtype: int64"
      ]
     },
     "execution_count": 91,
     "metadata": {},
     "output_type": "execute_result"
    }
   ],
   "source": [
    "num_of_loan['Num_of_Loan'].describe()"
   ]
  },
  {
   "cell_type": "code",
   "execution_count": 92,
   "id": "595043fe-0cab-4f29-9fc2-5ee0b70ddbc6",
   "metadata": {},
   "outputs": [
    {
     "data": {
      "text/plain": [
       "np.float64(9.0)"
      ]
     },
     "execution_count": 92,
     "metadata": {},
     "output_type": "execute_result"
    }
   ],
   "source": [
    "# Escolhendo o valor com base nos 1% mais discrepantes\n",
    "\n",
    "np.percentile(num_of_loan['Num_of_Loan'],q=99)"
   ]
  },
  {
   "cell_type": "code",
   "execution_count": 93,
   "id": "bcdbca56-5d5c-4d01-bc2e-4dd8abb3a74e",
   "metadata": {},
   "outputs": [],
   "source": [
    "num_of_loan.loc[(num_of_loan['Num_of_Loan'] < 0) | (num_of_loan['Num_of_Loan'] > 9), 'Num_of_Loan'] = np.nan"
   ]
  },
  {
   "cell_type": "markdown",
   "id": "f513bf80-75b9-4c7f-8366-c78ab4d5ad48",
   "metadata": {},
   "source": [
    "##### Análise da variável"
   ]
  },
  {
   "cell_type": "code",
   "execution_count": 94,
   "id": "4ff1cb43-ab6f-45dd-9821-18954e0a8e7d",
   "metadata": {},
   "outputs": [
    {
     "data": {
      "text/plain": [
       "Num_of_Loan\n",
       "(-0.001, 1.0]    0.143077\n",
       "(1.0, 3.0]       0.238027\n",
       "(3.0, 4.0]       0.235405\n",
       "(4.0, 6.0]       0.512774\n",
       "(6.0, 9.0]       0.532934\n",
       "Name: target, dtype: float64"
      ]
     },
     "execution_count": 94,
     "metadata": {},
     "output_type": "execute_result"
    }
   ],
   "source": [
    "# Ordenação em 5 partes iguais, montando uma \"faixa\" de empréstimos\n",
    "\n",
    "num_of_loan = pd.qcut(num_of_loan['Num_of_Loan'], q=5)\n",
    "\n",
    "# Concatenando com o target\n",
    "\n",
    "df_num_credit_card = pd.concat([num_of_loan, train['target']], axis=1)\n",
    "\n",
    "# Taxa de maus por número de cartão de crédito\n",
    "\n",
    "df_num_credit_card.groupby('Num_of_Loan',observed=True)['target'].mean()"
   ]
  },
  {
   "cell_type": "markdown",
   "id": "fd49428f-e07b-49a5-9ec9-d30804f46dfc",
   "metadata": {},
   "source": [
    "Percebeu-se que a taxa de inadimplentes é maior em clientes que pedem mais empréstimos, enquanto é menor em clientes que pedem menos. A diferença percentual dos grupos foi de 39%."
   ]
  },
  {
   "cell_type": "markdown",
   "id": "60bdddf5-e9a3-4a25-b5f7-9022dd458cee",
   "metadata": {
    "jp-MarkdownHeadingCollapsed": true
   },
   "source": [
    "### 4.3.10 Analisando os atrasos de pagamento em dias (col `Delay_from_due_date`)"
   ]
  },
  {
   "cell_type": "markdown",
   "id": "98b9bd03-7fee-4257-8aeb-1ee0077d5ac9",
   "metadata": {},
   "source": [
    "📝 Atraso em dias no pagamento após a data de vencimento"
   ]
  },
  {
   "cell_type": "markdown",
   "id": "504684b9-7d86-4718-b205-f55013e9333d",
   "metadata": {},
   "source": [
    "⚠️ É possível que a variável seja um vazamento para o modelo, pois pode ter sido referência para construir o target. Por esse motivo, optou-se por não considerá-la no modelo."
   ]
  },
  {
   "cell_type": "code",
   "execution_count": 95,
   "id": "4be7ddd2-6cc0-4e5b-aa30-f79f6dee4b10",
   "metadata": {},
   "outputs": [
    {
     "data": {
      "text/plain": [
       "np.int64(0)"
      ]
     },
     "execution_count": 95,
     "metadata": {},
     "output_type": "execute_result"
    }
   ],
   "source": [
    "# Dados ausentes\n",
    "\n",
    "train['Delay_from_due_date'].isna().sum()"
   ]
  },
  {
   "cell_type": "code",
   "execution_count": 96,
   "id": "58565c4d-a610-4d83-9450-0999821830f0",
   "metadata": {},
   "outputs": [
    {
     "data": {
      "text/plain": [
       "count    100000.000000\n",
       "mean         21.068780\n",
       "std          14.860104\n",
       "min          -5.000000\n",
       "25%          10.000000\n",
       "50%          18.000000\n",
       "75%          28.000000\n",
       "max          67.000000\n",
       "Name: Delay_from_due_date, dtype: float64"
      ]
     },
     "execution_count": 96,
     "metadata": {},
     "output_type": "execute_result"
    }
   ],
   "source": [
    "train['Delay_from_due_date'].describe()"
   ]
  },
  {
   "cell_type": "code",
   "execution_count": 97,
   "id": "dfba6349-7b66-42fc-9356-1503b9a07457",
   "metadata": {},
   "outputs": [
    {
     "data": {
      "text/plain": [
       "Delay_from_due_date\n",
       "(-5.001, 8.0]    0.116753\n",
       "(8.0, 14.0]      0.146061\n",
       "(14.0, 22.0]     0.287992\n",
       "(22.0, 30.0]     0.302499\n",
       "(30.0, 67.0]     0.613565\n",
       "Name: target, dtype: float64"
      ]
     },
     "execution_count": 97,
     "metadata": {},
     "output_type": "execute_result"
    }
   ],
   "source": [
    "# Ordenação em 5 partes iguais, montando uma \"faixa\" de dias de ataso\n",
    "\n",
    "delay_from_due_date = pd.qcut(train['Delay_from_due_date'], q=5)\n",
    "\n",
    "# Concatenando com o target\n",
    "\n",
    "df_delay_from_due_date = pd.concat([delay_from_due_date, train['target']], axis=1)\n",
    "\n",
    "# Taxa de maus por número de cartão de crédito\n",
    "\n",
    "df_delay_from_due_date.groupby('Delay_from_due_date',observed=True)['target'].mean()"
   ]
  },
  {
   "cell_type": "markdown",
   "id": "2a458732-c10a-488a-bda8-2895380df6e0",
   "metadata": {},
   "source": [
    "Como o esperado, é possível ver que quanto maior o tempo de atraso, maior a taxa de maus pagadores. A diferença percentual foi de 50%."
   ]
  },
  {
   "cell_type": "markdown",
   "id": "8747f289-e952-426e-8e11-fb51be06a8be",
   "metadata": {
    "jp-MarkdownHeadingCollapsed": true
   },
   "source": [
    "### 4.3.11 Analisando o total de atrasos de pagamento (col `Num_of_Delayed_Payment`)"
   ]
  },
  {
   "cell_type": "markdown",
   "id": "4dcb7d41-959d-4021-b730-c15f7e8ad984",
   "metadata": {},
   "source": [
    "📝 Número de pagamentos atrasados"
   ]
  },
  {
   "cell_type": "markdown",
   "id": "af2dd340-e8e3-4883-9bf5-9da151dedeb4",
   "metadata": {},
   "source": [
    "⚠️ É possível que a variável seja um vazamento para o modelo, pois pode ter sido referência para construir o target. Por esse motivo, optou-se por não considerá-la no modelo."
   ]
  },
  {
   "cell_type": "code",
   "execution_count": 98,
   "id": "8269c1f8-e739-4b0a-a1a1-2bc93b0ee8dd",
   "metadata": {},
   "outputs": [
    {
     "data": {
      "text/plain": [
       "np.int64(7002)"
      ]
     },
     "execution_count": 98,
     "metadata": {},
     "output_type": "execute_result"
    }
   ],
   "source": [
    "# Dados ausentes\n",
    "\n",
    "train['Num_of_Delayed_Payment'].isna().sum()"
   ]
  },
  {
   "cell_type": "code",
   "execution_count": 99,
   "id": "22230f68-f8ca-471d-a5bd-4a1dad0b3499",
   "metadata": {},
   "outputs": [
    {
     "data": {
      "text/plain": [
       "count     92998\n",
       "unique      749\n",
       "top          19\n",
       "freq       5327\n",
       "Name: Num_of_Delayed_Payment, dtype: object"
      ]
     },
     "execution_count": 99,
     "metadata": {},
     "output_type": "execute_result"
    }
   ],
   "source": [
    "train['Num_of_Delayed_Payment'].describe()"
   ]
  },
  {
   "cell_type": "code",
   "execution_count": 100,
   "id": "5818ea49-3a50-4281-8fec-22c702afa725",
   "metadata": {},
   "outputs": [],
   "source": [
    "num_of_delayed_payment = train['Num_of_Delayed_Payment']\n",
    "num_of_delayed_payment = pd.DataFrame(num_of_delayed_payment)\n",
    "\n",
    "# Removendo underscore _\n",
    "num_of_delayed_payment.loc[:, 'Num_of_Delayed_Payment'] = num_of_delayed_payment['Num_of_Delayed_Payment'].str.replace('_', '', regex=False)\n",
    "\n",
    "# Remoção dos NaN\n",
    "num_of_delayed_payment = num_of_delayed_payment.dropna()\n",
    "\n",
    "# Transformando em int\n",
    "num_of_delayed_payment['Num_of_Delayed_Payment'] = num_of_delayed_payment['Num_of_Delayed_Payment'].astype(int)"
   ]
  },
  {
   "cell_type": "code",
   "execution_count": 101,
   "id": "8b0ee5b5-7934-48e2-8909-aad8c355c025",
   "metadata": {},
   "outputs": [
    {
     "data": {
      "text/plain": [
       "Num_of_Delayed_Payment\n",
       "(-3.001, 8.0]     0.167140\n",
       "(8.0, 12.0]       0.201498\n",
       "(12.0, 16.0]      0.279796\n",
       "(16.0, 19.0]      0.357316\n",
       "(19.0, 4397.0]    0.498811\n",
       "Name: target, dtype: float64"
      ]
     },
     "execution_count": 101,
     "metadata": {},
     "output_type": "execute_result"
    }
   ],
   "source": [
    "# Ordenação em 5 partes iguais, montando uma \"faixa\" de total de atrasos\n",
    "\n",
    "num_of_delayed_payment = pd.qcut(num_of_delayed_payment['Num_of_Delayed_Payment'], q=5)\n",
    "\n",
    "# Concatenando com o target\n",
    "\n",
    "df_num_of_delayed_payment = pd.concat([num_of_delayed_payment, train['target']], axis=1)\n",
    "\n",
    "# Taxa de maus por número de cartão de crédito\n",
    "\n",
    "df_num_of_delayed_payment.groupby('Num_of_Delayed_Payment',observed=True)['target'].mean()"
   ]
  },
  {
   "cell_type": "markdown",
   "id": "d1c8914a-8c4a-4883-b7d3-c1969bc72aed",
   "metadata": {},
   "source": [
    "Como o esperado, é possível ver que quanto maior o tempo de atraso, maior a taxa de maus pagadores. A diferença percentual foi de 33%."
   ]
  },
  {
   "cell_type": "markdown",
   "id": "1f810cc2-d1c1-42ec-8a64-3cde2dbd7be0",
   "metadata": {
    "jp-MarkdownHeadingCollapsed": true
   },
   "source": [
    "### 4.3.12 Analisando as alterações do limite (col `Changed_Credit_Limit`)"
   ]
  },
  {
   "cell_type": "markdown",
   "id": "768aa860-a301-4550-9209-99b935acf60a",
   "metadata": {},
   "source": [
    "📝 Alteração no limite de crédito"
   ]
  },
  {
   "cell_type": "code",
   "execution_count": 102,
   "id": "4b8efe26-ca3c-46d9-9ecb-c1799c45b6f3",
   "metadata": {},
   "outputs": [
    {
     "data": {
      "text/plain": [
       "np.int64(0)"
      ]
     },
     "execution_count": 102,
     "metadata": {},
     "output_type": "execute_result"
    }
   ],
   "source": [
    "# Dados ausentes\n",
    "\n",
    "train['Changed_Credit_Limit'].isna().sum()"
   ]
  },
  {
   "cell_type": "code",
   "execution_count": 103,
   "id": "cfb8c525-eeae-449a-a1c8-a3a1a9b00d77",
   "metadata": {},
   "outputs": [],
   "source": [
    "changed_credit_limit = train['Changed_Credit_Limit']\n",
    "changed_credit_limit = pd.DataFrame(changed_credit_limit)\n",
    "\n",
    "# Removendo underscore _\n",
    "changed_credit_limit.loc[:, 'Changed_Credit_Limit'] = changed_credit_limit['Changed_Credit_Limit'].str.replace('_', '', regex=False)\n",
    "\n",
    "# Transformando espaços vazios em nans\n",
    "changed_credit_limit['Changed_Credit_Limit'] = changed_credit_limit['Changed_Credit_Limit'].replace('', np.nan)\n",
    "\n",
    "# Convertendo pra float\n",
    "changed_credit_limit['Changed_Credit_Limit'] = changed_credit_limit['Changed_Credit_Limit'].astype(float) "
   ]
  },
  {
   "cell_type": "code",
   "execution_count": 104,
   "id": "8ae44bba-6157-453e-abba-319fdd059b3b",
   "metadata": {},
   "outputs": [
    {
     "data": {
      "text/plain": [
       "Changed_Credit_Limit\n",
       "(-6.4910000000000005, 4.32]    0.268178\n",
       "(4.32, 7.98]                   0.279010\n",
       "(7.98, 10.99]                  0.275576\n",
       "(10.99, 16.38]                 0.275475\n",
       "(16.38, 36.97]                 0.350125\n",
       "Name: target, dtype: float64"
      ]
     },
     "execution_count": 104,
     "metadata": {},
     "output_type": "execute_result"
    }
   ],
   "source": [
    "# Ordenação em 5 partes iguais, montando uma \"faixa\" de alterações de crédito\n",
    "\n",
    "changed_credit_limit = pd.qcut(changed_credit_limit['Changed_Credit_Limit'], q=5)\n",
    "\n",
    "# Concatenando com o target\n",
    "\n",
    "changed_credit_limit = pd.concat([changed_credit_limit, train['target']], axis=1)\n",
    "\n",
    "# Taxa de maus por número de cartão de crédito\n",
    "\n",
    "changed_credit_limit.groupby('Changed_Credit_Limit',observed=True)['target'].mean()"
   ]
  },
  {
   "cell_type": "markdown",
   "id": "460b1402-61a8-4014-8a55-19851b9fae70",
   "metadata": {},
   "source": [
    "Percebeu-se que a taxa de maus pagadores é um pouco maior em indivíduos com mais alterações de limite de crédito. A diferença entre o menor e o maior grupo de alterações foi de 9%."
   ]
  },
  {
   "cell_type": "markdown",
   "id": "fd855401-d23f-4266-b663-3c5f4a1ad6d4",
   "metadata": {
    "jp-MarkdownHeadingCollapsed": true
   },
   "source": [
    "### 4.3.13 Analisando as consultas de crédito (col `Num_Credit_Inquiries`)"
   ]
  },
  {
   "cell_type": "markdown",
   "id": "fae2842b-65a1-4408-b0e1-42b4a63c4d88",
   "metadata": {},
   "source": [
    "📝 Número de consultas de crédito feitas por instituições"
   ]
  },
  {
   "cell_type": "code",
   "execution_count": 105,
   "id": "a83a8e61-1b1f-4fd0-9d39-473e9761c0d2",
   "metadata": {},
   "outputs": [
    {
     "data": {
      "text/plain": [
       "np.int64(1965)"
      ]
     },
     "execution_count": 105,
     "metadata": {},
     "output_type": "execute_result"
    }
   ],
   "source": [
    "# Dados ausentes\n",
    "\n",
    "train['Num_Credit_Inquiries'].isna().sum()"
   ]
  },
  {
   "cell_type": "code",
   "execution_count": 106,
   "id": "5fd8f823-31d8-4c1e-ac22-01f4d8c54ed6",
   "metadata": {},
   "outputs": [],
   "source": [
    "num_credit_inquiries = train['Num_Credit_Inquiries']\n",
    "num_credit_inquiries = pd.DataFrame(num_credit_inquiries)"
   ]
  },
  {
   "cell_type": "code",
   "execution_count": 107,
   "id": "557bab00-9d4e-4aba-b4a9-df146193ba3e",
   "metadata": {},
   "outputs": [
    {
     "data": {
      "text/plain": [
       "Num_Credit_Inquiries\n",
       "(-0.001, 2.0]     0.121525\n",
       "(2.0, 4.0]        0.114776\n",
       "(4.0, 7.0]        0.285427\n",
       "(7.0, 10.0]       0.461266\n",
       "(10.0, 2597.0]    0.573440\n",
       "Name: target, dtype: float64"
      ]
     },
     "execution_count": 107,
     "metadata": {},
     "output_type": "execute_result"
    }
   ],
   "source": [
    "# Ordenação em 5 partes iguais, montando uma \"faixa\" de consultas de crédito\n",
    "\n",
    "num_credit_inquiries = pd.qcut(num_credit_inquiries['Num_Credit_Inquiries'], q=5)\n",
    "\n",
    "# Concatenando com o target\n",
    "\n",
    "num_credit_inquiries = pd.concat([num_credit_inquiries, train['target']], axis=1)\n",
    "\n",
    "# Taxa de maus por número de cartão de crédito\n",
    "\n",
    "num_credit_inquiries.groupby('Num_Credit_Inquiries',observed=True)['target'].mean()"
   ]
  },
  {
   "cell_type": "markdown",
   "id": "bc0d422c-7db4-499d-8142-f94ab4aff4a0",
   "metadata": {},
   "source": [
    "Percebeu-se que quanto maior o número de consultas de crédito feitas por instituições, maior a taxa de maus pagadores, o contrário segue a mesma lógica, quanto menor as consultas, menor a taxa de inadimplentes. A diferença entre os grupos extremos foi de 45%."
   ]
  },
  {
   "cell_type": "markdown",
   "id": "405307e3-718e-40ef-87f3-a4eca18b2bb9",
   "metadata": {
    "jp-MarkdownHeadingCollapsed": true
   },
   "source": [
    "### 4.3.14 Analisando as dívidas dos clientes (col `Outstanding_Debt`)"
   ]
  },
  {
   "cell_type": "markdown",
   "id": "9c7d59fd-a717-4e37-bea7-d205693f68d3",
   "metadata": {},
   "source": [
    "📝 Dívida pendente do cliente"
   ]
  },
  {
   "cell_type": "code",
   "execution_count": 108,
   "id": "e58f6b28-6a0e-4f5b-96c0-546ded2010ed",
   "metadata": {},
   "outputs": [
    {
     "data": {
      "text/plain": [
       "np.int64(0)"
      ]
     },
     "execution_count": 108,
     "metadata": {},
     "output_type": "execute_result"
    }
   ],
   "source": [
    "# Dados ausentes\n",
    "\n",
    "train['Outstanding_Debt'].isna().sum()"
   ]
  },
  {
   "cell_type": "code",
   "execution_count": 109,
   "id": "2925ef00-e08c-466c-a2c9-4287b8f3644d",
   "metadata": {},
   "outputs": [],
   "source": [
    "outstanding_debit = train['Outstanding_Debt']\n",
    "outstanding_debit = pd.DataFrame(outstanding_debit)\n",
    "\n",
    "# Removendo underscore _\n",
    "outstanding_debit.loc[:, 'Outstanding_Debt'] = outstanding_debit['Outstanding_Debt'].str.replace('_', '', regex=False)\n",
    "\n",
    "# Transformando em float e dataframe\n",
    "outstanding_debit = outstanding_debit['Outstanding_Debt'].astype(float)\n",
    "outstanding_debit = pd.DataFrame(outstanding_debit)"
   ]
  },
  {
   "cell_type": "code",
   "execution_count": 110,
   "id": "af21818d-cdd3-45e8-a1d4-4634d0b98791",
   "metadata": {},
   "outputs": [
    {
     "data": {
      "text/html": [
       "<div>\n",
       "<style scoped>\n",
       "    .dataframe tbody tr th:only-of-type {\n",
       "        vertical-align: middle;\n",
       "    }\n",
       "\n",
       "    .dataframe tbody tr th {\n",
       "        vertical-align: top;\n",
       "    }\n",
       "\n",
       "    .dataframe thead th {\n",
       "        text-align: right;\n",
       "    }\n",
       "</style>\n",
       "<table border=\"1\" class=\"dataframe\">\n",
       "  <thead>\n",
       "    <tr style=\"text-align: right;\">\n",
       "      <th></th>\n",
       "      <th>Outstanding_Debt</th>\n",
       "    </tr>\n",
       "  </thead>\n",
       "  <tbody>\n",
       "    <tr>\n",
       "      <th>count</th>\n",
       "      <td>100000.000000</td>\n",
       "    </tr>\n",
       "    <tr>\n",
       "      <th>mean</th>\n",
       "      <td>1426.220376</td>\n",
       "    </tr>\n",
       "    <tr>\n",
       "      <th>std</th>\n",
       "      <td>1155.129026</td>\n",
       "    </tr>\n",
       "    <tr>\n",
       "      <th>min</th>\n",
       "      <td>0.230000</td>\n",
       "    </tr>\n",
       "    <tr>\n",
       "      <th>25%</th>\n",
       "      <td>566.072500</td>\n",
       "    </tr>\n",
       "    <tr>\n",
       "      <th>50%</th>\n",
       "      <td>1166.155000</td>\n",
       "    </tr>\n",
       "    <tr>\n",
       "      <th>75%</th>\n",
       "      <td>1945.962500</td>\n",
       "    </tr>\n",
       "    <tr>\n",
       "      <th>max</th>\n",
       "      <td>4998.070000</td>\n",
       "    </tr>\n",
       "  </tbody>\n",
       "</table>\n",
       "</div>"
      ],
      "text/plain": [
       "       Outstanding_Debt\n",
       "count     100000.000000\n",
       "mean        1426.220376\n",
       "std         1155.129026\n",
       "min            0.230000\n",
       "25%          566.072500\n",
       "50%         1166.155000\n",
       "75%         1945.962500\n",
       "max         4998.070000"
      ]
     },
     "execution_count": 110,
     "metadata": {},
     "output_type": "execute_result"
    }
   ],
   "source": [
    "outstanding_debit.describe()"
   ]
  },
  {
   "cell_type": "code",
   "execution_count": 111,
   "id": "c71e3100-caf9-4f83-8a8a-00c065199e3e",
   "metadata": {},
   "outputs": [
    {
     "data": {
      "text/plain": [
       "Outstanding_Debt\n",
       "(0.229, 458.272]       0.10320\n",
       "(458.272, 924.0]       0.10990\n",
       "(924.0, 1354.338]      0.15965\n",
       "(1354.338, 2297.28]    0.52945\n",
       "(2297.28, 4998.07]     0.54770\n",
       "Name: target, dtype: float64"
      ]
     },
     "execution_count": 111,
     "metadata": {},
     "output_type": "execute_result"
    }
   ],
   "source": [
    "# Ordenação em 5 partes iguais, montando uma \"faixa\" de quantias investidas\n",
    "\n",
    "outstanding_debit = pd.qcut(outstanding_debit['Outstanding_Debt'], q=5)\n",
    "\n",
    "# Concatenando com o target\n",
    "\n",
    "df_outstanding_debit = pd.concat([outstanding_debit, train['target']], axis=1)\n",
    "\n",
    "# Taxa de maus por número de cartão de crédito\n",
    "\n",
    "df_outstanding_debit.groupby('Outstanding_Debt',observed=True)['target'].mean()"
   ]
  },
  {
   "cell_type": "markdown",
   "id": "142979e8-c5f2-44d3-b16e-f5142308605e",
   "metadata": {},
   "source": [
    "Perebe-se que clientes com maior dívida possuem uma maior taxa de inadimplentes, algo também esperado. A diferença entre os grupos com menor e maior taxa encontram-se com 44% de diferença."
   ]
  },
  {
   "cell_type": "markdown",
   "id": "fbf68e48-1c6f-422f-9478-c07155418a53",
   "metadata": {
    "jp-MarkdownHeadingCollapsed": true
   },
   "source": [
    "### 4.3.15 Analisando o crédito disponível (col `Credit_Utilization_Ratio`)"
   ]
  },
  {
   "cell_type": "markdown",
   "id": "881f039c-5e92-4c2b-9d01-6bdad9c69b24",
   "metadata": {},
   "source": [
    "📝 Proporção da utilização do crédito disponível"
   ]
  },
  {
   "cell_type": "code",
   "execution_count": 112,
   "id": "263c1a25-7966-4103-aef7-993b523463fe",
   "metadata": {},
   "outputs": [
    {
     "data": {
      "text/plain": [
       "np.int64(0)"
      ]
     },
     "execution_count": 112,
     "metadata": {},
     "output_type": "execute_result"
    }
   ],
   "source": [
    "# Dados ausentes\n",
    "\n",
    "train['Credit_Utilization_Ratio'].isna().sum()"
   ]
  },
  {
   "cell_type": "code",
   "execution_count": 113,
   "id": "0005d1b5-9e35-4373-beba-366ba2130cd3",
   "metadata": {},
   "outputs": [
    {
     "data": {
      "text/plain": [
       "count    100000.000000\n",
       "mean         32.285173\n",
       "std           5.116875\n",
       "min          20.000000\n",
       "25%          28.052567\n",
       "50%          32.305784\n",
       "75%          36.496663\n",
       "max          50.000000\n",
       "Name: Credit_Utilization_Ratio, dtype: float64"
      ]
     },
     "execution_count": 113,
     "metadata": {},
     "output_type": "execute_result"
    }
   ],
   "source": [
    "train['Credit_Utilization_Ratio'].describe()"
   ]
  },
  {
   "cell_type": "code",
   "execution_count": 114,
   "id": "7866d887-a853-40c8-9c61-484780d081d3",
   "metadata": {},
   "outputs": [
    {
     "data": {
      "text/plain": [
       "Credit_Utilization_Ratio\n",
       "(19.999, 27.178]    0.31430\n",
       "(27.178, 30.619]    0.29105\n",
       "(30.619, 33.98]     0.28910\n",
       "(33.98, 37.317]     0.29180\n",
       "(37.317, 50.0]      0.26365\n",
       "Name: target, dtype: float64"
      ]
     },
     "execution_count": 114,
     "metadata": {},
     "output_type": "execute_result"
    }
   ],
   "source": [
    "# Ordenação em 5 partes iguais, montando uma \"faixa\" de valor das parcelas\n",
    "\n",
    "credit_utilization_ratio = pd.qcut(train['Credit_Utilization_Ratio'], q=5)\n",
    "\n",
    "# Concatenando com o target\n",
    "\n",
    "df_credit_utilization_ratio = pd.concat([credit_utilization_ratio, train['target']], axis=1)\n",
    "\n",
    "# Taxa de maus por número de cartão de crédito\n",
    "\n",
    "df_credit_utilization_ratio.groupby('Credit_Utilization_Ratio',observed=True)['target'].mean()"
   ]
  },
  {
   "cell_type": "markdown",
   "id": "af3f9f6d-7c8a-4597-9526-271434e1bf02",
   "metadata": {},
   "source": [
    "Pessoas com mais crédito disponível obtiveram a menor taxa de inadimplência. A diferença entre os grupos foi de apenas 5%."
   ]
  },
  {
   "cell_type": "markdown",
   "id": "208bbf6d-a578-4bb7-ad45-612ea5e35172",
   "metadata": {
    "jp-MarkdownHeadingCollapsed": true
   },
   "source": [
    "### 4.3.16 Analisando as parcelas mensais (col `Total_EMI_per_month`)"
   ]
  },
  {
   "cell_type": "markdown",
   "id": "33b4f14f-4425-4a16-81e7-e86c8d1c101f",
   "metadata": {},
   "source": [
    "📝 Valor da parcela paga todos os meses para um empréstimo ou financiamento"
   ]
  },
  {
   "cell_type": "code",
   "execution_count": 115,
   "id": "f1ea450a-dd6d-457d-b063-3d07ffda51c8",
   "metadata": {},
   "outputs": [
    {
     "data": {
      "text/plain": [
       "np.int64(0)"
      ]
     },
     "execution_count": 115,
     "metadata": {},
     "output_type": "execute_result"
    }
   ],
   "source": [
    "# Dados ausentes\n",
    "\n",
    "train['Total_EMI_per_month'].isna().sum()"
   ]
  },
  {
   "cell_type": "code",
   "execution_count": 116,
   "id": "e92f0991-e04f-4ee7-bf03-ae4da8821038",
   "metadata": {},
   "outputs": [
    {
     "data": {
      "text/plain": [
       "count    100000.000000\n",
       "mean       1403.118217\n",
       "std        8306.041270\n",
       "min           0.000000\n",
       "25%          30.306660\n",
       "50%          69.249473\n",
       "75%         161.224249\n",
       "max       82331.000000\n",
       "Name: Total_EMI_per_month, dtype: float64"
      ]
     },
     "execution_count": 116,
     "metadata": {},
     "output_type": "execute_result"
    }
   ],
   "source": [
    "train['Total_EMI_per_month'].describe()"
   ]
  },
  {
   "cell_type": "code",
   "execution_count": 117,
   "id": "30197381-cf92-4680-aad5-0cda0f06c498",
   "metadata": {},
   "outputs": [
    {
     "data": {
      "text/plain": [
       "Total_EMI_per_month\n",
       "(-0.001, 23.543]      0.183323\n",
       "(23.543, 52.449]      0.313266\n",
       "(52.449, 93.669]      0.317518\n",
       "(93.669, 190.642]     0.327199\n",
       "(190.642, 82331.0]    0.308615\n",
       "Name: target, dtype: float64"
      ]
     },
     "execution_count": 117,
     "metadata": {},
     "output_type": "execute_result"
    }
   ],
   "source": [
    "# Ordenação em 5 partes iguais, montando uma \"faixa\" de valor das parcelas\n",
    "\n",
    "total_emi_per_month = pd.qcut(train['Total_EMI_per_month'], q=5)\n",
    "\n",
    "# Concatenando com o target\n",
    "\n",
    "df_total_emi_per_month = pd.concat([total_emi_per_month, train['target']], axis=1)\n",
    "\n",
    "# Taxa de maus por número de cartão de crédito\n",
    "\n",
    "df_total_emi_per_month.groupby('Total_EMI_per_month',observed=True)['target'].mean()"
   ]
  },
  {
   "cell_type": "markdown",
   "id": "09ae890f-2f4b-48d5-b89e-9a42d8a93974",
   "metadata": {},
   "source": [
    "Pessoas com parcelas de menor valor possuem a menor taxa de inadimplentes. A diferença entre os grupos extremos foi de 12%."
   ]
  },
  {
   "cell_type": "markdown",
   "id": "1bb0be6e-e1a9-4fe0-ac06-cd03676f02d1",
   "metadata": {},
   "source": [
    "### 4.3.17 Analisando quantia investida (col `Amount_invested_monthly`)"
   ]
  },
  {
   "cell_type": "markdown",
   "id": "10e1924b-e110-47f3-8067-6912a2298b7e",
   "metadata": {},
   "source": [
    "📝 Quantia investida mensalmente pelo cliente"
   ]
  },
  {
   "cell_type": "code",
   "execution_count": 118,
   "id": "22d601ec-e31a-49a0-9215-597d1c37cf67",
   "metadata": {},
   "outputs": [
    {
     "data": {
      "text/plain": [
       "np.int64(4479)"
      ]
     },
     "execution_count": 118,
     "metadata": {},
     "output_type": "execute_result"
    }
   ],
   "source": [
    "# Dados ausentes\n",
    "\n",
    "train['Amount_invested_monthly'].isna().sum()"
   ]
  },
  {
   "cell_type": "code",
   "execution_count": 119,
   "id": "40bcd350-3853-42cf-a743-d97c32183cd4",
   "metadata": {},
   "outputs": [],
   "source": [
    "amount_invested_monthly = train['Amount_invested_monthly']\n",
    "amount_invested_monthly = pd.DataFrame(amount_invested_monthly)\n",
    "\n",
    "# Removendo underscore _\n",
    "amount_invested_monthly.loc[:, 'Amount_invested_monthly'] = amount_invested_monthly['Amount_invested_monthly'].str.replace('_', '', regex=False)\n",
    "\n",
    "# Transformando em float\n",
    "amount_invested_monthly = pd.to_numeric(amount_invested_monthly['Amount_invested_monthly'], errors='coerce')\n",
    "amount_invested_monthly = pd.DataFrame(amount_invested_monthly)"
   ]
  },
  {
   "cell_type": "code",
   "execution_count": 120,
   "id": "5c9b5226-66cc-4733-8de1-c467e2a42ef8",
   "metadata": {},
   "outputs": [
    {
     "data": {
      "text/plain": [
       "Amount_invested_monthly\n",
       "(-0.001, 64.395]      0.335410\n",
       "(64.395, 108.56]      0.321660\n",
       "(108.56, 171.259]     0.306114\n",
       "(171.259, 323.644]    0.264081\n",
       "(323.644, 10000.0]    0.220896\n",
       "Name: target, dtype: float64"
      ]
     },
     "execution_count": 120,
     "metadata": {},
     "output_type": "execute_result"
    }
   ],
   "source": [
    "# Ordenação em 5 partes iguais, montando uma \"faixa\" de quantias investidas\n",
    "\n",
    "amount_invested_monthly = pd.qcut(amount_invested_monthly['Amount_invested_monthly'], q=5)\n",
    "\n",
    "# Concatenando com o target\n",
    "\n",
    "df_amount_invested_monthly = pd.concat([amount_invested_monthly, train['target']], axis=1)\n",
    "\n",
    "# Taxa de maus por número de cartão de crédito\n",
    "\n",
    "df_amount_invested_monthly.groupby('Amount_invested_monthly',observed=True)['target'].mean()"
   ]
  },
  {
   "cell_type": "markdown",
   "id": "bdabc4a5-6b6d-49ac-8dac-85fd7062a50c",
   "metadata": {},
   "source": [
    "Clientes que  investem mais dinheiro possuem uma menor taxa de inadimplentes. A diferença dos grupos extremos foi de 11%."
   ]
  },
  {
   "cell_type": "markdown",
   "id": "13f345a5-2499-47fb-a9b9-adcece8dba29",
   "metadata": {},
   "source": [
    "### 4.3.18 Analisando o saldo mensal disponível (col `Monthly_Balance`)"
   ]
  },
  {
   "cell_type": "markdown",
   "id": "c164d974-8c5b-4cab-8ba4-c9fbdf4f5454",
   "metadata": {},
   "source": [
    "📝 Saldo mensal disponível após todas as despesas."
   ]
  },
  {
   "cell_type": "code",
   "execution_count": 121,
   "id": "92214cee-9aaa-440f-a9cd-624320c742f0",
   "metadata": {},
   "outputs": [
    {
     "data": {
      "text/plain": [
       "np.int64(1200)"
      ]
     },
     "execution_count": 121,
     "metadata": {},
     "output_type": "execute_result"
    }
   ],
   "source": [
    "# Dados ausentes\n",
    "\n",
    "train['Monthly_Balance'].isna().sum()"
   ]
  },
  {
   "cell_type": "code",
   "execution_count": 122,
   "id": "b98688ca-3cc2-4e29-a969-05e35b92622f",
   "metadata": {},
   "outputs": [],
   "source": [
    "monthly_balance = train['Monthly_Balance']\n",
    "monthly_balance = pd.DataFrame(monthly_balance)\n",
    "\n",
    "# Transformando em float\n",
    "monthly_balance = pd.to_numeric(monthly_balance['Monthly_Balance'], errors='coerce')\n",
    "monthly_balance = pd.DataFrame(monthly_balance)"
   ]
  },
  {
   "cell_type": "code",
   "execution_count": 123,
   "id": "41ce7083-2b23-42dd-a781-85216ffa9329",
   "metadata": {},
   "outputs": [
    {
     "data": {
      "text/html": [
       "<div>\n",
       "<style scoped>\n",
       "    .dataframe tbody tr th:only-of-type {\n",
       "        vertical-align: middle;\n",
       "    }\n",
       "\n",
       "    .dataframe tbody tr th {\n",
       "        vertical-align: top;\n",
       "    }\n",
       "\n",
       "    .dataframe thead th {\n",
       "        text-align: right;\n",
       "    }\n",
       "</style>\n",
       "<table border=\"1\" class=\"dataframe\">\n",
       "  <thead>\n",
       "    <tr style=\"text-align: right;\">\n",
       "      <th></th>\n",
       "      <th>Monthly_Balance</th>\n",
       "    </tr>\n",
       "  </thead>\n",
       "  <tbody>\n",
       "    <tr>\n",
       "      <th>count</th>\n",
       "      <td>98791.000000</td>\n",
       "    </tr>\n",
       "    <tr>\n",
       "      <th>mean</th>\n",
       "      <td>402.551258</td>\n",
       "    </tr>\n",
       "    <tr>\n",
       "      <th>std</th>\n",
       "      <td>213.925499</td>\n",
       "    </tr>\n",
       "    <tr>\n",
       "      <th>min</th>\n",
       "      <td>0.007760</td>\n",
       "    </tr>\n",
       "    <tr>\n",
       "      <th>25%</th>\n",
       "      <td>270.106630</td>\n",
       "    </tr>\n",
       "    <tr>\n",
       "      <th>50%</th>\n",
       "      <td>336.731225</td>\n",
       "    </tr>\n",
       "    <tr>\n",
       "      <th>75%</th>\n",
       "      <td>470.262938</td>\n",
       "    </tr>\n",
       "    <tr>\n",
       "      <th>max</th>\n",
       "      <td>1602.040519</td>\n",
       "    </tr>\n",
       "  </tbody>\n",
       "</table>\n",
       "</div>"
      ],
      "text/plain": [
       "       Monthly_Balance\n",
       "count     98791.000000\n",
       "mean        402.551258\n",
       "std         213.925499\n",
       "min           0.007760\n",
       "25%         270.106630\n",
       "50%         336.731225\n",
       "75%         470.262938\n",
       "max        1602.040519"
      ]
     },
     "execution_count": 123,
     "metadata": {},
     "output_type": "execute_result"
    }
   ],
   "source": [
    "monthly_balance.describe()"
   ]
  },
  {
   "cell_type": "code",
   "execution_count": 124,
   "id": "5f229f5e-f015-4d0b-8b27-72505f1d67ae",
   "metadata": {},
   "outputs": [
    {
     "data": {
      "text/plain": [
       "Monthly_Balance\n",
       "(0.00676, 257.191]    0.393795\n",
       "(257.191, 307.002]    0.382933\n",
       "(307.002, 375.95]     0.281709\n",
       "(375.95, 523.98]      0.233374\n",
       "(523.98, 1602.041]    0.158214\n",
       "Name: target, dtype: float64"
      ]
     },
     "execution_count": 124,
     "metadata": {},
     "output_type": "execute_result"
    }
   ],
   "source": [
    "# Ordenação em 5 partes iguais, montando uma \"faixa\" de quantias investidas\n",
    "\n",
    "monthly_balance = pd.qcut(monthly_balance['Monthly_Balance'], q=5)\n",
    "\n",
    "# Concatenando com o target\n",
    "\n",
    "df_monthly_balance = pd.concat([monthly_balance, train['target']], axis=1)\n",
    "\n",
    "# Taxa de maus por número de cartão de crédito\n",
    "\n",
    "df_monthly_balance.groupby('Monthly_Balance',observed=True)['target'].mean()"
   ]
  },
  {
   "cell_type": "markdown",
   "id": "bca698c7-64a0-4b95-a148-7fea7d546734",
   "metadata": {},
   "source": [
    "Clientes com mais saldo disponível após todas as despesas apresentaram uma menor taxa de inadimplentes. A diferença entre a menor e maior faixa foi de 24%."
   ]
  }
 ],
 "metadata": {
  "kernelspec": {
   "display_name": "Python 3 (ipykernel)",
   "language": "python",
   "name": "python3"
  },
  "language_info": {
   "codemirror_mode": {
    "name": "ipython",
    "version": 3
   },
   "file_extension": ".py",
   "mimetype": "text/x-python",
   "name": "python",
   "nbconvert_exporter": "python",
   "pygments_lexer": "ipython3",
   "version": "3.12.3"
  }
 },
 "nbformat": 4,
 "nbformat_minor": 5
}
