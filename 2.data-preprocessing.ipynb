{
 "cells": [
  {
   "cell_type": "markdown",
   "id": "2bd380a4-a4c7-42d5-82d2-2f107d19daa6",
   "metadata": {},
   "source": [
    "# Organização da Pipeline de pré-processamento"
   ]
  },
  {
   "cell_type": "markdown",
   "id": "e34e98c4-4fac-42e7-8aae-a6ec37c712aa",
   "metadata": {},
   "source": [
    "A definição dos tratamentos e transformações dos dados foi realizada com base nos insights extraídos durante a análise exploratória (EDA). Para otimizar essa etapa, foi utilizada uma [planilha de organização](https://docs.google.com/spreadsheets/d/12IVVANl1VLA55f7QB15Y_hmrT_lGEXov8IsCHVvneR0/edit?usp=sharing), que ajudou a planejar os tratamentos e transformações necessários em cada variável.\n",
    "\n",
    "Com o objetivo de melhorar a reprodutibilidade e escalabilidade do processo, foram desenvolvidas duas pipelines separadas: Pipeline de Tratamento e Pipeline de Transformação. Essas pipelines foram aplicadas separadamente no conjunto de treino e de teste para evitar o risco de data leakage.\n",
    "\n",
    "### 2. Pipeline de tratamento:\n",
    "\n",
    "Realizada para sanar problemas de ausência de engenharia de dados. Nessa pipeline, foi buscado resolver os seguintes problemas:\n",
    "\n",
    "* 2.1 Gerais: Remoção de colunas desconsideradas para o modelo\n",
    "* 2.1 Gerais: Remover underscore e espaços vazios\n",
    "* 2.1 Gerais: Transformar dados nos tipos corretos\n",
    "* 2.2 Outliers: Tratar outliers\n",
    "* 2.3 Feature engineering: converter a variável categórica `Credit_History_Age` (tempo total de histórico de crédito do cliente) no total de meses.\n",
    "\n",
    "### 3. Pipeline de transformação:\n",
    "\n",
    "Realizada para preparar os dados para os diferentes modelos de machine learning.\n",
    "\n",
    "* Dados numéricos: substituir dados ausentes pela média\n",
    "* Dados categóricos: substituir ausentes por \"missing\"\n",
    "* Dados categóricos (encoder): passar um encoder (ex: Target Encoder)\n",
    "* Todas as variáveis (scale): passar um scaler (ex: MinMax ou Robust Scaler)"
   ]
  },
  {
   "cell_type": "markdown",
   "id": "894259b2-97a2-4411-8625-f215581305f4",
   "metadata": {
    "jp-MarkdownHeadingCollapsed": true
   },
   "source": [
    "# Bibliotecas"
   ]
  },
  {
   "cell_type": "code",
   "execution_count": 1,
   "id": "53018978-fe30-4913-a8e8-94311aa83e7a",
   "metadata": {},
   "outputs": [],
   "source": [
    "# Data manipulation\n",
    "\n",
    "import pandas as pd\n",
    "import numpy as np\n",
    "\n",
    "# Data viz\n",
    "\n",
    "import matplotlib.pyplot as plt\n",
    "import seaborn as sns\n",
    "\n",
    "# ML (split)\n",
    "\n",
    "from sklearn.model_selection import train_test_split\n",
    "\n",
    "# Preparação e Pré-processamento de Dados\n",
    "\n",
    "from sklearn.pipeline import Pipeline\n",
    "from sklearn.compose import ColumnTransformer\n",
    "\n",
    "from sklearn.preprocessing import StandardScaler, MinMaxScaler\n",
    "from sklearn.impute import SimpleImputer\n",
    "from category_encoders import TargetEncoder"
   ]
  },
  {
   "cell_type": "markdown",
   "id": "c5013f5e-487c-4839-bcfe-c1ac532ca3de",
   "metadata": {
    "jp-MarkdownHeadingCollapsed": true
   },
   "source": [
    "# 1. Importação dos dados"
   ]
  },
  {
   "cell_type": "code",
   "execution_count": 2,
   "id": "b8afbabc-6cdf-442c-bcef-ddf0d5818671",
   "metadata": {},
   "outputs": [],
   "source": [
    "df = pd.read_csv('data/train.csv', low_memory=False)"
   ]
  },
  {
   "cell_type": "markdown",
   "id": "b6c650c6-a3c4-4640-ac04-d0b48c377265",
   "metadata": {},
   "source": [
    "**OBS (1):** nos dados de teste há uma variável a menos, que é a 'Credit_Score', inicialmente definida como o target.  \n",
    "**OBS (2):** o alvo da base de dados era a variável Credit_Score, que consiste na pontuação de crédito do cliente. Nessa classificação, haviam indivíduos classificados como: Poor, Standard e Good. Para deixar o problema ainda mais próximo do proposto na concessão de crédito, optou-se por modificar as classes, como indicado abaixo.  \n",
    "\n",
    "* Clientes classificados como `Poor` ➡ `Classe 1` (maus pagadores)  \n",
    "* Clientes classifiados como `Standard` ➡ `Classe 0` (bons pagadores)  \n",
    "* Clientes classifiados como `Good` ➡ `Classe 0` (bons pagadores)\n",
    "\n",
    "**OBS (3):** o objetivo original da base de dados era prever a variável Credit_Score, que reflete a pontuação de crédito do cliente, com base em variáveis como comportamento de pagamento e dívida pendente. No entanto, o foco foi ajustado para classificar futuros clientes em bons ou maus pagadores, visando prevenir inadimplências durante o processo de concessão de crédito. As variáveis relacionadas ao comportamento dos clientes, que já constavam na base de dados, foram consideradas como informações complementares, hipoteticamente fornecidas por outro birô de crédito (ex: Serasa, SPC, etc)."
   ]
  },
  {
   "cell_type": "code",
   "execution_count": 3,
   "id": "aa240dde-e6cf-43fe-98d9-26d00ea17289",
   "metadata": {},
   "outputs": [],
   "source": [
    "# Modificando as classes para bons e maus pagadores\n",
    "\n",
    "df['target'] = df['Credit_Score'].apply(lambda x: 1 if x == 'Poor' else 0)\n",
    "df = df.drop('Credit_Score', axis=1)"
   ]
  },
  {
   "cell_type": "code",
   "execution_count": 4,
   "id": "69ffbc7b-a030-468e-bd12-b2cc4f3e1f04",
   "metadata": {},
   "outputs": [
    {
     "data": {
      "text/html": [
       "<div>\n",
       "<style scoped>\n",
       "    .dataframe tbody tr th:only-of-type {\n",
       "        vertical-align: middle;\n",
       "    }\n",
       "\n",
       "    .dataframe tbody tr th {\n",
       "        vertical-align: top;\n",
       "    }\n",
       "\n",
       "    .dataframe thead th {\n",
       "        text-align: right;\n",
       "    }\n",
       "</style>\n",
       "<table border=\"1\" class=\"dataframe\">\n",
       "  <thead>\n",
       "    <tr style=\"text-align: right;\">\n",
       "      <th></th>\n",
       "      <th>ID</th>\n",
       "      <th>Customer_ID</th>\n",
       "      <th>Month</th>\n",
       "      <th>Name</th>\n",
       "      <th>Age</th>\n",
       "      <th>SSN</th>\n",
       "      <th>Occupation</th>\n",
       "      <th>Annual_Income</th>\n",
       "      <th>Monthly_Inhand_Salary</th>\n",
       "      <th>Num_Bank_Accounts</th>\n",
       "      <th>...</th>\n",
       "      <th>Credit_Mix</th>\n",
       "      <th>Outstanding_Debt</th>\n",
       "      <th>Credit_Utilization_Ratio</th>\n",
       "      <th>Credit_History_Age</th>\n",
       "      <th>Payment_of_Min_Amount</th>\n",
       "      <th>Total_EMI_per_month</th>\n",
       "      <th>Amount_invested_monthly</th>\n",
       "      <th>Payment_Behaviour</th>\n",
       "      <th>Monthly_Balance</th>\n",
       "      <th>target</th>\n",
       "    </tr>\n",
       "  </thead>\n",
       "  <tbody>\n",
       "    <tr>\n",
       "      <th>0</th>\n",
       "      <td>0x1602</td>\n",
       "      <td>CUS_0xd40</td>\n",
       "      <td>January</td>\n",
       "      <td>Aaron Maashoh</td>\n",
       "      <td>23</td>\n",
       "      <td>821-00-0265</td>\n",
       "      <td>Scientist</td>\n",
       "      <td>19114.12</td>\n",
       "      <td>1824.843333</td>\n",
       "      <td>3</td>\n",
       "      <td>...</td>\n",
       "      <td>_</td>\n",
       "      <td>809.98</td>\n",
       "      <td>26.822620</td>\n",
       "      <td>22 Years and 1 Months</td>\n",
       "      <td>No</td>\n",
       "      <td>49.574949</td>\n",
       "      <td>80.41529543900253</td>\n",
       "      <td>High_spent_Small_value_payments</td>\n",
       "      <td>312.49408867943663</td>\n",
       "      <td>0</td>\n",
       "    </tr>\n",
       "    <tr>\n",
       "      <th>1</th>\n",
       "      <td>0x1603</td>\n",
       "      <td>CUS_0xd40</td>\n",
       "      <td>February</td>\n",
       "      <td>Aaron Maashoh</td>\n",
       "      <td>23</td>\n",
       "      <td>821-00-0265</td>\n",
       "      <td>Scientist</td>\n",
       "      <td>19114.12</td>\n",
       "      <td>NaN</td>\n",
       "      <td>3</td>\n",
       "      <td>...</td>\n",
       "      <td>Good</td>\n",
       "      <td>809.98</td>\n",
       "      <td>31.944960</td>\n",
       "      <td>NaN</td>\n",
       "      <td>No</td>\n",
       "      <td>49.574949</td>\n",
       "      <td>118.28022162236736</td>\n",
       "      <td>Low_spent_Large_value_payments</td>\n",
       "      <td>284.62916249607184</td>\n",
       "      <td>0</td>\n",
       "    </tr>\n",
       "    <tr>\n",
       "      <th>2</th>\n",
       "      <td>0x1604</td>\n",
       "      <td>CUS_0xd40</td>\n",
       "      <td>March</td>\n",
       "      <td>Aaron Maashoh</td>\n",
       "      <td>-500</td>\n",
       "      <td>821-00-0265</td>\n",
       "      <td>Scientist</td>\n",
       "      <td>19114.12</td>\n",
       "      <td>NaN</td>\n",
       "      <td>3</td>\n",
       "      <td>...</td>\n",
       "      <td>Good</td>\n",
       "      <td>809.98</td>\n",
       "      <td>28.609352</td>\n",
       "      <td>22 Years and 3 Months</td>\n",
       "      <td>No</td>\n",
       "      <td>49.574949</td>\n",
       "      <td>81.699521264648</td>\n",
       "      <td>Low_spent_Medium_value_payments</td>\n",
       "      <td>331.2098628537912</td>\n",
       "      <td>0</td>\n",
       "    </tr>\n",
       "    <tr>\n",
       "      <th>3</th>\n",
       "      <td>0x1605</td>\n",
       "      <td>CUS_0xd40</td>\n",
       "      <td>April</td>\n",
       "      <td>Aaron Maashoh</td>\n",
       "      <td>23</td>\n",
       "      <td>821-00-0265</td>\n",
       "      <td>Scientist</td>\n",
       "      <td>19114.12</td>\n",
       "      <td>NaN</td>\n",
       "      <td>3</td>\n",
       "      <td>...</td>\n",
       "      <td>Good</td>\n",
       "      <td>809.98</td>\n",
       "      <td>31.377862</td>\n",
       "      <td>22 Years and 4 Months</td>\n",
       "      <td>No</td>\n",
       "      <td>49.574949</td>\n",
       "      <td>199.4580743910713</td>\n",
       "      <td>Low_spent_Small_value_payments</td>\n",
       "      <td>223.45130972736786</td>\n",
       "      <td>0</td>\n",
       "    </tr>\n",
       "    <tr>\n",
       "      <th>4</th>\n",
       "      <td>0x1606</td>\n",
       "      <td>CUS_0xd40</td>\n",
       "      <td>May</td>\n",
       "      <td>Aaron Maashoh</td>\n",
       "      <td>23</td>\n",
       "      <td>821-00-0265</td>\n",
       "      <td>Scientist</td>\n",
       "      <td>19114.12</td>\n",
       "      <td>1824.843333</td>\n",
       "      <td>3</td>\n",
       "      <td>...</td>\n",
       "      <td>Good</td>\n",
       "      <td>809.98</td>\n",
       "      <td>24.797347</td>\n",
       "      <td>22 Years and 5 Months</td>\n",
       "      <td>No</td>\n",
       "      <td>49.574949</td>\n",
       "      <td>41.420153086217326</td>\n",
       "      <td>High_spent_Medium_value_payments</td>\n",
       "      <td>341.48923103222177</td>\n",
       "      <td>0</td>\n",
       "    </tr>\n",
       "  </tbody>\n",
       "</table>\n",
       "<p>5 rows × 28 columns</p>\n",
       "</div>"
      ],
      "text/plain": [
       "       ID Customer_ID     Month           Name   Age          SSN Occupation  \\\n",
       "0  0x1602   CUS_0xd40   January  Aaron Maashoh    23  821-00-0265  Scientist   \n",
       "1  0x1603   CUS_0xd40  February  Aaron Maashoh    23  821-00-0265  Scientist   \n",
       "2  0x1604   CUS_0xd40     March  Aaron Maashoh  -500  821-00-0265  Scientist   \n",
       "3  0x1605   CUS_0xd40     April  Aaron Maashoh    23  821-00-0265  Scientist   \n",
       "4  0x1606   CUS_0xd40       May  Aaron Maashoh    23  821-00-0265  Scientist   \n",
       "\n",
       "  Annual_Income  Monthly_Inhand_Salary  Num_Bank_Accounts  ...  Credit_Mix  \\\n",
       "0      19114.12            1824.843333                  3  ...           _   \n",
       "1      19114.12                    NaN                  3  ...        Good   \n",
       "2      19114.12                    NaN                  3  ...        Good   \n",
       "3      19114.12                    NaN                  3  ...        Good   \n",
       "4      19114.12            1824.843333                  3  ...        Good   \n",
       "\n",
       "   Outstanding_Debt Credit_Utilization_Ratio     Credit_History_Age  \\\n",
       "0            809.98                26.822620  22 Years and 1 Months   \n",
       "1            809.98                31.944960                    NaN   \n",
       "2            809.98                28.609352  22 Years and 3 Months   \n",
       "3            809.98                31.377862  22 Years and 4 Months   \n",
       "4            809.98                24.797347  22 Years and 5 Months   \n",
       "\n",
       "   Payment_of_Min_Amount Total_EMI_per_month Amount_invested_monthly  \\\n",
       "0                     No           49.574949       80.41529543900253   \n",
       "1                     No           49.574949      118.28022162236736   \n",
       "2                     No           49.574949         81.699521264648   \n",
       "3                     No           49.574949       199.4580743910713   \n",
       "4                     No           49.574949      41.420153086217326   \n",
       "\n",
       "                  Payment_Behaviour     Monthly_Balance target  \n",
       "0   High_spent_Small_value_payments  312.49408867943663      0  \n",
       "1    Low_spent_Large_value_payments  284.62916249607184      0  \n",
       "2   Low_spent_Medium_value_payments   331.2098628537912      0  \n",
       "3    Low_spent_Small_value_payments  223.45130972736786      0  \n",
       "4  High_spent_Medium_value_payments  341.48923103222177      0  \n",
       "\n",
       "[5 rows x 28 columns]"
      ]
     },
     "execution_count": 4,
     "metadata": {},
     "output_type": "execute_result"
    }
   ],
   "source": [
    "# Base de dados adaptada\n",
    "\n",
    "df.head()"
   ]
  },
  {
   "cell_type": "markdown",
   "id": "6bbc6d48-3b24-4073-bf28-c7177ddbc9d1",
   "metadata": {},
   "source": [
    "# 2. Split dos dados"
   ]
  },
  {
   "cell_type": "code",
   "execution_count": 5,
   "id": "3ed7f301-49c1-4e9f-bbad-5e7d29a6fd1e",
   "metadata": {},
   "outputs": [],
   "source": [
    "X = df.drop('target', axis=1)\n",
    "y = df['target']"
   ]
  },
  {
   "cell_type": "code",
   "execution_count": 6,
   "id": "8d6e9727-dc04-468e-95af-20944a20fa5e",
   "metadata": {},
   "outputs": [],
   "source": [
    "X_train, X_test, y_train, y_test = train_test_split(X, y, test_size=0.20, random_state=42, stratify=y)"
   ]
  },
  {
   "cell_type": "code",
   "execution_count": 7,
   "id": "e24a0d39-688e-4902-b8d4-5d957dd7c7f9",
   "metadata": {},
   "outputs": [
    {
     "data": {
      "text/plain": [
       "(80000, 27)"
      ]
     },
     "execution_count": 7,
     "metadata": {},
     "output_type": "execute_result"
    }
   ],
   "source": [
    "# Dimensionalidade dos dados de treino\n",
    "\n",
    "X_train.shape"
   ]
  },
  {
   "cell_type": "code",
   "execution_count": 8,
   "id": "b21cb48e-2af2-4b10-be0b-be1315cce405",
   "metadata": {},
   "outputs": [
    {
     "data": {
      "text/plain": [
       "(20000, 27)"
      ]
     },
     "execution_count": 8,
     "metadata": {},
     "output_type": "execute_result"
    }
   ],
   "source": [
    "# Dimensionalidade dos dados de teste\n",
    "\n",
    "X_test.shape"
   ]
  },
  {
   "cell_type": "markdown",
   "id": "6c76f8ca-a65e-45b8-badd-e3e614bb8c76",
   "metadata": {},
   "source": [
    "# 2. Pipeline de tratamento"
   ]
  },
  {
   "cell_type": "markdown",
   "id": "27e54317-7d50-435e-aca1-a6f535baf253",
   "metadata": {},
   "source": [
    "#### 2.1 Tratamentos gerais"
   ]
  },
  {
   "cell_type": "code",
   "execution_count": 9,
   "id": "2e5f5e37-585f-437b-860f-1ec37f4c7408",
   "metadata": {},
   "outputs": [
    {
     "name": "stdout",
     "output_type": "stream",
     "text": [
      "Total de colunas: 21\n"
     ]
    }
   ],
   "source": [
    "# Remoção de colunas desnecessárias\n",
    "\n",
    "def drop_variaveis(df):\n",
    "    lista_variaveis = ['ID', 'Customer_ID', 'SSN', 'Name', 'Delay_from_due_date', 'Num_of_Delayed_Payment']\n",
    "    return df.drop(columns=lista_variaveis, axis=1)\n",
    "\n",
    "X_train = drop_variaveis(X_train)\n",
    "X_test = drop_variaveis(X_test)\n",
    "\n",
    "print(f'Total de colunas: {X_test.shape[1]}')"
   ]
  },
  {
   "cell_type": "code",
   "execution_count": 10,
   "id": "0f949a9e-768b-492c-9fce-09d0739c32bb",
   "metadata": {},
   "outputs": [],
   "source": [
    "# Tratamento de NaNs e conversão de dados\n",
    "\n",
    "col_treat_num = ['Age','Num_Bank_Accounts','Num_Credit_Card', 'Interest_Rate', 'Num_of_Loan','Num_Credit_Inquiries','Annual_Income',\n",
    "                 'Monthly_Inhand_Salary','Changed_Credit_Limit', 'Outstanding_Debt', 'Credit_Utilization_Ratio', 'Total_EMI_per_month',\n",
    "                 'Amount_invested_monthly', 'Monthly_Balance']\n",
    "\n",
    "\n",
    "def tratar_dados(df, colunas):\n",
    "    # Passa todas as features para object; todas as que possuem caractere != número são substituídas por NaN; depois passa todas para float\n",
    "    \n",
    "    df[colunas] = df[colunas].astype('object')\n",
    "    \n",
    "    for col in colunas:\n",
    "        # Converte os valores para string para aplicar a substituição de caracteres\n",
    "        df[col] = df[col].astype(str).replace(r'[^0-9.-]', '', regex=True)\n",
    "        # Converte a coluna para float, transformando valores inválidos em NaN\n",
    "        df[col] = pd.to_numeric(df[col], errors='coerce')\n",
    "    \n",
    "    return df\n",
    "\n",
    "\n",
    "X_train = tratar_dados(X_train, col_treat_num)\n",
    "X_test = tratar_dados(X_test, col_treat_num)"
   ]
  },
  {
   "cell_type": "markdown",
   "id": "63513d68-213b-4434-8465-4ce89c25ae54",
   "metadata": {},
   "source": [
    "#### 2.2 Outliers\n",
    "\n",
    "* Para cada variável numérica do dataset, foram calculados os percentis 1 e 99;\n",
    "* Valores de uma observação maiores que o percentil 99 da variável, foram substituídos pelo valor do percentil 99;\n",
    "* Valores de uma observação menores que o percentil 1 da variável, foram substituídos pelo valor do percentil 1\n",
    "  \n",
    "Esse processo limitou a influência de valores extremos sem removê-los, preservando a integridade do dataset."
   ]
  },
  {
   "cell_type": "code",
   "execution_count": 11,
   "id": "5e4de0c4-5d95-4ec5-b03b-38a8d48ee9bc",
   "metadata": {},
   "outputs": [
    {
     "name": "stdout",
     "output_type": "stream",
     "text": [
      "Coluna: Age\n",
      "Mínimo: -500\n",
      "Máximo: 8698\n",
      "------------------------------\n",
      "Coluna: Annual_Income\n",
      "Mínimo: 7005.93\n",
      "Máximo: 24177153.0\n",
      "------------------------------\n",
      "Coluna: Monthly_Inhand_Salary\n",
      "Mínimo: 303.6454166666666\n",
      "Máximo: 15204.633333333331\n",
      "------------------------------\n",
      "Coluna: Num_Bank_Accounts\n",
      "Mínimo: -1\n",
      "Máximo: 1798\n",
      "------------------------------\n",
      "Coluna: Num_Credit_Card\n",
      "Mínimo: 0\n",
      "Máximo: 1499\n",
      "------------------------------\n",
      "Coluna: Interest_Rate\n",
      "Mínimo: 1\n",
      "Máximo: 5797\n",
      "------------------------------\n",
      "Coluna: Num_of_Loan\n",
      "Mínimo: -100\n",
      "Máximo: 1496\n",
      "------------------------------\n",
      "Coluna: Changed_Credit_Limit\n",
      "Mínimo: -6.49\n",
      "Máximo: 36.97\n",
      "------------------------------\n",
      "Coluna: Num_Credit_Inquiries\n",
      "Mínimo: 0.0\n",
      "Máximo: 2594.0\n",
      "------------------------------\n",
      "Coluna: Outstanding_Debt\n",
      "Mínimo: 0.23\n",
      "Máximo: 4998.07\n",
      "------------------------------\n",
      "Coluna: Credit_Utilization_Ratio\n",
      "Mínimo: 20.0\n",
      "Máximo: 50.00000000000001\n",
      "------------------------------\n",
      "Coluna: Total_EMI_per_month\n",
      "Mínimo: 0.0\n",
      "Máximo: 82331.0\n",
      "------------------------------\n",
      "Coluna: Amount_invested_monthly\n",
      "Mínimo: 0.0\n",
      "Máximo: 10000.0\n",
      "------------------------------\n",
      "Coluna: Monthly_Balance\n",
      "Mínimo: -3.333333333333333e+26\n",
      "Máximo: 1602.0405189622518\n",
      "------------------------------\n"
     ]
    }
   ],
   "source": [
    "# Demonstração dos outliers\n",
    "\n",
    "for col in X_train.columns:\n",
    "    # Verificando se a coluna é numérica\n",
    "    if X_train[col].dtype in ['int64', 'float64']:\n",
    "        # Exibindo o valor mínimo e máximo para cada coluna numérica\n",
    "        print(f'Coluna: {col}')\n",
    "        print(f'Mínimo: {X_train[col].min()}')\n",
    "        print(f'Máximo: {X_train[col].max()}')\n",
    "        print('-' * 30)"
   ]
  },
  {
   "cell_type": "code",
   "execution_count": 12,
   "id": "915e4650-46e3-4ec7-9f93-e87b5ce8673a",
   "metadata": {},
   "outputs": [],
   "source": [
    "def treat_outliers(df):\n",
    "    # Selecionando todas as colunas numéricas\n",
    "    numeric_cols = df.select_dtypes(include=['int64', 'float64']).columns\n",
    "    \n",
    "    for col in numeric_cols:\n",
    "        # Calculando os percentis 1 e 99\n",
    "        p1 = np.percentile(df[col], q=1)\n",
    "        p99 = np.percentile(df[col], q=99)\n",
    "        \n",
    "        # Garantir que os percentis sejam do mesmo tipo da coluna\n",
    "        dtype_col = df[col].dtype\n",
    "        \n",
    "        # Substituindo os valores menores que o percentil 1 pelo próprio percentil 1\n",
    "        df.loc[df[col] < p1, col] = dtype_col.type(p1)\n",
    "        # Substituindo os valores maiores que o percentil 99 pelo próprio percentil 99\n",
    "        df.loc[df[col] > p99, col] = dtype_col.type(p99)\n",
    "    \n",
    "    return df"
   ]
  },
  {
   "cell_type": "code",
   "execution_count": 13,
   "id": "e458c734-2951-4ae7-820b-4bad759ad6f4",
   "metadata": {},
   "outputs": [],
   "source": [
    "# Aplicando a função nos dados de treino e de teste\n",
    "\n",
    "X_train = treat_outliers(X_train)\n",
    "X_test = treat_outliers(X_test)"
   ]
  },
  {
   "cell_type": "code",
   "execution_count": 14,
   "id": "2c7b7c61-f593-4183-a9e6-435fa987fbf9",
   "metadata": {},
   "outputs": [
    {
     "name": "stdout",
     "output_type": "stream",
     "text": [
      "Coluna: Age\n",
      "Mínimo: 14\n",
      "Máximo: 4135\n",
      "------------------------------\n",
      "Coluna: Annual_Income\n",
      "Mínimo: 7531.855\n",
      "Máximo: 180706.29719962334\n",
      "------------------------------\n",
      "Coluna: Monthly_Inhand_Salary\n",
      "Mínimo: 303.6454166666666\n",
      "Máximo: 15204.633333333331\n",
      "------------------------------\n",
      "Coluna: Num_Bank_Accounts\n",
      "Mínimo: 0\n",
      "Máximo: 442\n",
      "------------------------------\n",
      "Coluna: Num_Credit_Card\n",
      "Mínimo: 1\n",
      "Máximo: 847\n",
      "------------------------------\n",
      "Coluna: Interest_Rate\n",
      "Mínimo: 1\n",
      "Máximo: 2874\n",
      "------------------------------\n",
      "Coluna: Num_of_Loan\n",
      "Mínimo: -100\n",
      "Máximo: 9\n",
      "------------------------------\n",
      "Coluna: Changed_Credit_Limit\n",
      "Mínimo: -6.49\n",
      "Máximo: 36.97\n",
      "------------------------------\n",
      "Coluna: Num_Credit_Inquiries\n",
      "Mínimo: 0.0\n",
      "Máximo: 2594.0\n",
      "------------------------------\n",
      "Coluna: Outstanding_Debt\n",
      "Mínimo: 25.78\n",
      "Máximo: 4809.566799999991\n",
      "------------------------------\n",
      "Coluna: Credit_Utilization_Ratio\n",
      "Mínimo: 22.74691725808216\n",
      "Máximo: 42.460793482677815\n",
      "------------------------------\n",
      "Coluna: Total_EMI_per_month\n",
      "Mínimo: 0.0\n",
      "Máximo: 56654.47999999975\n",
      "------------------------------\n",
      "Coluna: Amount_invested_monthly\n",
      "Mínimo: 0.0\n",
      "Máximo: 10000.0\n",
      "------------------------------\n",
      "Coluna: Monthly_Balance\n",
      "Mínimo: -3.333333333333333e+26\n",
      "Máximo: 1602.0405189622518\n",
      "------------------------------\n"
     ]
    }
   ],
   "source": [
    "# Checagem\n",
    "\n",
    "for col in X_train.columns:\n",
    "    # Verificando se a coluna é numérica\n",
    "    if X_train[col].dtype in ['int64', 'float64']:\n",
    "        # Exibindo o valor mínimo e máximo para cada coluna numérica\n",
    "        print(f'Coluna: {col}')\n",
    "        print(f'Mínimo: {X_train[col].min()}')\n",
    "        print(f'Máximo: {X_train[col].max()}')\n",
    "        print('-' * 30)"
   ]
  },
  {
   "cell_type": "code",
   "execution_count": 15,
   "id": "61b335b9-06b4-4b47-8284-129e1dfeac3e",
   "metadata": {},
   "outputs": [],
   "source": [
    "# Tratamento extra para a variável de idade\n",
    "\n",
    "X_train.loc[X_train['Age'] > 100, 'Age'] = np.nan\n",
    "X_test.loc[X_test['Age'] > 100, 'Age'] = np.nan"
   ]
  },
  {
   "cell_type": "code",
   "execution_count": 16,
   "id": "bd1b71bd-8c56-4c39-aff2-c2071da2a65d",
   "metadata": {},
   "outputs": [
    {
     "name": "stdout",
     "output_type": "stream",
     "text": [
      "Idade mínima: 14.0\n",
      "Idade mínima: 99.0\n"
     ]
    }
   ],
   "source": [
    "print(f'Idade mínima: {X_train['Age'].min()}')\n",
    "print(f'Idade mínima: {X_train['Age'].max()}')"
   ]
  },
  {
   "cell_type": "code",
   "execution_count": 17,
   "id": "13f863fc-b3b7-41b3-8b7f-5c24f3f4f918",
   "metadata": {},
   "outputs": [],
   "source": [
    "# Salvando para utilizar na análise de negócio\n",
    "\n",
    "X_test.to_csv('outputs/X_test.csv')"
   ]
  },
  {
   "cell_type": "markdown",
   "id": "ba321b8c-cd1f-4b6e-9414-312122b17b81",
   "metadata": {},
   "source": [
    "#### 2.3 Feature engineering"
   ]
  },
  {
   "cell_type": "markdown",
   "id": "9c47eb16-3be0-43f2-a13a-e7837385e0b4",
   "metadata": {},
   "source": [
    "A coluna `Credit_History_Age` representa o tempo total de histórico de crédito do cliente. Era uma coluna do tipo 'object' contando anos e meses. Para fins de melhor interpretabilidade, foi transformada no número total de meses."
   ]
  },
  {
   "cell_type": "code",
   "execution_count": 18,
   "id": "5338558d-add4-45ae-80ae-2a1232d1c09f",
   "metadata": {},
   "outputs": [
    {
     "data": {
      "text/plain": [
       "60844    17 Years and 11 Months\n",
       "63839     30 Years and 8 Months\n",
       "42805      5 Years and 8 Months\n",
       "37912    30 Years and 10 Months\n",
       "46652      9 Years and 9 Months\n",
       "Name: Credit_History_Age, dtype: object"
      ]
     },
     "execution_count": 18,
     "metadata": {},
     "output_type": "execute_result"
    }
   ],
   "source": [
    "X_train['Credit_History_Age'].head()"
   ]
  },
  {
   "cell_type": "code",
   "execution_count": 19,
   "id": "72892013-7587-4358-9138-368e2ebf17f6",
   "metadata": {},
   "outputs": [],
   "source": [
    "# Transformando a coluna 'Credit_History_Age'\n",
    "\n",
    "def convert_to_months(age):\n",
    "    \"\"\"Função para converter Years and months em meses\"\"\"\n",
    "\n",
    "    if isinstance(age, str):\n",
    "        years, months = age.split(' Years and ')\n",
    "        return int(years) * 12 + int(months.split(' ')[0])\n",
    "    else:\n",
    "        return None"
   ]
  },
  {
   "cell_type": "code",
   "execution_count": 20,
   "id": "0a86c670-4ce5-4d90-aaf3-b1e3d0a81c38",
   "metadata": {},
   "outputs": [],
   "source": [
    "X_train['Credit_History_Age'] = X_train['Credit_History_Age'].apply(convert_to_months)\n",
    "X_test['Credit_History_Age'] = X_test['Credit_History_Age'].apply(convert_to_months)"
   ]
  },
  {
   "cell_type": "code",
   "execution_count": 21,
   "id": "cbd99caf-aded-4bc0-bf34-5ec16402e572",
   "metadata": {},
   "outputs": [
    {
     "data": {
      "text/plain": [
       "60844    215.0\n",
       "63839    368.0\n",
       "42805     68.0\n",
       "37912    370.0\n",
       "46652    117.0\n",
       "Name: Credit_History_Age, dtype: float64"
      ]
     },
     "execution_count": 21,
     "metadata": {},
     "output_type": "execute_result"
    }
   ],
   "source": [
    "# Coluna convertida em total de meses\n",
    "\n",
    "X_train['Credit_History_Age'].head()"
   ]
  },
  {
   "cell_type": "markdown",
   "id": "3aa319bd-d6ee-4466-8d39-e1ec62dcc074",
   "metadata": {},
   "source": [
    "# 3. Pipeline de transformação"
   ]
  },
  {
   "cell_type": "markdown",
   "id": "a56b9f58-4adb-4ebd-844b-73bcfcd961c9",
   "metadata": {},
   "source": [
    "* Dados numéricos: substituir ausentes pela média;\n",
    "\n",
    "* Dados categórios: substituir ausentes por \"missing\" e passar o TargetEncoder;\n",
    "\n",
    "* Todas: MinMaxScaler."
   ]
  },
  {
   "cell_type": "markdown",
   "id": "fd397c9e-fc20-4c1a-9f1c-7d5d987c0eb3",
   "metadata": {},
   "source": [
    "### 3.1 Variáveis numéricas"
   ]
  },
  {
   "cell_type": "code",
   "execution_count": 22,
   "id": "4a850e91-cb9e-49b1-9b19-f7d7782eb2fa",
   "metadata": {},
   "outputs": [
    {
     "data": {
      "text/plain": [
       "15"
      ]
     },
     "execution_count": 22,
     "metadata": {},
     "output_type": "execute_result"
    }
   ],
   "source": [
    "# Selecionando as variáveis numéricas\n",
    "\n",
    "numeric_features = X_train.select_dtypes([int,float]).columns.tolist()\n",
    "len(numeric_features)"
   ]
  },
  {
   "cell_type": "markdown",
   "id": "40d7480f-a092-4abc-bf95-6b9dae210c9a",
   "metadata": {},
   "source": [
    "Transformação: substituir numéricos ausentes pela média com `SimpleImputer`"
   ]
  },
  {
   "cell_type": "code",
   "execution_count": 23,
   "id": "5e55bf0a-56a4-4767-b14c-5803a18a0355",
   "metadata": {},
   "outputs": [],
   "source": [
    "# Criando um imputador numérico (transformer)\n",
    "\n",
    "numeric_transformer = Pipeline(steps=[\n",
    "    ('imputer', SimpleImputer(strategy='mean'))])"
   ]
  },
  {
   "cell_type": "markdown",
   "id": "b21e00c9-da87-449c-a755-c95712f0396c",
   "metadata": {},
   "source": [
    "### 3.2 Variáveis categóricas"
   ]
  },
  {
   "cell_type": "code",
   "execution_count": 24,
   "id": "81238741-dcc4-44ae-a5ba-4fbc73e22b5d",
   "metadata": {},
   "outputs": [
    {
     "data": {
      "text/plain": [
       "6"
      ]
     },
     "execution_count": 24,
     "metadata": {},
     "output_type": "execute_result"
    }
   ],
   "source": [
    "# Selecionando as variáveis categóricas\n",
    "\n",
    "categorical_features = X_train.select_dtypes([object]).columns.tolist()\n",
    "len(categorical_features)"
   ]
  },
  {
   "cell_type": "markdown",
   "id": "49bf299c-99d9-4ad9-a489-8d1337abe3dd",
   "metadata": {},
   "source": [
    "* Transformação: substituir dados categóricos ausentes por \"missing\" com o `SimpleImputer`\n",
    "* Usar o `Target Encoder` para codificar as variáveis categóricas com base na média do target"
   ]
  },
  {
   "cell_type": "code",
   "execution_count": 25,
   "id": "bb2d8585-b712-487b-8c07-d9854d5ac6e8",
   "metadata": {},
   "outputs": [],
   "source": [
    "# Criando um imputador categórico (transformer)\n",
    "\n",
    "categorical_transformer = Pipeline(steps=[\n",
    "    ('imputer', SimpleImputer(strategy='constant', fill_value='missing')),\n",
    "    ('encoder', TargetEncoder())])"
   ]
  },
  {
   "cell_type": "markdown",
   "id": "47c4fae8-8663-4e81-9bfb-4b907ce6e117",
   "metadata": {},
   "source": [
    "### 3.3 Transformações"
   ]
  },
  {
   "cell_type": "markdown",
   "id": "b323650e-2770-4ebe-b337-e515c7a70e14",
   "metadata": {},
   "source": [
    "Aplicação de transformações específicas das variáveis categóricas e numéricas com o `ColumnTransformer`"
   ]
  },
  {
   "cell_type": "code",
   "execution_count": 26,
   "id": "853d86cf-0bc0-4969-a9bf-fa5c2dd8e447",
   "metadata": {},
   "outputs": [],
   "source": [
    "# Aplicando os transformadores (num e cat)\n",
    "\n",
    "preprocessor = ColumnTransformer(\n",
    "    transformers=[\n",
    "        ('num', numeric_transformer, numeric_features),\n",
    "        ('cat', categorical_transformer, categorical_features)])"
   ]
  },
  {
   "cell_type": "markdown",
   "id": "74cf312a-86fe-4be3-8ea1-14d88e3af4ac",
   "metadata": {},
   "source": [
    "**Pipeline final:**\n",
    "\n",
    "* Pré-processamento das variáveis (numéricas e categóricas) usando o preprocessor citado acima.\n",
    "* Escalonamento dos dados para o intervalo [0, 1] usando o `MinMaxScaler`."
   ]
  },
  {
   "cell_type": "code",
   "execution_count": 27,
   "id": "228121e2-881d-464c-ae47-e1dd58d7d04f",
   "metadata": {},
   "outputs": [],
   "source": [
    "# Pipeline final\n",
    "\n",
    "pipeline_tr = Pipeline(steps=[\n",
    "    ('Preprocessor', preprocessor),\n",
    "    ('MinMax', MinMaxScaler())\n",
    "]).set_output(transform='pandas')"
   ]
  },
  {
   "cell_type": "code",
   "execution_count": 28,
   "id": "a5c43e1f-ad52-4714-8dc1-e7118fce8459",
   "metadata": {},
   "outputs": [],
   "source": [
    "# Aplicando as transformações separadamente nos dados de treino e de teste\n",
    "\n",
    "X_train_transformed = pipeline_tr.fit_transform(X_train, y_train)\n",
    "X_test_transformed = pipeline_tr.transform(X_test)"
   ]
  },
  {
   "cell_type": "code",
   "execution_count": 29,
   "id": "9a4afd0b-bf12-486f-9377-bc7b0dfa29a8",
   "metadata": {},
   "outputs": [
    {
     "data": {
      "text/html": [
       "<div>\n",
       "<style scoped>\n",
       "    .dataframe tbody tr th:only-of-type {\n",
       "        vertical-align: middle;\n",
       "    }\n",
       "\n",
       "    .dataframe tbody tr th {\n",
       "        vertical-align: top;\n",
       "    }\n",
       "\n",
       "    .dataframe thead th {\n",
       "        text-align: right;\n",
       "    }\n",
       "</style>\n",
       "<table border=\"1\" class=\"dataframe\">\n",
       "  <thead>\n",
       "    <tr style=\"text-align: right;\">\n",
       "      <th></th>\n",
       "      <th>num__Age</th>\n",
       "      <th>num__Annual_Income</th>\n",
       "      <th>num__Monthly_Inhand_Salary</th>\n",
       "      <th>num__Num_Bank_Accounts</th>\n",
       "      <th>num__Num_Credit_Card</th>\n",
       "      <th>num__Interest_Rate</th>\n",
       "      <th>num__Num_of_Loan</th>\n",
       "      <th>num__Changed_Credit_Limit</th>\n",
       "      <th>num__Num_Credit_Inquiries</th>\n",
       "      <th>num__Outstanding_Debt</th>\n",
       "      <th>...</th>\n",
       "      <th>num__Credit_History_Age</th>\n",
       "      <th>num__Total_EMI_per_month</th>\n",
       "      <th>num__Amount_invested_monthly</th>\n",
       "      <th>num__Monthly_Balance</th>\n",
       "      <th>cat__Month</th>\n",
       "      <th>cat__Occupation</th>\n",
       "      <th>cat__Type_of_Loan</th>\n",
       "      <th>cat__Credit_Mix</th>\n",
       "      <th>cat__Payment_of_Min_Amount</th>\n",
       "      <th>cat__Payment_Behaviour</th>\n",
       "    </tr>\n",
       "  </thead>\n",
       "  <tbody>\n",
       "    <tr>\n",
       "      <th>60844</th>\n",
       "      <td>0.141176</td>\n",
       "      <td>0.246939</td>\n",
       "      <td>0.240899</td>\n",
       "      <td>0.015837</td>\n",
       "      <td>0.005910</td>\n",
       "      <td>0.006613</td>\n",
       "      <td>0.917431</td>\n",
       "      <td>0.336171</td>\n",
       "      <td>0.003470</td>\n",
       "      <td>0.104952</td>\n",
       "      <td>...</td>\n",
       "      <td>0.531017</td>\n",
       "      <td>0.000000</td>\n",
       "      <td>0.047113</td>\n",
       "      <td>1.0</td>\n",
       "      <td>0.897317</td>\n",
       "      <td>0.818440</td>\n",
       "      <td>0.149342</td>\n",
       "      <td>0.123962</td>\n",
       "      <td>0.610979</td>\n",
       "      <td>1.000000</td>\n",
       "    </tr>\n",
       "    <tr>\n",
       "      <th>63839</th>\n",
       "      <td>0.482353</td>\n",
       "      <td>0.041447</td>\n",
       "      <td>0.081010</td>\n",
       "      <td>0.002262</td>\n",
       "      <td>0.004728</td>\n",
       "      <td>0.002436</td>\n",
       "      <td>0.917431</td>\n",
       "      <td>0.388032</td>\n",
       "      <td>0.001542</td>\n",
       "      <td>0.110783</td>\n",
       "      <td>...</td>\n",
       "      <td>0.910670</td>\n",
       "      <td>0.000000</td>\n",
       "      <td>0.010716</td>\n",
       "      <td>1.0</td>\n",
       "      <td>0.169958</td>\n",
       "      <td>0.580526</td>\n",
       "      <td>0.149342</td>\n",
       "      <td>0.000000</td>\n",
       "      <td>0.000000</td>\n",
       "      <td>1.000000</td>\n",
       "    </tr>\n",
       "    <tr>\n",
       "      <th>42805</th>\n",
       "      <td>0.129412</td>\n",
       "      <td>0.066472</td>\n",
       "      <td>0.093704</td>\n",
       "      <td>0.018100</td>\n",
       "      <td>0.003546</td>\n",
       "      <td>0.006613</td>\n",
       "      <td>0.944954</td>\n",
       "      <td>0.275656</td>\n",
       "      <td>0.005012</td>\n",
       "      <td>0.402238</td>\n",
       "      <td>...</td>\n",
       "      <td>0.166253</td>\n",
       "      <td>0.000795</td>\n",
       "      <td>0.004060</td>\n",
       "      <td>1.0</td>\n",
       "      <td>1.000000</td>\n",
       "      <td>0.580526</td>\n",
       "      <td>0.489989</td>\n",
       "      <td>0.289470</td>\n",
       "      <td>0.610979</td>\n",
       "      <td>0.365552</td>\n",
       "    </tr>\n",
       "    <tr>\n",
       "      <th>37912</th>\n",
       "      <td>0.305882</td>\n",
       "      <td>0.327573</td>\n",
       "      <td>0.319259</td>\n",
       "      <td>0.013575</td>\n",
       "      <td>0.005910</td>\n",
       "      <td>0.002436</td>\n",
       "      <td>0.935780</td>\n",
       "      <td>0.533364</td>\n",
       "      <td>0.001928</td>\n",
       "      <td>0.296368</td>\n",
       "      <td>...</td>\n",
       "      <td>0.915633</td>\n",
       "      <td>0.001405</td>\n",
       "      <td>0.030220</td>\n",
       "      <td>1.0</td>\n",
       "      <td>0.291172</td>\n",
       "      <td>0.575904</td>\n",
       "      <td>0.322103</td>\n",
       "      <td>0.289470</td>\n",
       "      <td>1.000000</td>\n",
       "      <td>0.444570</td>\n",
       "    </tr>\n",
       "    <tr>\n",
       "      <th>46652</th>\n",
       "      <td>0.011765</td>\n",
       "      <td>0.074274</td>\n",
       "      <td>0.093475</td>\n",
       "      <td>0.009050</td>\n",
       "      <td>0.005910</td>\n",
       "      <td>0.005569</td>\n",
       "      <td>0.963303</td>\n",
       "      <td>0.497009</td>\n",
       "      <td>0.001542</td>\n",
       "      <td>0.102885</td>\n",
       "      <td>...</td>\n",
       "      <td>0.287841</td>\n",
       "      <td>0.001382</td>\n",
       "      <td>0.010276</td>\n",
       "      <td>1.0</td>\n",
       "      <td>0.897317</td>\n",
       "      <td>0.580526</td>\n",
       "      <td>0.520808</td>\n",
       "      <td>0.123962</td>\n",
       "      <td>1.000000</td>\n",
       "      <td>0.444570</td>\n",
       "    </tr>\n",
       "  </tbody>\n",
       "</table>\n",
       "<p>5 rows × 21 columns</p>\n",
       "</div>"
      ],
      "text/plain": [
       "       num__Age  num__Annual_Income  num__Monthly_Inhand_Salary  \\\n",
       "60844  0.141176            0.246939                    0.240899   \n",
       "63839  0.482353            0.041447                    0.081010   \n",
       "42805  0.129412            0.066472                    0.093704   \n",
       "37912  0.305882            0.327573                    0.319259   \n",
       "46652  0.011765            0.074274                    0.093475   \n",
       "\n",
       "       num__Num_Bank_Accounts  num__Num_Credit_Card  num__Interest_Rate  \\\n",
       "60844                0.015837              0.005910            0.006613   \n",
       "63839                0.002262              0.004728            0.002436   \n",
       "42805                0.018100              0.003546            0.006613   \n",
       "37912                0.013575              0.005910            0.002436   \n",
       "46652                0.009050              0.005910            0.005569   \n",
       "\n",
       "       num__Num_of_Loan  num__Changed_Credit_Limit  num__Num_Credit_Inquiries  \\\n",
       "60844          0.917431                   0.336171                   0.003470   \n",
       "63839          0.917431                   0.388032                   0.001542   \n",
       "42805          0.944954                   0.275656                   0.005012   \n",
       "37912          0.935780                   0.533364                   0.001928   \n",
       "46652          0.963303                   0.497009                   0.001542   \n",
       "\n",
       "       num__Outstanding_Debt  ...  num__Credit_History_Age  \\\n",
       "60844               0.104952  ...                 0.531017   \n",
       "63839               0.110783  ...                 0.910670   \n",
       "42805               0.402238  ...                 0.166253   \n",
       "37912               0.296368  ...                 0.915633   \n",
       "46652               0.102885  ...                 0.287841   \n",
       "\n",
       "       num__Total_EMI_per_month  num__Amount_invested_monthly  \\\n",
       "60844                  0.000000                      0.047113   \n",
       "63839                  0.000000                      0.010716   \n",
       "42805                  0.000795                      0.004060   \n",
       "37912                  0.001405                      0.030220   \n",
       "46652                  0.001382                      0.010276   \n",
       "\n",
       "       num__Monthly_Balance  cat__Month  cat__Occupation  cat__Type_of_Loan  \\\n",
       "60844                   1.0    0.897317         0.818440           0.149342   \n",
       "63839                   1.0    0.169958         0.580526           0.149342   \n",
       "42805                   1.0    1.000000         0.580526           0.489989   \n",
       "37912                   1.0    0.291172         0.575904           0.322103   \n",
       "46652                   1.0    0.897317         0.580526           0.520808   \n",
       "\n",
       "       cat__Credit_Mix  cat__Payment_of_Min_Amount  cat__Payment_Behaviour  \n",
       "60844         0.123962                    0.610979                1.000000  \n",
       "63839         0.000000                    0.000000                1.000000  \n",
       "42805         0.289470                    0.610979                0.365552  \n",
       "37912         0.289470                    1.000000                0.444570  \n",
       "46652         0.123962                    1.000000                0.444570  \n",
       "\n",
       "[5 rows x 21 columns]"
      ]
     },
     "execution_count": 29,
     "metadata": {},
     "output_type": "execute_result"
    }
   ],
   "source": [
    "# Base de dados final\n",
    "\n",
    "X_train_transformed.head()"
   ]
  },
  {
   "cell_type": "markdown",
   "id": "9f217271-9fff-4d6f-a0d5-33b2ccad6717",
   "metadata": {},
   "source": [
    "# Salvando as bases"
   ]
  },
  {
   "cell_type": "code",
   "execution_count": 30,
   "id": "0f21ccbd-16f0-4062-bc2b-efd1fb8c3a31",
   "metadata": {},
   "outputs": [],
   "source": [
    "import os\n",
    "\n",
    "# Criando a pasta de output\n",
    "\n",
    "os.makedirs('outputs', exist_ok=True)\n",
    "\n",
    "# Salvando as bases\n",
    "X_train_transformed.to_csv('outputs/X_train_transformed.csv', index=False)\n",
    "X_test_transformed.to_csv('outputs/X_test_transformed.csv', index=False)\n",
    "y_train.to_csv('outputs/y_train.csv', index=False)\n",
    "y_test.to_csv('outputs/y_test.csv', index=False)"
   ]
  }
 ],
 "metadata": {
  "kernelspec": {
   "display_name": "Python 3 (ipykernel)",
   "language": "python",
   "name": "python3"
  },
  "language_info": {
   "codemirror_mode": {
    "name": "ipython",
    "version": 3
   },
   "file_extension": ".py",
   "mimetype": "text/x-python",
   "name": "python",
   "nbconvert_exporter": "python",
   "pygments_lexer": "ipython3",
   "version": "3.12.3"
  }
 },
 "nbformat": 4,
 "nbformat_minor": 5
}
