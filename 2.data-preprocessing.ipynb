{
 "cells": [
  {
   "cell_type": "markdown",
   "id": "2bd380a4-a4c7-42d5-82d2-2f107d19daa6",
   "metadata": {},
   "source": [
    "# Organização da Pipeline de pré-processamento"
   ]
  },
  {
   "cell_type": "markdown",
   "id": "e34e98c4-4fac-42e7-8aae-a6ec37c712aa",
   "metadata": {},
   "source": [
    "A definição dos tratamentos e transformações dos dados foi realizada com base nos insights extraídos durante a análise exploratória (EDA). Para otimizar essa etapa, foi utilizada uma [planilha de organização](https://docs.google.com/spreadsheets/d/12IVVANl1VLA55f7QB15Y_hmrT_lGEXov8IsCHVvneR0/edit?usp=sharing), que ajudou a planejar os tratamentos e transformações necessários em cada variável.\n",
    "\n",
    "Com o objetivo de melhorar a reprodutibilidade e escalabilidade do processo, foram desenvolvidas duas pipelines separadas: Pipeline de Tratamento e Pipeline de Transformação. Essas pipelines foram aplicadas separadamente no conjunto de treino e de teste para evitar o risco de data leakage.\n",
    "\n",
    "### Pipeline de tratamento:\n",
    "\n",
    "Realizada para sanar problemas de ausência de engenharia de dados. Nessa pipeline, foi buscado resolver os seguintes problemas:\n",
    "\n",
    "* Remoção de colunas desconsideradas para o modelo\n",
    "* Remover underscore e espaços vazios\n",
    "* Transformar dados nos tipos corretos\n",
    "* Tratar outliers\n",
    "* Feature engineering: converter a variável categórica `Credit_History_Age` (tempo total de histórico de crédito do cliente) no total de meses.\n",
    "\n",
    "### Pipeline de transformação:\n",
    "\n",
    "Realizada para preparar os dados para os diferentes modelos de machine learning.\n",
    "\n",
    "* Dados numéricos: substituir dados ausentes pela média\n",
    "* Dados categóricos: substituir ausentes por \"missing\"\n",
    "* Dados categóricos (encoder): passar um encoder (ex: Target Encoder)\n",
    "* Todas as variáveis (scale): passar um scaler (ex: MinMax ou Robust Scaler)"
   ]
  },
  {
   "cell_type": "markdown",
   "id": "894259b2-97a2-4411-8625-f215581305f4",
   "metadata": {},
   "source": [
    "# Bibliotecas"
   ]
  },
  {
   "cell_type": "code",
   "execution_count": 1,
   "id": "53018978-fe30-4913-a8e8-94311aa83e7a",
   "metadata": {},
   "outputs": [],
   "source": [
    "# Data manipulation\n",
    "\n",
    "import pandas as pd\n",
    "import numpy as np\n",
    "\n",
    "# Data viz\n",
    "\n",
    "import matplotlib.pyplot as plt\n",
    "import seaborn as sns\n",
    "\n",
    "# ML\n",
    "\n",
    "from sklearn.model_selection import train_test_split"
   ]
  },
  {
   "cell_type": "markdown",
   "id": "c5013f5e-487c-4839-bcfe-c1ac532ca3de",
   "metadata": {},
   "source": [
    "# 1. Importação dos dados"
   ]
  },
  {
   "cell_type": "code",
   "execution_count": 2,
   "id": "b8afbabc-6cdf-442c-bcef-ddf0d5818671",
   "metadata": {},
   "outputs": [],
   "source": [
    "df = pd.read_csv('data/train.csv', low_memory=False)"
   ]
  },
  {
   "cell_type": "markdown",
   "id": "b6c650c6-a3c4-4640-ac04-d0b48c377265",
   "metadata": {},
   "source": [
    "**OBS (1):** nos dados de teste há uma variável a menos, que é a 'Credit_Score', inicialmente definida como o target.  \n",
    "**OBS (2):** o alvo da base de dados era a variável Credit_Score, que consiste na pontuação de crédito do cliente. Nessa classificação, haviam indivíduos classificados como: Poor, Standard e Good. Para deixar o problema ainda mais próximo do proposto na concessão de crédito, optou-se por modificar as classes, como indicado abaixo.  \n",
    "\n",
    "* Clientes classificados como `Poor` ➡ `Classe 1` (maus pagadores)  \n",
    "* Clientes classifiados como `Standard` ➡ `Classe 0` (bons pagadores)  \n",
    "* Clientes classifiados como `Good` ➡ `Classe 0` (bons pagadores)\n",
    "\n",
    "**OBS (3):** o objetivo original da base de dados era prever a variável Credit_Score, que reflete a pontuação de crédito do cliente, com base em variáveis como comportamento de pagamento e dívida pendente. No entanto, o foco foi ajustado para classificar futuros clientes em bons ou maus pagadores, visando prevenir inadimplências durante o processo de concessão de crédito. As variáveis relacionadas ao comportamento dos clientes, que já constavam na base de dados, foram consideradas como informações complementares, hipoteticamente fornecidas por outro birô de crédito (ex: Serasa, SPC, etc)."
   ]
  },
  {
   "cell_type": "code",
   "execution_count": 3,
   "id": "aa240dde-e6cf-43fe-98d9-26d00ea17289",
   "metadata": {},
   "outputs": [],
   "source": [
    "# Modificando as classes para bons e maus pagadores\n",
    "\n",
    "df['target'] = df['Credit_Score'].apply(lambda x: 1 if x == 'Poor' else 0)\n",
    "df = df.drop('Credit_Score', axis=1)"
   ]
  },
  {
   "cell_type": "code",
   "execution_count": 4,
   "id": "69ffbc7b-a030-468e-bd12-b2cc4f3e1f04",
   "metadata": {},
   "outputs": [
    {
     "data": {
      "text/html": [
       "<div>\n",
       "<style scoped>\n",
       "    .dataframe tbody tr th:only-of-type {\n",
       "        vertical-align: middle;\n",
       "    }\n",
       "\n",
       "    .dataframe tbody tr th {\n",
       "        vertical-align: top;\n",
       "    }\n",
       "\n",
       "    .dataframe thead th {\n",
       "        text-align: right;\n",
       "    }\n",
       "</style>\n",
       "<table border=\"1\" class=\"dataframe\">\n",
       "  <thead>\n",
       "    <tr style=\"text-align: right;\">\n",
       "      <th></th>\n",
       "      <th>ID</th>\n",
       "      <th>Customer_ID</th>\n",
       "      <th>Month</th>\n",
       "      <th>Name</th>\n",
       "      <th>Age</th>\n",
       "      <th>SSN</th>\n",
       "      <th>Occupation</th>\n",
       "      <th>Annual_Income</th>\n",
       "      <th>Monthly_Inhand_Salary</th>\n",
       "      <th>Num_Bank_Accounts</th>\n",
       "      <th>...</th>\n",
       "      <th>Credit_Mix</th>\n",
       "      <th>Outstanding_Debt</th>\n",
       "      <th>Credit_Utilization_Ratio</th>\n",
       "      <th>Credit_History_Age</th>\n",
       "      <th>Payment_of_Min_Amount</th>\n",
       "      <th>Total_EMI_per_month</th>\n",
       "      <th>Amount_invested_monthly</th>\n",
       "      <th>Payment_Behaviour</th>\n",
       "      <th>Monthly_Balance</th>\n",
       "      <th>target</th>\n",
       "    </tr>\n",
       "  </thead>\n",
       "  <tbody>\n",
       "    <tr>\n",
       "      <th>0</th>\n",
       "      <td>0x1602</td>\n",
       "      <td>CUS_0xd40</td>\n",
       "      <td>January</td>\n",
       "      <td>Aaron Maashoh</td>\n",
       "      <td>23</td>\n",
       "      <td>821-00-0265</td>\n",
       "      <td>Scientist</td>\n",
       "      <td>19114.12</td>\n",
       "      <td>1824.843333</td>\n",
       "      <td>3</td>\n",
       "      <td>...</td>\n",
       "      <td>_</td>\n",
       "      <td>809.98</td>\n",
       "      <td>26.822620</td>\n",
       "      <td>22 Years and 1 Months</td>\n",
       "      <td>No</td>\n",
       "      <td>49.574949</td>\n",
       "      <td>80.41529543900253</td>\n",
       "      <td>High_spent_Small_value_payments</td>\n",
       "      <td>312.49408867943663</td>\n",
       "      <td>0</td>\n",
       "    </tr>\n",
       "    <tr>\n",
       "      <th>1</th>\n",
       "      <td>0x1603</td>\n",
       "      <td>CUS_0xd40</td>\n",
       "      <td>February</td>\n",
       "      <td>Aaron Maashoh</td>\n",
       "      <td>23</td>\n",
       "      <td>821-00-0265</td>\n",
       "      <td>Scientist</td>\n",
       "      <td>19114.12</td>\n",
       "      <td>NaN</td>\n",
       "      <td>3</td>\n",
       "      <td>...</td>\n",
       "      <td>Good</td>\n",
       "      <td>809.98</td>\n",
       "      <td>31.944960</td>\n",
       "      <td>NaN</td>\n",
       "      <td>No</td>\n",
       "      <td>49.574949</td>\n",
       "      <td>118.28022162236736</td>\n",
       "      <td>Low_spent_Large_value_payments</td>\n",
       "      <td>284.62916249607184</td>\n",
       "      <td>0</td>\n",
       "    </tr>\n",
       "    <tr>\n",
       "      <th>2</th>\n",
       "      <td>0x1604</td>\n",
       "      <td>CUS_0xd40</td>\n",
       "      <td>March</td>\n",
       "      <td>Aaron Maashoh</td>\n",
       "      <td>-500</td>\n",
       "      <td>821-00-0265</td>\n",
       "      <td>Scientist</td>\n",
       "      <td>19114.12</td>\n",
       "      <td>NaN</td>\n",
       "      <td>3</td>\n",
       "      <td>...</td>\n",
       "      <td>Good</td>\n",
       "      <td>809.98</td>\n",
       "      <td>28.609352</td>\n",
       "      <td>22 Years and 3 Months</td>\n",
       "      <td>No</td>\n",
       "      <td>49.574949</td>\n",
       "      <td>81.699521264648</td>\n",
       "      <td>Low_spent_Medium_value_payments</td>\n",
       "      <td>331.2098628537912</td>\n",
       "      <td>0</td>\n",
       "    </tr>\n",
       "    <tr>\n",
       "      <th>3</th>\n",
       "      <td>0x1605</td>\n",
       "      <td>CUS_0xd40</td>\n",
       "      <td>April</td>\n",
       "      <td>Aaron Maashoh</td>\n",
       "      <td>23</td>\n",
       "      <td>821-00-0265</td>\n",
       "      <td>Scientist</td>\n",
       "      <td>19114.12</td>\n",
       "      <td>NaN</td>\n",
       "      <td>3</td>\n",
       "      <td>...</td>\n",
       "      <td>Good</td>\n",
       "      <td>809.98</td>\n",
       "      <td>31.377862</td>\n",
       "      <td>22 Years and 4 Months</td>\n",
       "      <td>No</td>\n",
       "      <td>49.574949</td>\n",
       "      <td>199.4580743910713</td>\n",
       "      <td>Low_spent_Small_value_payments</td>\n",
       "      <td>223.45130972736786</td>\n",
       "      <td>0</td>\n",
       "    </tr>\n",
       "    <tr>\n",
       "      <th>4</th>\n",
       "      <td>0x1606</td>\n",
       "      <td>CUS_0xd40</td>\n",
       "      <td>May</td>\n",
       "      <td>Aaron Maashoh</td>\n",
       "      <td>23</td>\n",
       "      <td>821-00-0265</td>\n",
       "      <td>Scientist</td>\n",
       "      <td>19114.12</td>\n",
       "      <td>1824.843333</td>\n",
       "      <td>3</td>\n",
       "      <td>...</td>\n",
       "      <td>Good</td>\n",
       "      <td>809.98</td>\n",
       "      <td>24.797347</td>\n",
       "      <td>22 Years and 5 Months</td>\n",
       "      <td>No</td>\n",
       "      <td>49.574949</td>\n",
       "      <td>41.420153086217326</td>\n",
       "      <td>High_spent_Medium_value_payments</td>\n",
       "      <td>341.48923103222177</td>\n",
       "      <td>0</td>\n",
       "    </tr>\n",
       "  </tbody>\n",
       "</table>\n",
       "<p>5 rows × 28 columns</p>\n",
       "</div>"
      ],
      "text/plain": [
       "       ID Customer_ID     Month           Name   Age          SSN Occupation  \\\n",
       "0  0x1602   CUS_0xd40   January  Aaron Maashoh    23  821-00-0265  Scientist   \n",
       "1  0x1603   CUS_0xd40  February  Aaron Maashoh    23  821-00-0265  Scientist   \n",
       "2  0x1604   CUS_0xd40     March  Aaron Maashoh  -500  821-00-0265  Scientist   \n",
       "3  0x1605   CUS_0xd40     April  Aaron Maashoh    23  821-00-0265  Scientist   \n",
       "4  0x1606   CUS_0xd40       May  Aaron Maashoh    23  821-00-0265  Scientist   \n",
       "\n",
       "  Annual_Income  Monthly_Inhand_Salary  Num_Bank_Accounts  ...  Credit_Mix  \\\n",
       "0      19114.12            1824.843333                  3  ...           _   \n",
       "1      19114.12                    NaN                  3  ...        Good   \n",
       "2      19114.12                    NaN                  3  ...        Good   \n",
       "3      19114.12                    NaN                  3  ...        Good   \n",
       "4      19114.12            1824.843333                  3  ...        Good   \n",
       "\n",
       "   Outstanding_Debt Credit_Utilization_Ratio     Credit_History_Age  \\\n",
       "0            809.98                26.822620  22 Years and 1 Months   \n",
       "1            809.98                31.944960                    NaN   \n",
       "2            809.98                28.609352  22 Years and 3 Months   \n",
       "3            809.98                31.377862  22 Years and 4 Months   \n",
       "4            809.98                24.797347  22 Years and 5 Months   \n",
       "\n",
       "   Payment_of_Min_Amount Total_EMI_per_month Amount_invested_monthly  \\\n",
       "0                     No           49.574949       80.41529543900253   \n",
       "1                     No           49.574949      118.28022162236736   \n",
       "2                     No           49.574949         81.699521264648   \n",
       "3                     No           49.574949       199.4580743910713   \n",
       "4                     No           49.574949      41.420153086217326   \n",
       "\n",
       "                  Payment_Behaviour     Monthly_Balance target  \n",
       "0   High_spent_Small_value_payments  312.49408867943663      0  \n",
       "1    Low_spent_Large_value_payments  284.62916249607184      0  \n",
       "2   Low_spent_Medium_value_payments   331.2098628537912      0  \n",
       "3    Low_spent_Small_value_payments  223.45130972736786      0  \n",
       "4  High_spent_Medium_value_payments  341.48923103222177      0  \n",
       "\n",
       "[5 rows x 28 columns]"
      ]
     },
     "execution_count": 4,
     "metadata": {},
     "output_type": "execute_result"
    }
   ],
   "source": [
    "# Base de dados adaptada\n",
    "\n",
    "df.head()"
   ]
  },
  {
   "cell_type": "markdown",
   "id": "6bbc6d48-3b24-4073-bf28-c7177ddbc9d1",
   "metadata": {},
   "source": [
    "# 2. Split dos dados"
   ]
  },
  {
   "cell_type": "code",
   "execution_count": 5,
   "id": "3ed7f301-49c1-4e9f-bbad-5e7d29a6fd1e",
   "metadata": {},
   "outputs": [],
   "source": [
    "X = df.drop('target', axis=1)\n",
    "y = df['target']"
   ]
  },
  {
   "cell_type": "code",
   "execution_count": 6,
   "id": "8d6e9727-dc04-468e-95af-20944a20fa5e",
   "metadata": {},
   "outputs": [],
   "source": [
    "X_train, X_test, y_train, y_test = train_test_split(X, y, test_size=0.20, random_state=42, stratify=y)"
   ]
  },
  {
   "cell_type": "code",
   "execution_count": 7,
   "id": "e24a0d39-688e-4902-b8d4-5d957dd7c7f9",
   "metadata": {},
   "outputs": [
    {
     "data": {
      "text/plain": [
       "(80000, 27)"
      ]
     },
     "execution_count": 7,
     "metadata": {},
     "output_type": "execute_result"
    }
   ],
   "source": [
    "# Dimensionalidade dos dados de treino\n",
    "\n",
    "X_train.shape"
   ]
  },
  {
   "cell_type": "code",
   "execution_count": 8,
   "id": "b21cb48e-2af2-4b10-be0b-be1315cce405",
   "metadata": {},
   "outputs": [
    {
     "data": {
      "text/plain": [
       "(20000, 27)"
      ]
     },
     "execution_count": 8,
     "metadata": {},
     "output_type": "execute_result"
    }
   ],
   "source": [
    "# Dimensionalidade dos dados de teste\n",
    "\n",
    "X_test.shape"
   ]
  },
  {
   "cell_type": "markdown",
   "id": "6c76f8ca-a65e-45b8-badd-e3e614bb8c76",
   "metadata": {},
   "source": [
    "# 2. Pipeline de tratamento"
   ]
  },
  {
   "cell_type": "code",
   "execution_count": 9,
   "id": "2e5f5e37-585f-437b-860f-1ec37f4c7408",
   "metadata": {},
   "outputs": [
    {
     "name": "stdout",
     "output_type": "stream",
     "text": [
      "Total de colunas: 21\n"
     ]
    }
   ],
   "source": [
    "# Remoção de colunas desnecessárias\n",
    "\n",
    "def drop_variaveis(df):\n",
    "    lista_variaveis = ['ID', 'Customer_ID', 'SSN', 'Name', 'Delay_from_due_date', 'Num_of_Delayed_Payment']\n",
    "    return df.drop(columns=lista_variaveis, axis=1)\n",
    "\n",
    "X_train = drop_variaveis(X_train)\n",
    "X_test = drop_variaveis(X_test)\n",
    "\n",
    "print(f'Total de colunas: {X_test.shape[1]}')"
   ]
  },
  {
   "cell_type": "code",
   "execution_count": 10,
   "id": "0f949a9e-768b-492c-9fce-09d0739c32bb",
   "metadata": {},
   "outputs": [],
   "source": [
    "# Tratamento de NaNs e conversão de dados\n",
    "\n",
    "col_treat_num = ['Age','Num_Bank_Accounts','Num_Credit_Card', 'Interest_Rate', 'Num_of_Loan','Num_Credit_Inquiries','Annual_Income',\n",
    "                 'Monthly_Inhand_Salary','Changed_Credit_Limit', 'Outstanding_Debt', 'Credit_Utilization_Ratio', 'Total_EMI_per_month',\n",
    "                 'Amount_invested_monthly', 'Monthly_Balance']\n",
    "\n",
    "\n",
    "def tratar_dados(df, colunas):\n",
    "    # Passa todas as features para object; todas as que possuem caractere != número são substituídas por NaN; depois passa todas para float\n",
    "    \n",
    "    df[colunas] = df[colunas].astype('object')\n",
    "    \n",
    "    for col in colunas:\n",
    "        # Converte os valores para string para aplicar a substituição de caracteres\n",
    "        df[col] = df[col].astype(str).replace(r'[^0-9.-]', '', regex=True)\n",
    "        # Converte a coluna para float, transformando valores inválidos em NaN\n",
    "        df[col] = pd.to_numeric(df[col], errors='coerce')\n",
    "    \n",
    "    return df\n",
    "\n",
    "\n",
    "X_train = tratar_dados(X_train, col_treat_num)\n",
    "X_test = tratar_dados(X_test, col_treat_num)"
   ]
  },
  {
   "cell_type": "markdown",
   "id": "63513d68-213b-4434-8465-4ce89c25ae54",
   "metadata": {},
   "source": [
    "#### Outliers\n",
    "\n",
    "* Para cada variável numérica do dataset, foram calculados os percentis 1 e 99;\n",
    "* Valores de uma observação maiores que o percentil 99 da variável, foram substituídos pelo valor do percentil 99;\n",
    "* Valores de uma observação menores que o percentil 1 da variável, foram substituídos pelo valor do percentil 1\n",
    "  \n",
    "Esse processo limitou a influência de valores extremos sem removê-los, preservando a integridade do dataset."
   ]
  },
  {
   "cell_type": "code",
   "execution_count": 11,
   "id": "5e4de0c4-5d95-4ec5-b03b-38a8d48ee9bc",
   "metadata": {},
   "outputs": [
    {
     "name": "stdout",
     "output_type": "stream",
     "text": [
      "Coluna: Age\n",
      "Mínimo: -500\n",
      "Máximo: 8698\n",
      "------------------------------\n",
      "Coluna: Annual_Income\n",
      "Mínimo: 7005.93\n",
      "Máximo: 24177153.0\n",
      "------------------------------\n",
      "Coluna: Monthly_Inhand_Salary\n",
      "Mínimo: 303.6454166666666\n",
      "Máximo: 15204.633333333331\n",
      "------------------------------\n",
      "Coluna: Num_Bank_Accounts\n",
      "Mínimo: -1\n",
      "Máximo: 1798\n",
      "------------------------------\n",
      "Coluna: Num_Credit_Card\n",
      "Mínimo: 0\n",
      "Máximo: 1499\n",
      "------------------------------\n",
      "Coluna: Interest_Rate\n",
      "Mínimo: 1\n",
      "Máximo: 5797\n",
      "------------------------------\n",
      "Coluna: Num_of_Loan\n",
      "Mínimo: -100\n",
      "Máximo: 1496\n",
      "------------------------------\n",
      "Coluna: Changed_Credit_Limit\n",
      "Mínimo: -6.49\n",
      "Máximo: 36.97\n",
      "------------------------------\n",
      "Coluna: Num_Credit_Inquiries\n",
      "Mínimo: 0.0\n",
      "Máximo: 2594.0\n",
      "------------------------------\n",
      "Coluna: Outstanding_Debt\n",
      "Mínimo: 0.23\n",
      "Máximo: 4998.07\n",
      "------------------------------\n",
      "Coluna: Credit_Utilization_Ratio\n",
      "Mínimo: 20.0\n",
      "Máximo: 50.00000000000001\n",
      "------------------------------\n",
      "Coluna: Total_EMI_per_month\n",
      "Mínimo: 0.0\n",
      "Máximo: 82331.0\n",
      "------------------------------\n",
      "Coluna: Amount_invested_monthly\n",
      "Mínimo: 0.0\n",
      "Máximo: 10000.0\n",
      "------------------------------\n",
      "Coluna: Monthly_Balance\n",
      "Mínimo: -3.333333333333333e+26\n",
      "Máximo: 1602.0405189622518\n",
      "------------------------------\n"
     ]
    }
   ],
   "source": [
    "# Demonstração dos outliers\n",
    "\n",
    "for col in X_train.columns:\n",
    "    # Verificando se a coluna é numérica\n",
    "    if X_train[col].dtype in ['int64', 'float64']:\n",
    "        # Exibindo o valor mínimo e máximo para cada coluna numérica\n",
    "        print(f'Coluna: {col}')\n",
    "        print(f'Mínimo: {X_train[col].min()}')\n",
    "        print(f'Máximo: {X_train[col].max()}')\n",
    "        print('-' * 30)"
   ]
  },
  {
   "cell_type": "code",
   "execution_count": 12,
   "id": "915e4650-46e3-4ec7-9f93-e87b5ce8673a",
   "metadata": {},
   "outputs": [],
   "source": [
    "def treat_outliers(df):\n",
    "    # Selecionando todas as colunas numéricas\n",
    "    numeric_cols = df.select_dtypes(include=['int64', 'float64']).columns\n",
    "    \n",
    "    for col in numeric_cols:\n",
    "        # Calculando os percentis 1 e 99\n",
    "        p1 = np.percentile(df[col], q=1)\n",
    "        p99 = np.percentile(df[col], q=99)\n",
    "        \n",
    "        # Garantir que os percentis sejam do mesmo tipo da coluna\n",
    "        dtype_col = df[col].dtype\n",
    "        \n",
    "        # Substituindo os valores menores que o percentil 1 pelo próprio percentil 1\n",
    "        df.loc[df[col] < p1, col] = dtype_col.type(p1)\n",
    "        # Substituindo os valores maiores que o percentil 99 pelo próprio percentil 99\n",
    "        df.loc[df[col] > p99, col] = dtype_col.type(p99)\n",
    "    \n",
    "    return df"
   ]
  },
  {
   "cell_type": "code",
   "execution_count": 13,
   "id": "e458c734-2951-4ae7-820b-4bad759ad6f4",
   "metadata": {},
   "outputs": [],
   "source": [
    "# Aplicando a função nos dados de treino e de teste\n",
    "\n",
    "X_train = treat_outliers(X_train)\n",
    "X_test = treat_outliers(X_train)"
   ]
  },
  {
   "cell_type": "code",
   "execution_count": 14,
   "id": "2c7b7c61-f593-4183-a9e6-435fa987fbf9",
   "metadata": {},
   "outputs": [
    {
     "name": "stdout",
     "output_type": "stream",
     "text": [
      "Coluna: Age\n",
      "Mínimo: 14\n",
      "Máximo: 4135\n",
      "------------------------------\n",
      "Coluna: Annual_Income\n",
      "Mínimo: 7531.855\n",
      "Máximo: 179994.47017199246\n",
      "------------------------------\n",
      "Coluna: Monthly_Inhand_Salary\n",
      "Mínimo: 303.6454166666666\n",
      "Máximo: 15204.633333333331\n",
      "------------------------------\n",
      "Coluna: Num_Bank_Accounts\n",
      "Mínimo: 0\n",
      "Máximo: 442\n",
      "------------------------------\n",
      "Coluna: Num_Credit_Card\n",
      "Mínimo: 1\n",
      "Máximo: 847\n",
      "------------------------------\n",
      "Coluna: Interest_Rate\n",
      "Mínimo: 1\n",
      "Máximo: 2874\n",
      "------------------------------\n",
      "Coluna: Num_of_Loan\n",
      "Mínimo: -100\n",
      "Máximo: 9\n",
      "------------------------------\n",
      "Coluna: Changed_Credit_Limit\n",
      "Mínimo: -6.49\n",
      "Máximo: 36.97\n",
      "------------------------------\n",
      "Coluna: Num_Credit_Inquiries\n",
      "Mínimo: 0.0\n",
      "Máximo: 2594.0\n",
      "------------------------------\n",
      "Coluna: Outstanding_Debt\n",
      "Mínimo: 25.78\n",
      "Máximo: 4809.550168\n",
      "------------------------------\n",
      "Coluna: Credit_Utilization_Ratio\n",
      "Mínimo: 22.74693297281844\n",
      "Máximo: 42.460768733718616\n",
      "------------------------------\n",
      "Coluna: Total_EMI_per_month\n",
      "Mínimo: 0.0\n",
      "Máximo: 56654.004799999995\n",
      "------------------------------\n",
      "Coluna: Amount_invested_monthly\n",
      "Mínimo: 0.0\n",
      "Máximo: 10000.0\n",
      "------------------------------\n",
      "Coluna: Monthly_Balance\n",
      "Mínimo: -3.333333333333333e+26\n",
      "Máximo: 1602.0405189622518\n",
      "------------------------------\n"
     ]
    }
   ],
   "source": [
    "# Checagem\n",
    "\n",
    "for col in X_train.columns:\n",
    "    # Verificando se a coluna é numérica\n",
    "    if X_train[col].dtype in ['int64', 'float64']:\n",
    "        # Exibindo o valor mínimo e máximo para cada coluna numérica\n",
    "        print(f'Coluna: {col}')\n",
    "        print(f'Mínimo: {X_train[col].min()}')\n",
    "        print(f'Máximo: {X_train[col].max()}')\n",
    "        print('-' * 30)"
   ]
  },
  {
   "cell_type": "code",
   "execution_count": 15,
   "id": "61b335b9-06b4-4b47-8284-129e1dfeac3e",
   "metadata": {},
   "outputs": [],
   "source": [
    "# Tratamento extra para a variável de idade\n",
    "\n",
    "X_train.loc[X_train['Age'] > 100, 'Age'] = np.nan\n",
    "X_test.loc[X_test['Age'] > 100, 'Age'] = np.nan"
   ]
  },
  {
   "cell_type": "code",
   "execution_count": 16,
   "id": "bd1b71bd-8c56-4c39-aff2-c2071da2a65d",
   "metadata": {},
   "outputs": [
    {
     "name": "stdout",
     "output_type": "stream",
     "text": [
      "Idade mínima: 14.0\n",
      "Idade mínima: 99.0\n"
     ]
    }
   ],
   "source": [
    "print(f'Idade mínima: {X_train['Age'].min()}')\n",
    "print(f'Idade mínima: {X_train['Age'].max()}')"
   ]
  },
  {
   "cell_type": "markdown",
   "id": "3aa319bd-d6ee-4466-8d39-e1ec62dcc074",
   "metadata": {},
   "source": [
    "# 2. Pipeline de transformação"
   ]
  },
  {
   "cell_type": "code",
   "execution_count": 17,
   "id": "644874c9-9d6b-4a1c-af71-f527baa1420a",
   "metadata": {},
   "outputs": [],
   "source": [
    "# Scalers e encoders"
   ]
  }
 ],
 "metadata": {
  "kernelspec": {
   "display_name": "Python 3 (ipykernel)",
   "language": "python",
   "name": "python3"
  },
  "language_info": {
   "codemirror_mode": {
    "name": "ipython",
    "version": 3
   },
   "file_extension": ".py",
   "mimetype": "text/x-python",
   "name": "python",
   "nbconvert_exporter": "python",
   "pygments_lexer": "ipython3",
   "version": "3.12.3"
  }
 },
 "nbformat": 4,
 "nbformat_minor": 5
}
